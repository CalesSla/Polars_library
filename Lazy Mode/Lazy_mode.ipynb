{
  "nbformat": 4,
  "nbformat_minor": 0,
  "metadata": {
    "colab": {
      "provenance": []
    },
    "kernelspec": {
      "name": "python3",
      "display_name": "Python 3"
    },
    "language_info": {
      "name": "python"
    }
  },
  "cells": [
    {
      "cell_type": "markdown",
      "source": [
        "# Lazy mode\n",
        "\n",
        "Lazy mode is the key reason why polars is so fast. Since data analysis often involves multiple steps we call a full set of steps a query:\n",
        "* Loading data from an internal/external source\n",
        "* Data transformation\n",
        "* Grouping\n",
        "* Feature extraction\n",
        "...\n",
        "\n",
        "Although most steps can be performed step by step in an eager mod (the typical pandas approach), it involves certain disadvantages:\n",
        "* Each line of code is not aware of what the others are doing.\n",
        "* Each line of code requires a copy of the full dataframe.\n",
        "\n",
        "In contrast, an integrated query in the lazy mode is a polars alternative and can identigy efficiencies, minimize memory usage and produce a single centralized output.\n",
        "\n",
        "#### To summarize:\n",
        "**Eager mode:** Runs each line of code as soon as it is encountered\n",
        "\n",
        "**Lazy mode:** each line is added to a query plan and the query plan is optimized internally."
      ],
      "metadata": {
        "id": "4PqdetX6fffO"
      }
    },
    {
      "cell_type": "code",
      "source": [
        "import polars as pl\n",
        "\n",
        "csv_file = 'Titanic.csv'"
      ],
      "metadata": {
        "id": "C0UNwS7ofvKj"
      },
      "execution_count": null,
      "outputs": []
    },
    {
      "cell_type": "markdown",
      "source": [
        "When dataframe is read in an eager mode, we get a **DataFrame** as a result."
      ],
      "metadata": {
        "id": "_MZ1PwX4fvM_"
      }
    },
    {
      "cell_type": "code",
      "source": [
        "dfEager = pl.read_csv(csv_file)"
      ],
      "metadata": {
        "id": "pEzcWdUkhrbE"
      },
      "execution_count": null,
      "outputs": []
    },
    {
      "cell_type": "markdown",
      "source": [
        "Alternatively, when we scan a csv file in a lazy mode we get a **LazyFrame** as a result."
      ],
      "metadata": {
        "id": "RSQHkbEzhrdw"
      }
    },
    {
      "cell_type": "code",
      "source": [
        "dfLazy = pl.scan_csv(csv_file)"
      ],
      "metadata": {
        "id": "WWT0Pi9hhrf3"
      },
      "execution_count": null,
      "outputs": []
    },
    {
      "cell_type": "code",
      "source": [
        "# Compare the types of the dataframe structures. They are different.\n",
        "\n",
        "print(type(dfEager))\n",
        "print(type(dfLazy))"
      ],
      "metadata": {
        "colab": {
          "base_uri": "https://localhost:8080/"
        },
        "id": "XY5566LOhrh2",
        "outputId": "59120c02-54e5-4aeb-b1c3-6385e178e569"
      },
      "execution_count": null,
      "outputs": [
        {
          "output_type": "stream",
          "name": "stdout",
          "text": [
            "<class 'polars.dataframe.frame.DataFrame'>\n",
            "<class 'polars.lazyframe.frame.LazyFrame'>\n"
          ]
        }
      ]
    },
    {
      "cell_type": "markdown",
      "source": [
        "### DataFrame vs LazyFrame comparison\n",
        "\n",
        "The typical DataFrame returns the data while the LazyFrame returns a query plan, which will be executed once the LazyFrame is called.\n",
        "\n",
        "In other words when you do changes to the DataFrame it directly updates the data, while the LazyFrame updates the query plan."
      ],
      "metadata": {
        "id": "EzSjq2iMhrj9"
      }
    },
    {
      "cell_type": "code",
      "source": [
        "# Data\n",
        "\n",
        "dfEager.head(3)"
      ],
      "metadata": {
        "colab": {
          "base_uri": "https://localhost:8080/",
          "height": 192
        },
        "id": "xCQzVCWkipu9",
        "outputId": "88bc0525-e603-4fdd-e130-03e5969a509b"
      },
      "execution_count": null,
      "outputs": [
        {
          "output_type": "execute_result",
          "data": {
            "text/plain": [
              "shape: (3, 12)\n",
              "┌─────────────┬──────────┬────────┬───────────────────┬───┬───────────┬─────────┬───────┬──────────┐\n",
              "│ PassengerId ┆ Survived ┆ Pclass ┆ Name              ┆ … ┆ Ticket    ┆ Fare    ┆ Cabin ┆ Embarked │\n",
              "│ ---         ┆ ---      ┆ ---    ┆ ---               ┆   ┆ ---       ┆ ---     ┆ ---   ┆ ---      │\n",
              "│ i64         ┆ i64      ┆ i64    ┆ str               ┆   ┆ str       ┆ f64     ┆ str   ┆ str      │\n",
              "╞═════════════╪══════════╪════════╪═══════════════════╪═══╪═══════════╪═════════╪═══════╪══════════╡\n",
              "│ 1           ┆ 0        ┆ 3      ┆ Braund, Mr. Owen  ┆ … ┆ A/5 21171 ┆ 7.25    ┆ null  ┆ S        │\n",
              "│             ┆          ┆        ┆ Harris            ┆   ┆           ┆         ┆       ┆          │\n",
              "│ 2           ┆ 1        ┆ 1      ┆ Cumings, Mrs.     ┆ … ┆ PC 17599  ┆ 71.2833 ┆ C85   ┆ C        │\n",
              "│             ┆          ┆        ┆ John Bradley      ┆   ┆           ┆         ┆       ┆          │\n",
              "│             ┆          ┆        ┆ (Flor…            ┆   ┆           ┆         ┆       ┆          │\n",
              "│ 3           ┆ 1        ┆ 3      ┆ Heikkinen, Miss.  ┆ … ┆ STON/O2.  ┆ 7.925   ┆ null  ┆ S        │\n",
              "│             ┆          ┆        ┆ Laina             ┆   ┆ 3101282   ┆         ┆       ┆          │\n",
              "└─────────────┴──────────┴────────┴───────────────────┴───┴───────────┴─────────┴───────┴──────────┘"
            ],
            "text/html": [
              "<div><style>\n",
              ".dataframe > thead > tr > th,\n",
              ".dataframe > tbody > tr > td {\n",
              "  text-align: right;\n",
              "}\n",
              "</style>\n",
              "<small>shape: (3, 12)</small><table border=\"1\" class=\"dataframe\"><thead><tr><th>PassengerId</th><th>Survived</th><th>Pclass</th><th>Name</th><th>Sex</th><th>Age</th><th>SibSp</th><th>Parch</th><th>Ticket</th><th>Fare</th><th>Cabin</th><th>Embarked</th></tr><tr><td>i64</td><td>i64</td><td>i64</td><td>str</td><td>str</td><td>f64</td><td>i64</td><td>i64</td><td>str</td><td>f64</td><td>str</td><td>str</td></tr></thead><tbody><tr><td>1</td><td>0</td><td>3</td><td>&quot;Braund, Mr. Ow…</td><td>&quot;male&quot;</td><td>22.0</td><td>1</td><td>0</td><td>&quot;A/5 21171&quot;</td><td>7.25</td><td>null</td><td>&quot;S&quot;</td></tr><tr><td>2</td><td>1</td><td>1</td><td>&quot;Cumings, Mrs. …</td><td>&quot;female&quot;</td><td>38.0</td><td>1</td><td>0</td><td>&quot;PC 17599&quot;</td><td>71.2833</td><td>&quot;C85&quot;</td><td>&quot;C&quot;</td></tr><tr><td>3</td><td>1</td><td>3</td><td>&quot;Heikkinen, Mis…</td><td>&quot;female&quot;</td><td>26.0</td><td>0</td><td>0</td><td>&quot;STON/O2. 31012…</td><td>7.925</td><td>null</td><td>&quot;S&quot;</td></tr></tbody></table></div>"
            ]
          },
          "metadata": {},
          "execution_count": 14
        }
      ]
    },
    {
      "cell_type": "code",
      "source": [
        "# Query plan\n",
        "\n",
        "dfLazy"
      ],
      "metadata": {
        "colab": {
          "base_uri": "https://localhost:8080/",
          "height": 168
        },
        "id": "0Hjw-XIlipyb",
        "outputId": "f905eb97-10a5-4adf-a6c3-45342e0af6c5"
      },
      "execution_count": null,
      "outputs": [
        {
          "output_type": "execute_result",
          "data": {
            "text/plain": [
              "<polars.LazyFrame object at 0x7F9317733F70>"
            ],
            "text/html": [
              "<h4>NAIVE QUERY PLAN</h4><p>run <b>LazyFrame.show_graph()</b> to see the optimized version</p><?xml version=\"1.0\" encoding=\"UTF-8\" standalone=\"no\"?>\n",
              "<!DOCTYPE svg PUBLIC \"-//W3C//DTD SVG 1.1//EN\"\n",
              " \"http://www.w3.org/Graphics/SVG/1.1/DTD/svg11.dtd\">\n",
              "<!-- Generated by graphviz version 2.43.0 (0)\n",
              " -->\n",
              "<!-- Title: polars_query Pages: 1 -->\n",
              "<svg width=\"162pt\" height=\"61pt\"\n",
              " viewBox=\"0.00 0.00 162.00 61.00\" xmlns=\"http://www.w3.org/2000/svg\" xmlns:xlink=\"http://www.w3.org/1999/xlink\">\n",
              "<g id=\"graph0\" class=\"graph\" transform=\"scale(1 1) rotate(0) translate(4 57)\">\n",
              "<title>polars_query</title>\n",
              "<polygon fill=\"white\" stroke=\"transparent\" points=\"-4,4 -4,-57 158,-57 158,4 -4,4\"/>\n",
              "<!-- [CSV SCAN Titanic.csv;\n",
              "π */12;\n",
              "σ &#45;] -->\n",
              "<g id=\"node1\" class=\"node\">\n",
              "<title>[CSV SCAN Titanic.csv;\n",
              "π */12;\n",
              "σ &#45;]</title>\n",
              "<polygon fill=\"none\" stroke=\"black\" points=\"154,-53 0,-53 0,0 154,0 154,-53\"/>\n",
              "<text text-anchor=\"middle\" x=\"77\" y=\"-37.8\" font-family=\"Times,serif\" font-size=\"14.00\">[CSV SCAN Titanic.csv;</text>\n",
              "<text text-anchor=\"middle\" x=\"77\" y=\"-22.8\" font-family=\"Times,serif\" font-size=\"14.00\">π */12;</text>\n",
              "<text text-anchor=\"middle\" x=\"77\" y=\"-7.8\" font-family=\"Times,serif\" font-size=\"14.00\">σ &#45;]</text>\n",
              "</g>\n",
              "</g>\n",
              "</svg>\n"
            ]
          },
          "metadata": {},
          "execution_count": 15
        }
      ]
    },
    {
      "cell_type": "markdown",
      "source": [
        "The query plan is passed to a query optimizer instead of being directly executed. The plan itself can be examined with the following command."
      ],
      "metadata": {
        "id": "3KBZ8Z1Bip2q"
      }
    },
    {
      "cell_type": "code",
      "source": [
        "print(dfLazy.describe_optimized_plan())"
      ],
      "metadata": {
        "colab": {
          "base_uri": "https://localhost:8080/"
        },
        "id": "5rIv9vbfip59",
        "outputId": "746a09e0-1d10-4c96-f4d4-f581bfdc3284"
      },
      "execution_count": null,
      "outputs": [
        {
          "output_type": "stream",
          "name": "stdout",
          "text": [
            "\n",
            "  CSV SCAN Titanic.csv\n",
            "  PROJECT */12 COLUMNS\n"
          ]
        }
      ]
    },
    {
      "cell_type": "markdown",
      "source": [
        "### Query optimizations overview\n",
        "\n",
        "Most query optimizations can be implemented manually by us if the query is build in an optimal way and we are aware that the optimization exists. Therefore, the three main components of an optimized query are:\n",
        "\n",
        " * Knowledge of the optimization\n",
        " * Remeber to implement the optimization\n",
        " * Implement the optimization correctly\n",
        "\n",
        "Polars optimizations include:\n",
        "\n",
        "\n",
        " * Projection pushdown - limit the number of columns read to those required\n",
        " * Predicate pushdown - apply filter conditions as early as possible\n",
        " * Slice pushdown - limit rows processed when limited rows are required\n",
        " * Combine predicated - combine multiple filter conditions\n",
        " * Common subplan elimination - combine duplicated transformations"
      ],
      "metadata": {
        "id": "ZYGp5Qtwip-d"
      }
    },
    {
      "cell_type": "markdown",
      "source": [
        "## Switching between a DataFrame and a LazyFrame\n",
        "\n",
        "At some point when the LazyFrame was evaluated it might be beneficial to switch to a DataFrame for convenience and further analysis. To do so, we can trigger an evaluation of a LazyFrame to a DataFrame by simply using the collect() method:"
      ],
      "metadata": {
        "id": "FNMgN6xGiqB5"
      }
    },
    {
      "cell_type": "code",
      "source": [
        "dfLazy.collect().head()"
      ],
      "metadata": {
        "id": "9nIb7CghhrmX",
        "colab": {
          "base_uri": "https://localhost:8080/",
          "height": 255
        },
        "outputId": "ef7e7136-4538-4a1b-b05c-775b4cc72955"
      },
      "execution_count": null,
      "outputs": [
        {
          "output_type": "execute_result",
          "data": {
            "text/plain": [
              "shape: (5, 12)\n",
              "┌─────────────┬──────────┬────────┬───────────────────┬───┬───────────┬─────────┬───────┬──────────┐\n",
              "│ PassengerId ┆ Survived ┆ Pclass ┆ Name              ┆ … ┆ Ticket    ┆ Fare    ┆ Cabin ┆ Embarked │\n",
              "│ ---         ┆ ---      ┆ ---    ┆ ---               ┆   ┆ ---       ┆ ---     ┆ ---   ┆ ---      │\n",
              "│ i64         ┆ i64      ┆ i64    ┆ str               ┆   ┆ str       ┆ f64     ┆ str   ┆ str      │\n",
              "╞═════════════╪══════════╪════════╪═══════════════════╪═══╪═══════════╪═════════╪═══════╪══════════╡\n",
              "│ 1           ┆ 0        ┆ 3      ┆ Braund, Mr. Owen  ┆ … ┆ A/5 21171 ┆ 7.25    ┆ null  ┆ S        │\n",
              "│             ┆          ┆        ┆ Harris            ┆   ┆           ┆         ┆       ┆          │\n",
              "│ 2           ┆ 1        ┆ 1      ┆ Cumings, Mrs.     ┆ … ┆ PC 17599  ┆ 71.2833 ┆ C85   ┆ C        │\n",
              "│             ┆          ┆        ┆ John Bradley      ┆   ┆           ┆         ┆       ┆          │\n",
              "│             ┆          ┆        ┆ (Flor…            ┆   ┆           ┆         ┆       ┆          │\n",
              "│ 3           ┆ 1        ┆ 3      ┆ Heikkinen, Miss.  ┆ … ┆ STON/O2.  ┆ 7.925   ┆ null  ┆ S        │\n",
              "│             ┆          ┆        ┆ Laina             ┆   ┆ 3101282   ┆         ┆       ┆          │\n",
              "│ 4           ┆ 1        ┆ 1      ┆ Futrelle, Mrs.    ┆ … ┆ 113803    ┆ 53.1    ┆ C123  ┆ S        │\n",
              "│             ┆          ┆        ┆ Jacques Heath     ┆   ┆           ┆         ┆       ┆          │\n",
              "│             ┆          ┆        ┆ (Li…              ┆   ┆           ┆         ┆       ┆          │\n",
              "│ 5           ┆ 0        ┆ 3      ┆ Allen, Mr.        ┆ … ┆ 373450    ┆ 8.05    ┆ null  ┆ S        │\n",
              "│             ┆          ┆        ┆ William Henry     ┆   ┆           ┆         ┆       ┆          │\n",
              "└─────────────┴──────────┴────────┴───────────────────┴───┴───────────┴─────────┴───────┴──────────┘"
            ],
            "text/html": [
              "<div><style>\n",
              ".dataframe > thead > tr > th,\n",
              ".dataframe > tbody > tr > td {\n",
              "  text-align: right;\n",
              "}\n",
              "</style>\n",
              "<small>shape: (5, 12)</small><table border=\"1\" class=\"dataframe\"><thead><tr><th>PassengerId</th><th>Survived</th><th>Pclass</th><th>Name</th><th>Sex</th><th>Age</th><th>SibSp</th><th>Parch</th><th>Ticket</th><th>Fare</th><th>Cabin</th><th>Embarked</th></tr><tr><td>i64</td><td>i64</td><td>i64</td><td>str</td><td>str</td><td>f64</td><td>i64</td><td>i64</td><td>str</td><td>f64</td><td>str</td><td>str</td></tr></thead><tbody><tr><td>1</td><td>0</td><td>3</td><td>&quot;Braund, Mr. Ow…</td><td>&quot;male&quot;</td><td>22.0</td><td>1</td><td>0</td><td>&quot;A/5 21171&quot;</td><td>7.25</td><td>null</td><td>&quot;S&quot;</td></tr><tr><td>2</td><td>1</td><td>1</td><td>&quot;Cumings, Mrs. …</td><td>&quot;female&quot;</td><td>38.0</td><td>1</td><td>0</td><td>&quot;PC 17599&quot;</td><td>71.2833</td><td>&quot;C85&quot;</td><td>&quot;C&quot;</td></tr><tr><td>3</td><td>1</td><td>3</td><td>&quot;Heikkinen, Mis…</td><td>&quot;female&quot;</td><td>26.0</td><td>0</td><td>0</td><td>&quot;STON/O2. 31012…</td><td>7.925</td><td>null</td><td>&quot;S&quot;</td></tr><tr><td>4</td><td>1</td><td>1</td><td>&quot;Futrelle, Mrs.…</td><td>&quot;female&quot;</td><td>35.0</td><td>1</td><td>0</td><td>&quot;113803&quot;</td><td>53.1</td><td>&quot;C123&quot;</td><td>&quot;S&quot;</td></tr><tr><td>5</td><td>0</td><td>3</td><td>&quot;Allen, Mr. Wil…</td><td>&quot;male&quot;</td><td>35.0</td><td>0</td><td>0</td><td>&quot;373450&quot;</td><td>8.05</td><td>null</td><td>&quot;S&quot;</td></tr></tbody></table></div>"
            ]
          },
          "metadata": {},
          "execution_count": 17
        }
      ]
    },
    {
      "cell_type": "markdown",
      "source": [
        "Alternatively, a partial evaluation is also available, which ewssentially triggers evaluation of a limited number of rows. It can be done by using the fetch() method (instead of collect()). In general, the collect method is preferable while fetch is useful for development and debugging if you want to avoid running a full query on a large dataset."
      ],
      "metadata": {
        "id": "W4Fu8NEtHJrS"
      }
    },
    {
      "cell_type": "code",
      "source": [
        "dfLazy.fetch(3)"
      ],
      "metadata": {
        "colab": {
          "base_uri": "https://localhost:8080/",
          "height": 192
        },
        "id": "Rj4K_KlUHo6x",
        "outputId": "e2e833b9-0187-4e9e-b7a2-0c558b64e675"
      },
      "execution_count": null,
      "outputs": [
        {
          "output_type": "execute_result",
          "data": {
            "text/plain": [
              "shape: (3, 12)\n",
              "┌─────────────┬──────────┬────────┬───────────────────┬───┬───────────┬─────────┬───────┬──────────┐\n",
              "│ PassengerId ┆ Survived ┆ Pclass ┆ Name              ┆ … ┆ Ticket    ┆ Fare    ┆ Cabin ┆ Embarked │\n",
              "│ ---         ┆ ---      ┆ ---    ┆ ---               ┆   ┆ ---       ┆ ---     ┆ ---   ┆ ---      │\n",
              "│ i64         ┆ i64      ┆ i64    ┆ str               ┆   ┆ str       ┆ f64     ┆ str   ┆ str      │\n",
              "╞═════════════╪══════════╪════════╪═══════════════════╪═══╪═══════════╪═════════╪═══════╪══════════╡\n",
              "│ 1           ┆ 0        ┆ 3      ┆ Braund, Mr. Owen  ┆ … ┆ A/5 21171 ┆ 7.25    ┆ null  ┆ S        │\n",
              "│             ┆          ┆        ┆ Harris            ┆   ┆           ┆         ┆       ┆          │\n",
              "│ 2           ┆ 1        ┆ 1      ┆ Cumings, Mrs.     ┆ … ┆ PC 17599  ┆ 71.2833 ┆ C85   ┆ C        │\n",
              "│             ┆          ┆        ┆ John Bradley      ┆   ┆           ┆         ┆       ┆          │\n",
              "│             ┆          ┆        ┆ (Flor…            ┆   ┆           ┆         ┆       ┆          │\n",
              "│ 3           ┆ 1        ┆ 3      ┆ Heikkinen, Miss.  ┆ … ┆ STON/O2.  ┆ 7.925   ┆ null  ┆ S        │\n",
              "│             ┆          ┆        ┆ Laina             ┆   ┆ 3101282   ┆         ┆       ┆          │\n",
              "└─────────────┴──────────┴────────┴───────────────────┴───┴───────────┴─────────┴───────┴──────────┘"
            ],
            "text/html": [
              "<div><style>\n",
              ".dataframe > thead > tr > th,\n",
              ".dataframe > tbody > tr > td {\n",
              "  text-align: right;\n",
              "}\n",
              "</style>\n",
              "<small>shape: (3, 12)</small><table border=\"1\" class=\"dataframe\"><thead><tr><th>PassengerId</th><th>Survived</th><th>Pclass</th><th>Name</th><th>Sex</th><th>Age</th><th>SibSp</th><th>Parch</th><th>Ticket</th><th>Fare</th><th>Cabin</th><th>Embarked</th></tr><tr><td>i64</td><td>i64</td><td>i64</td><td>str</td><td>str</td><td>f64</td><td>i64</td><td>i64</td><td>str</td><td>f64</td><td>str</td><td>str</td></tr></thead><tbody><tr><td>1</td><td>0</td><td>3</td><td>&quot;Braund, Mr. Ow…</td><td>&quot;male&quot;</td><td>22.0</td><td>1</td><td>0</td><td>&quot;A/5 21171&quot;</td><td>7.25</td><td>null</td><td>&quot;S&quot;</td></tr><tr><td>2</td><td>1</td><td>1</td><td>&quot;Cumings, Mrs. …</td><td>&quot;female&quot;</td><td>38.0</td><td>1</td><td>0</td><td>&quot;PC 17599&quot;</td><td>71.2833</td><td>&quot;C85&quot;</td><td>&quot;C&quot;</td></tr><tr><td>3</td><td>1</td><td>3</td><td>&quot;Heikkinen, Mis…</td><td>&quot;female&quot;</td><td>26.0</td><td>0</td><td>0</td><td>&quot;STON/O2. 31012…</td><td>7.925</td><td>null</td><td>&quot;S&quot;</td></tr></tbody></table></div>"
            ]
          },
          "metadata": {},
          "execution_count": 22
        }
      ]
    },
    {
      "cell_type": "markdown",
      "source": [
        "When you want to save intermediate values from a query, it might be useful to translate a LazyFrame into a DataFrame (inverse transformation). Also, out query can have a transformation that can only be done in eager mode. One example of this is doing a pivot, which cannot be done with a LazyFrame as the values need to be known ahead of time. The conversion from DataFrame to LazyFrame is straightforward:"
      ],
      "metadata": {
        "id": "8GjSpVCEHo8k"
      }
    },
    {
      "cell_type": "code",
      "source": [
        "dfLazyConverted = dfEager.lazy()"
      ],
      "metadata": {
        "id": "dFZCK8zhHo-1"
      },
      "execution_count": null,
      "outputs": []
    },
    {
      "cell_type": "code",
      "source": [],
      "metadata": {
        "id": "8TmaeIkwHpA-"
      },
      "execution_count": null,
      "outputs": []
    },
    {
      "cell_type": "code",
      "source": [],
      "metadata": {
        "id": "JYyCdewoHpDI"
      },
      "execution_count": null,
      "outputs": []
    }
  ]
}