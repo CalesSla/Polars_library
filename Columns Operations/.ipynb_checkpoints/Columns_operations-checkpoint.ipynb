{
 "cells": [
  {
   "cell_type": "markdown",
   "metadata": {
    "id": "4cIWeR_5avEm"
   },
   "source": [
    "### [ ] Column indexing\n",
    "\n",
    "The traditional pandas [] column indexing is also possible in polars. The output depends on whether a single or a double set of square brackets is used.\n",
    "* [] - outputs a Series\n",
    "* [[ ]] - outputs a DataFrame"
   ]
  },
  {
   "cell_type": "code",
   "execution_count": null,
   "metadata": {
    "colab": {
     "base_uri": "https://localhost:8080/",
     "height": 192
    },
    "id": "NyaDS0GpbaYP",
    "outputId": "124e3b82-9cf8-405f-e284-75c46f8f3fbb"
   },
   "outputs": [],
   "source": [
    "import polars as pl\n",
    "\n",
    "csv_file = 'Titanic.csv'\n",
    "\n",
    "df = pl.read_csv(csv_file)\n",
    "df.head(3)"
   ]
  },
  {
   "cell_type": "code",
   "execution_count": null,
   "metadata": {
    "colab": {
     "base_uri": "https://localhost:8080/",
     "height": 192
    },
    "id": "vERJjtuQbabv",
    "outputId": "9a2e6f28-8cbd-4060-f2c5-e1da144eb4ba"
   },
   "outputs": [
    {
     "data": {
      "text/html": [
       "<div><style>\n",
       ".dataframe > thead > tr > th,\n",
       ".dataframe > tbody > tr > td {\n",
       "  text-align: right;\n",
       "}\n",
       "</style>\n",
       "<small>shape: (3,)</small><table border=\"1\" class=\"dataframe\"><thead><tr><th>Age</th></tr><tr><td>f64</td></tr></thead><tbody><tr><td>22.0</td></tr><tr><td>38.0</td></tr><tr><td>26.0</td></tr></tbody></table></div>"
      ],
      "text/plain": [
       "shape: (3,)\n",
       "Series: 'Age' [f64]\n",
       "[\n",
       "\t22.0\n",
       "\t38.0\n",
       "\t26.0\n",
       "]"
      ]
     },
     "execution_count": 5,
     "metadata": {},
     "output_type": "execute_result"
    }
   ],
   "source": [
    "# A Series output\n",
    "\n",
    "df['Age'].head(3)"
   ]
  },
  {
   "cell_type": "code",
   "execution_count": null,
   "metadata": {
    "colab": {
     "base_uri": "https://localhost:8080/",
     "height": 192
    },
    "id": "FaNZc2-sbaeK",
    "outputId": "89423f6b-141b-4dc5-e8c2-68a8c7e4a24a"
   },
   "outputs": [
    {
     "data": {
      "text/html": [
       "<div><style>\n",
       ".dataframe > thead > tr > th,\n",
       ".dataframe > tbody > tr > td {\n",
       "  text-align: right;\n",
       "}\n",
       "</style>\n",
       "<small>shape: (3, 2)</small><table border=\"1\" class=\"dataframe\"><thead><tr><th>Survived</th><th>Age</th></tr><tr><td>i64</td><td>f64</td></tr></thead><tbody><tr><td>0</td><td>22.0</td></tr><tr><td>1</td><td>38.0</td></tr><tr><td>1</td><td>26.0</td></tr></tbody></table></div>"
      ],
      "text/plain": [
       "shape: (3, 2)\n",
       "┌──────────┬──────┐\n",
       "│ Survived ┆ Age  │\n",
       "│ ---      ┆ ---  │\n",
       "│ i64      ┆ f64  │\n",
       "╞══════════╪══════╡\n",
       "│ 0        ┆ 22.0 │\n",
       "│ 1        ┆ 38.0 │\n",
       "│ 1        ┆ 26.0 │\n",
       "└──────────┴──────┘"
      ]
     },
     "execution_count": 6,
     "metadata": {},
     "output_type": "execute_result"
    }
   ],
   "source": [
    "# A DataFrame output\n",
    "\n",
    "df[['Survived', 'Age']].head(3)"
   ]
  },
  {
   "cell_type": "markdown",
   "metadata": {
    "id": "U2sDgs9ubakj"
   },
   "source": [
    "### Simultaneous rows and columns selection\n",
    "\n",
    "Unlike pandas, polars supports simultaneous rows and columns selection with [ ] synthax. It interprets the values provided in square brackets as a tuple. For example:"
   ]
  },
  {
   "cell_type": "code",
   "execution_count": null,
   "metadata": {
    "colab": {
     "base_uri": "https://localhost:8080/"
    },
    "id": "fxZmjZGEbawx",
    "outputId": "f0223a51-730e-42a7-fe32-e333ee1d576e"
   },
   "outputs": [
    {
     "data": {
      "text/plain": [
       "22.0"
      ]
     },
     "execution_count": 7,
     "metadata": {},
     "output_type": "execute_result"
    }
   ],
   "source": [
    "# Retrun the value of the first row of the Age column\n",
    "\n",
    "df[0, \"Age\"]"
   ]
  },
  {
   "cell_type": "code",
   "execution_count": null,
   "metadata": {
    "colab": {
     "base_uri": "https://localhost:8080/"
    },
    "id": "qJPS5Gx_dbZt",
    "outputId": "b9c006a3-5c4f-45fc-9803-41e4707c025e"
   },
   "outputs": [
    {
     "data": {
      "text/plain": [
       "22.0"
      ]
     },
     "execution_count": 8,
     "metadata": {},
     "output_type": "execute_result"
    }
   ],
   "source": [
    "# We get similar results with a tuple\n",
    "df[(0, 'Age')]"
   ]
  },
  {
   "cell_type": "code",
   "execution_count": null,
   "metadata": {
    "colab": {
     "base_uri": "https://localhost:8080/",
     "height": 161
    },
    "id": "hC8_lkqUd-gI",
    "outputId": "847cb4a3-b06e-4b50-f0f7-ea9cbb7e8c78"
   },
   "outputs": [
    {
     "data": {
      "text/html": [
       "<div><style>\n",
       ".dataframe > thead > tr > th,\n",
       ".dataframe > tbody > tr > td {\n",
       "  text-align: right;\n",
       "}\n",
       "</style>\n",
       "<small>shape: (2, 2)</small><table border=\"1\" class=\"dataframe\"><thead><tr><th>Age</th><th>Fare</th></tr><tr><td>f64</td><td>f64</td></tr></thead><tbody><tr><td>22.0</td><td>7.25</td></tr><tr><td>38.0</td><td>71.2833</td></tr></tbody></table></div>"
      ],
      "text/plain": [
       "shape: (2, 2)\n",
       "┌──────┬─────────┐\n",
       "│ Age  ┆ Fare    │\n",
       "│ ---  ┆ ---     │\n",
       "│ f64  ┆ f64     │\n",
       "╞══════╪═════════╡\n",
       "│ 22.0 ┆ 7.25    │\n",
       "│ 38.0 ┆ 71.2833 │\n",
       "└──────┴─────────┘"
      ]
     },
     "execution_count": 9,
     "metadata": {},
     "output_type": "execute_result"
    }
   ],
   "source": [
    "# Rows and columns indexing\n",
    "\n",
    "df[[0, 1], ['Age', 'Fare']]"
   ]
  },
  {
   "cell_type": "markdown",
   "metadata": {
    "id": "DD1r93X_driN"
   },
   "source": [
    "The basic rules are as following:\n",
    "* if we pass just numeric values we get rows\n",
    "* if we pass just strings we get columns\n",
    "* if we pass a tuple like [numeric, string] we get rows and columns\n",
    "\n",
    "The numeric indexing for columns is also possible when we use a tuple:"
   ]
  },
  {
   "cell_type": "code",
   "execution_count": null,
   "metadata": {
    "colab": {
     "base_uri": "https://localhost:8080/",
     "height": 192
    },
    "id": "iXPqInM9eHY9",
    "outputId": "f5e63eaa-4159-40d0-d5c7-9a8974e075b3"
   },
   "outputs": [
    {
     "data": {
      "text/html": [
       "<div><style>\n",
       ".dataframe > thead > tr > th,\n",
       ".dataframe > tbody > tr > td {\n",
       "  text-align: right;\n",
       "}\n",
       "</style>\n",
       "<small>shape: (3, 5)</small><table border=\"1\" class=\"dataframe\"><thead><tr><th>Survived</th><th>Pclass</th><th>Name</th><th>Sex</th><th>Age</th></tr><tr><td>i64</td><td>i64</td><td>str</td><td>str</td><td>f64</td></tr></thead><tbody><tr><td>0</td><td>3</td><td>&quot;Braund, Mr. Ow…</td><td>&quot;male&quot;</td><td>22.0</td></tr><tr><td>1</td><td>1</td><td>&quot;Cumings, Mrs. …</td><td>&quot;female&quot;</td><td>38.0</td></tr><tr><td>1</td><td>3</td><td>&quot;Heikkinen, Mis…</td><td>&quot;female&quot;</td><td>26.0</td></tr></tbody></table></div>"
      ],
      "text/plain": [
       "shape: (3, 5)\n",
       "┌──────────┬────────┬───────────────────────────────────┬────────┬──────┐\n",
       "│ Survived ┆ Pclass ┆ Name                              ┆ Sex    ┆ Age  │\n",
       "│ ---      ┆ ---    ┆ ---                               ┆ ---    ┆ ---  │\n",
       "│ i64      ┆ i64    ┆ str                               ┆ str    ┆ f64  │\n",
       "╞══════════╪════════╪═══════════════════════════════════╪════════╪══════╡\n",
       "│ 0        ┆ 3      ┆ Braund, Mr. Owen Harris           ┆ male   ┆ 22.0 │\n",
       "│ 1        ┆ 1      ┆ Cumings, Mrs. John Bradley (Flor… ┆ female ┆ 38.0 │\n",
       "│ 1        ┆ 3      ┆ Heikkinen, Miss. Laina            ┆ female ┆ 26.0 │\n",
       "└──────────┴────────┴───────────────────────────────────┴────────┴──────┘"
      ]
     },
     "execution_count": 10,
     "metadata": {},
     "output_type": "execute_result"
    }
   ],
   "source": [
    "df[:, 1:6].head(3)"
   ]
  },
  {
   "cell_type": "markdown",
   "metadata": {
    "id": "w5jzXYtCeHdm"
   },
   "source": [
    "### Slicing\n",
    "\n",
    "Polars also suports slicing for both rows and columns dimensions."
   ]
  },
  {
   "cell_type": "code",
   "execution_count": null,
   "metadata": {
    "colab": {
     "base_uri": "https://localhost:8080/",
     "height": 161
    },
    "id": "BNL4ztpoduw8",
    "outputId": "141a695d-390f-4c3e-c56f-8b374009fc34"
   },
   "outputs": [
    {
     "data": {
      "text/html": [
       "<div><style>\n",
       ".dataframe > thead > tr > th,\n",
       ".dataframe > tbody > tr > td {\n",
       "  text-align: right;\n",
       "}\n",
       "</style>\n",
       "<small>shape: (2, 5)</small><table border=\"1\" class=\"dataframe\"><thead><tr><th>Survived</th><th>Pclass</th><th>Name</th><th>Sex</th><th>Age</th></tr><tr><td>i64</td><td>i64</td><td>str</td><td>str</td><td>f64</td></tr></thead><tbody><tr><td>0</td><td>3</td><td>&quot;Braund, Mr. Ow…</td><td>&quot;male&quot;</td><td>22.0</td></tr><tr><td>1</td><td>1</td><td>&quot;Cumings, Mrs. …</td><td>&quot;female&quot;</td><td>38.0</td></tr></tbody></table></div>"
      ],
      "text/plain": [
       "shape: (2, 5)\n",
       "┌──────────┬────────┬───────────────────────────────────┬────────┬──────┐\n",
       "│ Survived ┆ Pclass ┆ Name                              ┆ Sex    ┆ Age  │\n",
       "│ ---      ┆ ---    ┆ ---                               ┆ ---    ┆ ---  │\n",
       "│ i64      ┆ i64    ┆ str                               ┆ str    ┆ f64  │\n",
       "╞══════════╪════════╪═══════════════════════════════════╪════════╪══════╡\n",
       "│ 0        ┆ 3      ┆ Braund, Mr. Owen Harris           ┆ male   ┆ 22.0 │\n",
       "│ 1        ┆ 1      ┆ Cumings, Mrs. John Bradley (Flor… ┆ female ┆ 38.0 │\n",
       "└──────────┴────────┴───────────────────────────────────┴────────┴──────┘"
      ]
     },
     "execution_count": 11,
     "metadata": {},
     "output_type": "execute_result"
    }
   ],
   "source": [
    "df[:2, 'Survived': 'Age']"
   ]
  },
  {
   "cell_type": "markdown",
   "metadata": {
    "id": "NfYtEGwVduzn"
   },
   "source": [
    "### Column creationg with [ ] indexing\n",
    "\n",
    "In polars it is **NOT possible** to create a new column with [ ] indexing. Instead, we can use the with_column() method like in PySpark."
   ]
  },
  {
   "cell_type": "markdown",
   "metadata": {
    "id": "09MHhMD0n1jY"
   },
   "source": [
    "### Select method\n",
    "\n",
    "A more spark-like alternative is to use the .select method on a dataframe. The importand distinction is that the output of a Select statement is always a DataFrame rather than a Series even if a single column is selected."
   ]
  },
  {
   "cell_type": "code",
   "execution_count": null,
   "metadata": {
    "colab": {
     "base_uri": "https://localhost:8080/",
     "height": 192
    },
    "id": "V_sREKqXdu1s",
    "outputId": "9c660cec-cbe8-42ce-a2c1-0b9ba70c8dc0"
   },
   "outputs": [
    {
     "data": {
      "text/html": [
       "<div><style>\n",
       ".dataframe > thead > tr > th,\n",
       ".dataframe > tbody > tr > td {\n",
       "  text-align: right;\n",
       "}\n",
       "</style>\n",
       "<small>shape: (3, 1)</small><table border=\"1\" class=\"dataframe\"><thead><tr><th>Age</th></tr><tr><td>f64</td></tr></thead><tbody><tr><td>22.0</td></tr><tr><td>38.0</td></tr><tr><td>26.0</td></tr></tbody></table></div>"
      ],
      "text/plain": [
       "shape: (3, 1)\n",
       "┌──────┐\n",
       "│ Age  │\n",
       "│ ---  │\n",
       "│ f64  │\n",
       "╞══════╡\n",
       "│ 22.0 │\n",
       "│ 38.0 │\n",
       "│ 26.0 │\n",
       "└──────┘"
      ]
     },
     "execution_count": 12,
     "metadata": {},
     "output_type": "execute_result"
    }
   ],
   "source": [
    "df.select('Age').head(3)"
   ]
  },
  {
   "cell_type": "markdown",
   "metadata": {
    "id": "Dx_Qijrbc6jU"
   },
   "source": [
    "If a series is requires, we can use the to_series method explicitly. Notice the differnce in shape."
   ]
  },
  {
   "cell_type": "code",
   "execution_count": null,
   "metadata": {
    "colab": {
     "base_uri": "https://localhost:8080/",
     "height": 192
    },
    "id": "vLB-HlACdPzc",
    "outputId": "9e043b68-e488-4a10-988a-1eda91dc383b"
   },
   "outputs": [
    {
     "data": {
      "text/html": [
       "<div><style>\n",
       ".dataframe > thead > tr > th,\n",
       ".dataframe > tbody > tr > td {\n",
       "  text-align: right;\n",
       "}\n",
       "</style>\n",
       "<small>shape: (3,)</small><table border=\"1\" class=\"dataframe\"><thead><tr><th>Age</th></tr><tr><td>f64</td></tr></thead><tbody><tr><td>22.0</td></tr><tr><td>38.0</td></tr><tr><td>26.0</td></tr></tbody></table></div>"
      ],
      "text/plain": [
       "shape: (3,)\n",
       "Series: 'Age' [f64]\n",
       "[\n",
       "\t22.0\n",
       "\t38.0\n",
       "\t26.0\n",
       "]"
      ]
     },
     "execution_count": 14,
     "metadata": {},
     "output_type": "execute_result"
    }
   ],
   "source": [
    "df.select('Age').to_series().head(3)"
   ]
  },
  {
   "cell_type": "markdown",
   "metadata": {
    "id": "Qs6BipoQdnoF"
   },
   "source": [
    "A simultaneous column list selection is also supported by polars."
   ]
  },
  {
   "cell_type": "code",
   "execution_count": null,
   "metadata": {
    "colab": {
     "base_uri": "https://localhost:8080/",
     "height": 192
    },
    "id": "iDW7pa75dP13",
    "outputId": "3c66e205-7999-441a-867f-2fba85c0f8d6"
   },
   "outputs": [
    {
     "data": {
      "text/html": [
       "<div><style>\n",
       ".dataframe > thead > tr > th,\n",
       ".dataframe > tbody > tr > td {\n",
       "  text-align: right;\n",
       "}\n",
       "</style>\n",
       "<small>shape: (3, 2)</small><table border=\"1\" class=\"dataframe\"><thead><tr><th>Survived</th><th>Age</th></tr><tr><td>i64</td><td>f64</td></tr></thead><tbody><tr><td>0</td><td>22.0</td></tr><tr><td>1</td><td>38.0</td></tr><tr><td>1</td><td>26.0</td></tr></tbody></table></div>"
      ],
      "text/plain": [
       "shape: (3, 2)\n",
       "┌──────────┬──────┐\n",
       "│ Survived ┆ Age  │\n",
       "│ ---      ┆ ---  │\n",
       "│ i64      ┆ f64  │\n",
       "╞══════════╪══════╡\n",
       "│ 0        ┆ 22.0 │\n",
       "│ 1        ┆ 38.0 │\n",
       "│ 1        ┆ 26.0 │\n",
       "└──────────┴──────┘"
      ]
     },
     "execution_count": 15,
     "metadata": {},
     "output_type": "execute_result"
    }
   ],
   "source": [
    "df.select(['Survived', 'Age']).head(3)"
   ]
  },
  {
   "cell_type": "markdown",
   "metadata": {
    "id": "3C_82ssWdP4E"
   },
   "source": [
    "### Differences between using select method and [ ]\n",
    "\n",
    "* [] indexing can only be used in eager mode, while select is supported in both eager and lazy mods.\n",
    "* The expressions in select can be optimized in lazy mode by the query optimizer\n",
    "* Multiple expressions in select can run in parallel\n",
    "\n",
    "Also, as we saw before, columns in the select method can be accessd with an expression using pl.col synthax. Aside from synthactic differences, the expression API also has advantages because we can apply a transformation to a column before we output it."
   ]
  },
  {
   "cell_type": "code",
   "execution_count": null,
   "metadata": {
    "colab": {
     "base_uri": "https://localhost:8080/",
     "height": 192
    },
    "id": "l0N9mDgVdP6i",
    "outputId": "345262c3-6eae-4927-e423-d92b2cbd12f5"
   },
   "outputs": [
    {
     "data": {
      "text/html": [
       "<div><style>\n",
       ".dataframe > thead > tr > th,\n",
       ".dataframe > tbody > tr > td {\n",
       "  text-align: right;\n",
       "}\n",
       "</style>\n",
       "<small>shape: (3, 1)</small><table border=\"1\" class=\"dataframe\"><thead><tr><th>Age</th></tr><tr><td>f64</td></tr></thead><tbody><tr><td>22.0</td></tr><tr><td>38.0</td></tr><tr><td>26.0</td></tr></tbody></table></div>"
      ],
      "text/plain": [
       "shape: (3, 1)\n",
       "┌──────┐\n",
       "│ Age  │\n",
       "│ ---  │\n",
       "│ f64  │\n",
       "╞══════╡\n",
       "│ 22.0 │\n",
       "│ 38.0 │\n",
       "│ 26.0 │\n",
       "└──────┘"
      ]
     },
     "execution_count": 18,
     "metadata": {},
     "output_type": "execute_result"
    }
   ],
   "source": [
    "# A simple select with expression\n",
    "\n",
    "df.select(pl.col('Age')).head(3)"
   ]
  },
  {
   "cell_type": "code",
   "execution_count": null,
   "metadata": {
    "colab": {
     "base_uri": "https://localhost:8080/",
     "height": 192
    },
    "id": "a2A6p0AgezKV",
    "outputId": "4532e81d-6d95-447d-a2a3-4d45c8879793"
   },
   "outputs": [
    {
     "data": {
      "text/html": [
       "<div><style>\n",
       ".dataframe > thead > tr > th,\n",
       ".dataframe > tbody > tr > td {\n",
       "  text-align: right;\n",
       "}\n",
       "</style>\n",
       "<small>shape: (3, 1)</small><table border=\"1\" class=\"dataframe\"><thead><tr><th>Fare</th></tr><tr><td>f64</td></tr></thead><tbody><tr><td>7.0</td></tr><tr><td>71.0</td></tr><tr><td>8.0</td></tr></tbody></table></div>"
      ],
      "text/plain": [
       "shape: (3, 1)\n",
       "┌──────┐\n",
       "│ Fare │\n",
       "│ ---  │\n",
       "│ f64  │\n",
       "╞══════╡\n",
       "│ 7.0  │\n",
       "│ 71.0 │\n",
       "│ 8.0  │\n",
       "└──────┘"
      ]
     },
     "execution_count": 19,
     "metadata": {},
     "output_type": "execute_result"
    }
   ],
   "source": [
    "# Using the expression API with a column transformation\n",
    "\n",
    "df.select(pl.col('Fare').round(0)).head(3)"
   ]
  },
  {
   "cell_type": "code",
   "execution_count": null,
   "metadata": {
    "colab": {
     "base_uri": "https://localhost:8080/",
     "height": 192
    },
    "id": "dZZPO2rfgAHw",
    "outputId": "58aebc6f-288e-4761-a697-2feb7ea01723"
   },
   "outputs": [
    {
     "data": {
      "text/html": [
       "<div><style>\n",
       ".dataframe > thead > tr > th,\n",
       ".dataframe > tbody > tr > td {\n",
       "  text-align: right;\n",
       "}\n",
       "</style>\n",
       "<small>shape: (3, 2)</small><table border=\"1\" class=\"dataframe\"><thead><tr><th>Fare</th><th>roundedFare</th></tr><tr><td>f64</td><td>f64</td></tr></thead><tbody><tr><td>7.25</td><td>7.0</td></tr><tr><td>71.2833</td><td>71.0</td></tr><tr><td>7.925</td><td>8.0</td></tr></tbody></table></div>"
      ],
      "text/plain": [
       "shape: (3, 2)\n",
       "┌─────────┬─────────────┐\n",
       "│ Fare    ┆ roundedFare │\n",
       "│ ---     ┆ ---         │\n",
       "│ f64     ┆ f64         │\n",
       "╞═════════╪═════════════╡\n",
       "│ 7.25    ┆ 7.0         │\n",
       "│ 71.2833 ┆ 71.0        │\n",
       "│ 7.925   ┆ 8.0         │\n",
       "└─────────┴─────────────┘"
      ]
     },
     "execution_count": 21,
     "metadata": {},
     "output_type": "execute_result"
    }
   ],
   "source": [
    "# The list expressions are also available\n",
    "\n",
    "df.select([pl.col('Fare'), pl.col('Fare').round(0).alias('roundedFare')]).head(3)"
   ]
  },
  {
   "cell_type": "markdown",
   "metadata": {
    "id": "16LNKvdCg_5Z"
   },
   "source": [
    "### Selecting columns in lazy mode\n",
    "\n",
    "If we apply the select method in lazy mode, it changes the PROJECT part of the optimized query plan. In the example below it means that polars only loads the Survived and Age columns into memory when reading the CSV file. **Reducing the number of columns read also reduces the time and memory usage.**"
   ]
  },
  {
   "cell_type": "code",
   "execution_count": 1,
   "metadata": {
    "colab": {
     "base_uri": "https://localhost:8080/"
    },
    "id": "4NZpFTzbhnKS",
    "outputId": "a4021308-6155-4116-acb1-32e6ca8ea839"
   },
   "outputs": [
    {
     "ename": "NameError",
     "evalue": "name 'pl' is not defined",
     "output_type": "error",
     "traceback": [
      "\u001b[1;31m---------------------------------------------------------------------------\u001b[0m",
      "\u001b[1;31mNameError\u001b[0m                                 Traceback (most recent call last)",
      "Cell \u001b[1;32mIn[1], line 1\u001b[0m\n\u001b[1;32m----> 1\u001b[0m df \u001b[38;5;241m=\u001b[39m \u001b[43mpl\u001b[49m\u001b[38;5;241m.\u001b[39mscan_csv(csv_file)\u001b[38;5;241m.\u001b[39mselect([\u001b[38;5;124m'\u001b[39m\u001b[38;5;124mSurvived\u001b[39m\u001b[38;5;124m'\u001b[39m, \u001b[38;5;124m'\u001b[39m\u001b[38;5;124mAge\u001b[39m\u001b[38;5;124m'\u001b[39m])\n\u001b[0;32m      2\u001b[0m df\n",
      "\u001b[1;31mNameError\u001b[0m: name 'pl' is not defined"
     ]
    }
   ],
   "source": [
    "df = pl.scan_csv(csv_file).select(['Survived', 'Age'])\n",
    "df"
   ]
  },
  {
   "cell_type": "markdown",
   "metadata": {
    "id": "nIZ6Ye2qh22x"
   },
   "source": [
    "### **Selecting all columns from a DataFrame**\n",
    "\n",
    "We can select all columns by replacing pl.col with pl.call in out expression API call."
   ]
  },
  {
   "cell_type": "code",
   "execution_count": null,
   "metadata": {
    "colab": {
     "base_uri": "https://localhost:8080/",
     "height": 192
    },
    "id": "YuE4OOi_iMvY",
    "outputId": "1104bf50-7452-42ed-eba5-b905f0664ca6"
   },
   "outputs": [
    {
     "data": {
      "text/html": [
       "<div><style>\n",
       ".dataframe > thead > tr > th,\n",
       ".dataframe > tbody > tr > td {\n",
       "  text-align: right;\n",
       "}\n",
       "</style>\n",
       "<small>shape: (3, 12)</small><table border=\"1\" class=\"dataframe\"><thead><tr><th>PassengerId</th><th>Survived</th><th>Pclass</th><th>Name</th><th>Sex</th><th>Age</th><th>SibSp</th><th>Parch</th><th>Ticket</th><th>Fare</th><th>Cabin</th><th>Embarked</th></tr><tr><td>i64</td><td>i64</td><td>i64</td><td>str</td><td>str</td><td>f64</td><td>i64</td><td>i64</td><td>str</td><td>f64</td><td>str</td><td>str</td></tr></thead><tbody><tr><td>1</td><td>0</td><td>3</td><td>&quot;Braund, Mr. Ow…</td><td>&quot;male&quot;</td><td>22.0</td><td>1</td><td>0</td><td>&quot;A/5 21171&quot;</td><td>7.25</td><td>null</td><td>&quot;S&quot;</td></tr><tr><td>2</td><td>1</td><td>1</td><td>&quot;Cumings, Mrs. …</td><td>&quot;female&quot;</td><td>38.0</td><td>1</td><td>0</td><td>&quot;PC 17599&quot;</td><td>71.2833</td><td>&quot;C85&quot;</td><td>&quot;C&quot;</td></tr><tr><td>3</td><td>1</td><td>3</td><td>&quot;Heikkinen, Mis…</td><td>&quot;female&quot;</td><td>26.0</td><td>0</td><td>0</td><td>&quot;STON/O2. 31012…</td><td>7.925</td><td>null</td><td>&quot;S&quot;</td></tr></tbody></table></div>"
      ],
      "text/plain": [
       "shape: (3, 12)\n",
       "┌─────────────┬──────────┬────────┬───────────────────┬───┬───────────┬─────────┬───────┬──────────┐\n",
       "│ PassengerId ┆ Survived ┆ Pclass ┆ Name              ┆ … ┆ Ticket    ┆ Fare    ┆ Cabin ┆ Embarked │\n",
       "│ ---         ┆ ---      ┆ ---    ┆ ---               ┆   ┆ ---       ┆ ---     ┆ ---   ┆ ---      │\n",
       "│ i64         ┆ i64      ┆ i64    ┆ str               ┆   ┆ str       ┆ f64     ┆ str   ┆ str      │\n",
       "╞═════════════╪══════════╪════════╪═══════════════════╪═══╪═══════════╪═════════╪═══════╪══════════╡\n",
       "│ 1           ┆ 0        ┆ 3      ┆ Braund, Mr. Owen  ┆ … ┆ A/5 21171 ┆ 7.25    ┆ null  ┆ S        │\n",
       "│             ┆          ┆        ┆ Harris            ┆   ┆           ┆         ┆       ┆          │\n",
       "│ 2           ┆ 1        ┆ 1      ┆ Cumings, Mrs.     ┆ … ┆ PC 17599  ┆ 71.2833 ┆ C85   ┆ C        │\n",
       "│             ┆          ┆        ┆ John Bradley      ┆   ┆           ┆         ┆       ┆          │\n",
       "│             ┆          ┆        ┆ (Flor…            ┆   ┆           ┆         ┆       ┆          │\n",
       "│ 3           ┆ 1        ┆ 3      ┆ Heikkinen, Miss.  ┆ … ┆ STON/O2.  ┆ 7.925   ┆ null  ┆ S        │\n",
       "│             ┆          ┆        ┆ Laina             ┆   ┆ 3101282   ┆         ┆       ┆          │\n",
       "└─────────────┴──────────┴────────┴───────────────────┴───┴───────────┴─────────┴───────┴──────────┘"
      ]
     },
     "execution_count": 24,
     "metadata": {},
     "output_type": "execute_result"
    }
   ],
   "source": [
    "df = pl.read_csv(csv_file)\n",
    "\n",
    "df.select(pl.all().head(3))"
   ]
  },
  {
   "cell_type": "markdown",
   "metadata": {
    "id": "FeWQcqNhiNdA"
   },
   "source": [
    "Excluding a column from selection is just as simple with the exclude method."
   ]
  },
  {
   "cell_type": "code",
   "execution_count": null,
   "metadata": {
    "colab": {
     "base_uri": "https://localhost:8080/",
     "height": 192
    },
    "id": "3opYeK5piNfj",
    "outputId": "bcc9b763-70d6-424d-82bd-508c4557a173"
   },
   "outputs": [
    {
     "data": {
      "text/html": [
       "<div><style>\n",
       ".dataframe > thead > tr > th,\n",
       ".dataframe > tbody > tr > td {\n",
       "  text-align: right;\n",
       "}\n",
       "</style>\n",
       "<small>shape: (3, 9)</small><table border=\"1\" class=\"dataframe\"><thead><tr><th>Name</th><th>Sex</th><th>Age</th><th>SibSp</th><th>Parch</th><th>Ticket</th><th>Fare</th><th>Cabin</th><th>Embarked</th></tr><tr><td>str</td><td>str</td><td>f64</td><td>i64</td><td>i64</td><td>str</td><td>f64</td><td>str</td><td>str</td></tr></thead><tbody><tr><td>&quot;Braund, Mr. Ow…</td><td>&quot;male&quot;</td><td>22.0</td><td>1</td><td>0</td><td>&quot;A/5 21171&quot;</td><td>7.25</td><td>null</td><td>&quot;S&quot;</td></tr><tr><td>&quot;Cumings, Mrs. …</td><td>&quot;female&quot;</td><td>38.0</td><td>1</td><td>0</td><td>&quot;PC 17599&quot;</td><td>71.2833</td><td>&quot;C85&quot;</td><td>&quot;C&quot;</td></tr><tr><td>&quot;Heikkinen, Mis…</td><td>&quot;female&quot;</td><td>26.0</td><td>0</td><td>0</td><td>&quot;STON/O2. 31012…</td><td>7.925</td><td>null</td><td>&quot;S&quot;</td></tr></tbody></table></div>"
      ],
      "text/plain": [
       "shape: (3, 9)\n",
       "┌──────────────────────┬────────┬──────┬───────┬───┬──────────────────┬─────────┬───────┬──────────┐\n",
       "│ Name                 ┆ Sex    ┆ Age  ┆ SibSp ┆ … ┆ Ticket           ┆ Fare    ┆ Cabin ┆ Embarked │\n",
       "│ ---                  ┆ ---    ┆ ---  ┆ ---   ┆   ┆ ---              ┆ ---     ┆ ---   ┆ ---      │\n",
       "│ str                  ┆ str    ┆ f64  ┆ i64   ┆   ┆ str              ┆ f64     ┆ str   ┆ str      │\n",
       "╞══════════════════════╪════════╪══════╪═══════╪═══╪══════════════════╪═════════╪═══════╪══════════╡\n",
       "│ Braund, Mr. Owen     ┆ male   ┆ 22.0 ┆ 1     ┆ … ┆ A/5 21171        ┆ 7.25    ┆ null  ┆ S        │\n",
       "│ Harris               ┆        ┆      ┆       ┆   ┆                  ┆         ┆       ┆          │\n",
       "│ Cumings, Mrs. John   ┆ female ┆ 38.0 ┆ 1     ┆ … ┆ PC 17599         ┆ 71.2833 ┆ C85   ┆ C        │\n",
       "│ Bradley (Flor…       ┆        ┆      ┆       ┆   ┆                  ┆         ┆       ┆          │\n",
       "│ Heikkinen, Miss.     ┆ female ┆ 26.0 ┆ 0     ┆ … ┆ STON/O2. 3101282 ┆ 7.925   ┆ null  ┆ S        │\n",
       "│ Laina                ┆        ┆      ┆       ┆   ┆                  ┆         ┆       ┆          │\n",
       "└──────────────────────┴────────┴──────┴───────┴───┴──────────────────┴─────────┴───────┴──────────┘"
      ]
     },
     "execution_count": 26,
     "metadata": {},
     "output_type": "execute_result"
    }
   ],
   "source": [
    "df.select(pl.all().exclude(['PassengerId', 'Survived', 'Pclass'])).head(3)"
   ]
  },
  {
   "cell_type": "markdown",
   "metadata": {
    "id": "dwo8R9BrihhA"
   },
   "source": [
    "### Selecting columns with a regex\n",
    "\n",
    "We can select columns with a regex - if the regex starts with ^ and ends with $. For example, the following regex looks for columns starting with P and uses the regex wildcard .* to show P can be followed by any characters. Note that polars has an incorporated \"understanding\" of regular expressions and there is no need to import additional dependencies."
   ]
  },
  {
   "cell_type": "code",
   "execution_count": null,
   "metadata": {
    "colab": {
     "base_uri": "https://localhost:8080/",
     "height": 192
    },
    "id": "oZb6adfHihjZ",
    "outputId": "d49de6e4-07b5-41f9-99eb-b137cebfbd04"
   },
   "outputs": [
    {
     "data": {
      "text/html": [
       "<div><style>\n",
       ".dataframe > thead > tr > th,\n",
       ".dataframe > tbody > tr > td {\n",
       "  text-align: right;\n",
       "}\n",
       "</style>\n",
       "<small>shape: (3, 3)</small><table border=\"1\" class=\"dataframe\"><thead><tr><th>PassengerId</th><th>Pclass</th><th>Parch</th></tr><tr><td>i64</td><td>i64</td><td>i64</td></tr></thead><tbody><tr><td>1</td><td>3</td><td>0</td></tr><tr><td>2</td><td>1</td><td>0</td></tr><tr><td>3</td><td>3</td><td>0</td></tr></tbody></table></div>"
      ],
      "text/plain": [
       "shape: (3, 3)\n",
       "┌─────────────┬────────┬───────┐\n",
       "│ PassengerId ┆ Pclass ┆ Parch │\n",
       "│ ---         ┆ ---    ┆ ---   │\n",
       "│ i64         ┆ i64    ┆ i64   │\n",
       "╞═════════════╪════════╪═══════╡\n",
       "│ 1           ┆ 3      ┆ 0     │\n",
       "│ 2           ┆ 1      ┆ 0     │\n",
       "│ 3           ┆ 3      ┆ 0     │\n",
       "└─────────────┴────────┴───────┘"
      ]
     },
     "execution_count": 29,
     "metadata": {},
     "output_type": "execute_result"
    }
   ],
   "source": [
    "df.select(\"^P.*$\").head(3)"
   ]
  },
  {
   "cell_type": "code",
   "execution_count": null,
   "metadata": {
    "colab": {
     "base_uri": "https://localhost:8080/",
     "height": 129
    },
    "id": "_vkf_aH9ihli",
    "outputId": "4734b9db-7988-4300-c116-3617e45aa347"
   },
   "outputs": [
    {
     "data": {
      "text/html": [
       "<div><style>\n",
       ".dataframe > thead > tr > th,\n",
       ".dataframe > tbody > tr > td {\n",
       "  text-align: right;\n",
       "}\n",
       "</style>\n",
       "<small>shape: (1, 3)</small><table border=\"1\" class=\"dataframe\"><thead><tr><th>PassengerId</th><th>Pclass</th><th>Parch</th></tr><tr><td>i64</td><td>i64</td><td>i64</td></tr></thead><tbody><tr><td>891</td><td>3</td><td>6</td></tr></tbody></table></div>"
      ],
      "text/plain": [
       "shape: (1, 3)\n",
       "┌─────────────┬────────┬───────┐\n",
       "│ PassengerId ┆ Pclass ┆ Parch │\n",
       "│ ---         ┆ ---    ┆ ---   │\n",
       "│ i64         ┆ i64    ┆ i64   │\n",
       "╞═════════════╪════════╪═══════╡\n",
       "│ 891         ┆ 3      ┆ 6     │\n",
       "└─────────────┴────────┴───────┘"
      ]
     },
     "execution_count": 30,
     "metadata": {},
     "output_type": "execute_result"
    }
   ],
   "source": [
    "# Example of a regex with further column transformation\n",
    "\n",
    "df.select(pl.col('^P.*$').max()).head(3)"
   ]
  },
  {
   "cell_type": "markdown",
   "metadata": {
    "id": "B4etxodEiNiK"
   },
   "source": [
    "### Selecting columns based on dtype\n",
    "\n",
    "We can select all the columns that have a particular data type by passing the dtype parameter to pl.col. For example:"
   ]
  },
  {
   "cell_type": "code",
   "execution_count": null,
   "metadata": {
    "colab": {
     "base_uri": "https://localhost:8080/",
     "height": 192
    },
    "id": "LoInsOyjiNkl",
    "outputId": "fa8e434d-3fa1-43c8-cad8-f44862ab5804"
   },
   "outputs": [
    {
     "data": {
      "text/html": [
       "<div><style>\n",
       ".dataframe > thead > tr > th,\n",
       ".dataframe > tbody > tr > td {\n",
       "  text-align: right;\n",
       "}\n",
       "</style>\n",
       "<small>shape: (3, 5)</small><table border=\"1\" class=\"dataframe\"><thead><tr><th>Name</th><th>Sex</th><th>Ticket</th><th>Cabin</th><th>Embarked</th></tr><tr><td>str</td><td>str</td><td>str</td><td>str</td><td>str</td></tr></thead><tbody><tr><td>&quot;Braund, Mr. Ow…</td><td>&quot;male&quot;</td><td>&quot;A/5 21171&quot;</td><td>null</td><td>&quot;S&quot;</td></tr><tr><td>&quot;Cumings, Mrs. …</td><td>&quot;female&quot;</td><td>&quot;PC 17599&quot;</td><td>&quot;C85&quot;</td><td>&quot;C&quot;</td></tr><tr><td>&quot;Heikkinen, Mis…</td><td>&quot;female&quot;</td><td>&quot;STON/O2. 31012…</td><td>null</td><td>&quot;S&quot;</td></tr></tbody></table></div>"
      ],
      "text/plain": [
       "shape: (3, 5)\n",
       "┌───────────────────────────────────┬────────┬──────────────────┬───────┬──────────┐\n",
       "│ Name                              ┆ Sex    ┆ Ticket           ┆ Cabin ┆ Embarked │\n",
       "│ ---                               ┆ ---    ┆ ---              ┆ ---   ┆ ---      │\n",
       "│ str                               ┆ str    ┆ str              ┆ str   ┆ str      │\n",
       "╞═══════════════════════════════════╪════════╪══════════════════╪═══════╪══════════╡\n",
       "│ Braund, Mr. Owen Harris           ┆ male   ┆ A/5 21171        ┆ null  ┆ S        │\n",
       "│ Cumings, Mrs. John Bradley (Flor… ┆ female ┆ PC 17599         ┆ C85   ┆ C        │\n",
       "│ Heikkinen, Miss. Laina            ┆ female ┆ STON/O2. 3101282 ┆ null  ┆ S        │\n",
       "└───────────────────────────────────┴────────┴──────────────────┴───────┴──────────┘"
      ]
     },
     "execution_count": 32,
     "metadata": {},
     "output_type": "execute_result"
    }
   ],
   "source": [
    "# selecting all the string columns\n",
    "\n",
    "df.select(pl.col(pl.Utf8)).head(3)"
   ]
  },
  {
   "cell_type": "markdown",
   "metadata": {
    "id": "-Cggmteulj6o"
   },
   "source": [
    "### Transforming an existing column\n",
    "\n",
    "We can transform an existing column by passing the column to with_column. Note that the transformation is not done inplace."
   ]
  },
  {
   "cell_type": "code",
   "execution_count": null,
   "metadata": {
    "colab": {
     "base_uri": "https://localhost:8080/",
     "height": 247
    },
    "id": "1ffGKjnMl64I",
    "outputId": "badd02f9-ff14-4754-ad3b-45b3dbcce7d8"
   },
   "outputs": [
    {
     "name": "stderr",
     "output_type": "stream",
     "text": [
      "<ipython-input-34-f18d7628f44c>:1: DeprecationWarning: `DataFrame.with_column` has been renamed; this redirect is temporary, please use `.with_columns` instead\n",
      "  df.with_column(pl.col('Fare').round(0)).head(3)\n"
     ]
    },
    {
     "data": {
      "text/html": [
       "<div><style>\n",
       ".dataframe > thead > tr > th,\n",
       ".dataframe > tbody > tr > td {\n",
       "  text-align: right;\n",
       "}\n",
       "</style>\n",
       "<small>shape: (3, 12)</small><table border=\"1\" class=\"dataframe\"><thead><tr><th>PassengerId</th><th>Survived</th><th>Pclass</th><th>Name</th><th>Sex</th><th>Age</th><th>SibSp</th><th>Parch</th><th>Ticket</th><th>Fare</th><th>Cabin</th><th>Embarked</th></tr><tr><td>i64</td><td>i64</td><td>i64</td><td>str</td><td>str</td><td>f64</td><td>i64</td><td>i64</td><td>str</td><td>f64</td><td>str</td><td>str</td></tr></thead><tbody><tr><td>1</td><td>0</td><td>3</td><td>&quot;Braund, Mr. Ow…</td><td>&quot;male&quot;</td><td>22.0</td><td>1</td><td>0</td><td>&quot;A/5 21171&quot;</td><td>7.0</td><td>null</td><td>&quot;S&quot;</td></tr><tr><td>2</td><td>1</td><td>1</td><td>&quot;Cumings, Mrs. …</td><td>&quot;female&quot;</td><td>38.0</td><td>1</td><td>0</td><td>&quot;PC 17599&quot;</td><td>71.0</td><td>&quot;C85&quot;</td><td>&quot;C&quot;</td></tr><tr><td>3</td><td>1</td><td>3</td><td>&quot;Heikkinen, Mis…</td><td>&quot;female&quot;</td><td>26.0</td><td>0</td><td>0</td><td>&quot;STON/O2. 31012…</td><td>8.0</td><td>null</td><td>&quot;S&quot;</td></tr></tbody></table></div>"
      ],
      "text/plain": [
       "shape: (3, 12)\n",
       "┌─────────────┬──────────┬────────┬──────────────────────┬───┬───────────┬──────┬───────┬──────────┐\n",
       "│ PassengerId ┆ Survived ┆ Pclass ┆ Name                 ┆ … ┆ Ticket    ┆ Fare ┆ Cabin ┆ Embarked │\n",
       "│ ---         ┆ ---      ┆ ---    ┆ ---                  ┆   ┆ ---       ┆ ---  ┆ ---   ┆ ---      │\n",
       "│ i64         ┆ i64      ┆ i64    ┆ str                  ┆   ┆ str       ┆ f64  ┆ str   ┆ str      │\n",
       "╞═════════════╪══════════╪════════╪══════════════════════╪═══╪═══════════╪══════╪═══════╪══════════╡\n",
       "│ 1           ┆ 0        ┆ 3      ┆ Braund, Mr. Owen     ┆ … ┆ A/5 21171 ┆ 7.0  ┆ null  ┆ S        │\n",
       "│             ┆          ┆        ┆ Harris               ┆   ┆           ┆      ┆       ┆          │\n",
       "│ 2           ┆ 1        ┆ 1      ┆ Cumings, Mrs. John   ┆ … ┆ PC 17599  ┆ 71.0 ┆ C85   ┆ C        │\n",
       "│             ┆          ┆        ┆ Bradley (Flor…       ┆   ┆           ┆      ┆       ┆          │\n",
       "│ 3           ┆ 1        ┆ 3      ┆ Heikkinen, Miss.     ┆ … ┆ STON/O2.  ┆ 8.0  ┆ null  ┆ S        │\n",
       "│             ┆          ┆        ┆ Laina                ┆   ┆ 3101282   ┆      ┆       ┆          │\n",
       "└─────────────┴──────────┴────────┴──────────────────────┴───┴───────────┴──────┴───────┴──────────┘"
      ]
     },
     "execution_count": 34,
     "metadata": {},
     "output_type": "execute_result"
    }
   ],
   "source": [
    "df.with_column(pl.col('Fare').round(0)).head(3)"
   ]
  },
  {
   "cell_type": "markdown",
   "metadata": {
    "id": "a71e2OT6l_vA"
   },
   "source": [
    "Alternatively, we can add a new column based on an existing columns, essentially transforming it and using a new alias. Note that using alias doesn't just rename the column but ensures that a new column is created while the old column also remains untouched."
   ]
  },
  {
   "cell_type": "code",
   "execution_count": null,
   "metadata": {
    "colab": {
     "base_uri": "https://localhost:8080/",
     "height": 247
    },
    "id": "PLLr25hImTw0",
    "outputId": "eee90ba6-6096-4ccd-8c59-4aed238f7461"
   },
   "outputs": [
    {
     "name": "stderr",
     "output_type": "stream",
     "text": [
      "<ipython-input-35-979f38b65d86>:1: DeprecationWarning: `DataFrame.with_column` has been renamed; this redirect is temporary, please use `.with_columns` instead\n",
      "  df.with_column(pl.col('Fare').round(0).alias('roundFare')).head(3)\n"
     ]
    },
    {
     "data": {
      "text/html": [
       "<div><style>\n",
       ".dataframe > thead > tr > th,\n",
       ".dataframe > tbody > tr > td {\n",
       "  text-align: right;\n",
       "}\n",
       "</style>\n",
       "<small>shape: (3, 13)</small><table border=\"1\" class=\"dataframe\"><thead><tr><th>PassengerId</th><th>Survived</th><th>Pclass</th><th>Name</th><th>Sex</th><th>Age</th><th>SibSp</th><th>Parch</th><th>Ticket</th><th>Fare</th><th>Cabin</th><th>Embarked</th><th>roundFare</th></tr><tr><td>i64</td><td>i64</td><td>i64</td><td>str</td><td>str</td><td>f64</td><td>i64</td><td>i64</td><td>str</td><td>f64</td><td>str</td><td>str</td><td>f64</td></tr></thead><tbody><tr><td>1</td><td>0</td><td>3</td><td>&quot;Braund, Mr. Ow…</td><td>&quot;male&quot;</td><td>22.0</td><td>1</td><td>0</td><td>&quot;A/5 21171&quot;</td><td>7.25</td><td>null</td><td>&quot;S&quot;</td><td>7.0</td></tr><tr><td>2</td><td>1</td><td>1</td><td>&quot;Cumings, Mrs. …</td><td>&quot;female&quot;</td><td>38.0</td><td>1</td><td>0</td><td>&quot;PC 17599&quot;</td><td>71.2833</td><td>&quot;C85&quot;</td><td>&quot;C&quot;</td><td>71.0</td></tr><tr><td>3</td><td>1</td><td>3</td><td>&quot;Heikkinen, Mis…</td><td>&quot;female&quot;</td><td>26.0</td><td>0</td><td>0</td><td>&quot;STON/O2. 31012…</td><td>7.925</td><td>null</td><td>&quot;S&quot;</td><td>8.0</td></tr></tbody></table></div>"
      ],
      "text/plain": [
       "shape: (3, 13)\n",
       "┌─────────────┬──────────┬────────┬───────────────────┬───┬─────────┬───────┬──────────┬───────────┐\n",
       "│ PassengerId ┆ Survived ┆ Pclass ┆ Name              ┆ … ┆ Fare    ┆ Cabin ┆ Embarked ┆ roundFare │\n",
       "│ ---         ┆ ---      ┆ ---    ┆ ---               ┆   ┆ ---     ┆ ---   ┆ ---      ┆ ---       │\n",
       "│ i64         ┆ i64      ┆ i64    ┆ str               ┆   ┆ f64     ┆ str   ┆ str      ┆ f64       │\n",
       "╞═════════════╪══════════╪════════╪═══════════════════╪═══╪═════════╪═══════╪══════════╪═══════════╡\n",
       "│ 1           ┆ 0        ┆ 3      ┆ Braund, Mr. Owen  ┆ … ┆ 7.25    ┆ null  ┆ S        ┆ 7.0       │\n",
       "│             ┆          ┆        ┆ Harris            ┆   ┆         ┆       ┆          ┆           │\n",
       "│ 2           ┆ 1        ┆ 1      ┆ Cumings, Mrs.     ┆ … ┆ 71.2833 ┆ C85   ┆ C        ┆ 71.0      │\n",
       "│             ┆          ┆        ┆ John Bradley      ┆   ┆         ┆       ┆          ┆           │\n",
       "│             ┆          ┆        ┆ (Flor…            ┆   ┆         ┆       ┆          ┆           │\n",
       "│ 3           ┆ 1        ┆ 3      ┆ Heikkinen, Miss.  ┆ … ┆ 7.925   ┆ null  ┆ S        ┆ 8.0       │\n",
       "│             ┆          ┆        ┆ Laina             ┆   ┆         ┆       ┆          ┆           │\n",
       "└─────────────┴──────────┴────────┴───────────────────┴───┴─────────┴───────┴──────────┴───────────┘"
      ]
     },
     "execution_count": 35,
     "metadata": {},
     "output_type": "execute_result"
    }
   ],
   "source": [
    "df.with_column(pl.col('Fare').round(0).alias('roundFare')).head(3)"
   ]
  },
  {
   "cell_type": "markdown",
   "metadata": {
    "id": "d01-jXKJmcfB"
   },
   "source": [
    "**Polars does NOT support adding new columns with the [ ] indexing!**\n",
    "\n",
    "A few major differences between using the select method and using the with_column method include:\n",
    "* The select method returns a subset of the columns, while with_column method returns all columns.\n",
    "* with_column accepts expressions but not strings\n",
    "\n",
    "Column arithmetic is also available when using the corresponding expression."
   ]
  },
  {
   "cell_type": "code",
   "execution_count": null,
   "metadata": {
    "colab": {
     "base_uri": "https://localhost:8080/",
     "height": 247
    },
    "id": "_-FaryUqm0F9",
    "outputId": "07d56670-77bf-4232-b39e-ecb01eb07cfa"
   },
   "outputs": [
    {
     "name": "stderr",
     "output_type": "stream",
     "text": [
      "<ipython-input-37-b06e8d0b045d>:1: DeprecationWarning: `DataFrame.with_column` has been renamed; this redirect is temporary, please use `.with_columns` instead\n",
      "  df.with_column((pl.col('Fare') * 2).alias('doubleFare')).head(3)\n"
     ]
    },
    {
     "data": {
      "text/html": [
       "<div><style>\n",
       ".dataframe > thead > tr > th,\n",
       ".dataframe > tbody > tr > td {\n",
       "  text-align: right;\n",
       "}\n",
       "</style>\n",
       "<small>shape: (3, 13)</small><table border=\"1\" class=\"dataframe\"><thead><tr><th>PassengerId</th><th>Survived</th><th>Pclass</th><th>Name</th><th>Sex</th><th>Age</th><th>SibSp</th><th>Parch</th><th>Ticket</th><th>Fare</th><th>Cabin</th><th>Embarked</th><th>doubleFare</th></tr><tr><td>i64</td><td>i64</td><td>i64</td><td>str</td><td>str</td><td>f64</td><td>i64</td><td>i64</td><td>str</td><td>f64</td><td>str</td><td>str</td><td>f64</td></tr></thead><tbody><tr><td>1</td><td>0</td><td>3</td><td>&quot;Braund, Mr. Ow…</td><td>&quot;male&quot;</td><td>22.0</td><td>1</td><td>0</td><td>&quot;A/5 21171&quot;</td><td>7.25</td><td>null</td><td>&quot;S&quot;</td><td>14.5</td></tr><tr><td>2</td><td>1</td><td>1</td><td>&quot;Cumings, Mrs. …</td><td>&quot;female&quot;</td><td>38.0</td><td>1</td><td>0</td><td>&quot;PC 17599&quot;</td><td>71.2833</td><td>&quot;C85&quot;</td><td>&quot;C&quot;</td><td>142.5666</td></tr><tr><td>3</td><td>1</td><td>3</td><td>&quot;Heikkinen, Mis…</td><td>&quot;female&quot;</td><td>26.0</td><td>0</td><td>0</td><td>&quot;STON/O2. 31012…</td><td>7.925</td><td>null</td><td>&quot;S&quot;</td><td>15.85</td></tr></tbody></table></div>"
      ],
      "text/plain": [
       "shape: (3, 13)\n",
       "┌─────────────┬──────────┬────────┬──────────────────┬───┬─────────┬───────┬──────────┬────────────┐\n",
       "│ PassengerId ┆ Survived ┆ Pclass ┆ Name             ┆ … ┆ Fare    ┆ Cabin ┆ Embarked ┆ doubleFare │\n",
       "│ ---         ┆ ---      ┆ ---    ┆ ---              ┆   ┆ ---     ┆ ---   ┆ ---      ┆ ---        │\n",
       "│ i64         ┆ i64      ┆ i64    ┆ str              ┆   ┆ f64     ┆ str   ┆ str      ┆ f64        │\n",
       "╞═════════════╪══════════╪════════╪══════════════════╪═══╪═════════╪═══════╪══════════╪════════════╡\n",
       "│ 1           ┆ 0        ┆ 3      ┆ Braund, Mr. Owen ┆ … ┆ 7.25    ┆ null  ┆ S        ┆ 14.5       │\n",
       "│             ┆          ┆        ┆ Harris           ┆   ┆         ┆       ┆          ┆            │\n",
       "│ 2           ┆ 1        ┆ 1      ┆ Cumings, Mrs.    ┆ … ┆ 71.2833 ┆ C85   ┆ C        ┆ 142.5666   │\n",
       "│             ┆          ┆        ┆ John Bradley     ┆   ┆         ┆       ┆          ┆            │\n",
       "│             ┆          ┆        ┆ (Flor…           ┆   ┆         ┆       ┆          ┆            │\n",
       "│ 3           ┆ 1        ┆ 3      ┆ Heikkinen, Miss. ┆ … ┆ 7.925   ┆ null  ┆ S        ┆ 15.85      │\n",
       "│             ┆          ┆        ┆ Laina            ┆   ┆         ┆       ┆          ┆            │\n",
       "└─────────────┴──────────┴────────┴──────────────────┴───┴─────────┴───────┴──────────┴────────────┘"
      ]
     },
     "execution_count": 37,
     "metadata": {},
     "output_type": "execute_result"
    }
   ],
   "source": [
    "# Arithmetic expression on a single column\n",
    "\n",
    "df.with_column((pl.col('Fare') * 2).alias('doubleFare')).head(3)"
   ]
  },
  {
   "cell_type": "code",
   "execution_count": null,
   "metadata": {
    "colab": {
     "base_uri": "https://localhost:8080/",
     "height": 247
    },
    "id": "y_SnLEOTnbL-",
    "outputId": "9769a9cb-d176-409b-cce6-65b959356fb5"
   },
   "outputs": [
    {
     "name": "stderr",
     "output_type": "stream",
     "text": [
      "<ipython-input-38-406a515956b2>:3: DeprecationWarning: `DataFrame.with_column` has been renamed; this redirect is temporary, please use `.with_columns` instead\n",
      "  df.with_column((pl.col('Fare') + pl.col('Age')).alias('farePlusAge')).head(3)\n"
     ]
    },
    {
     "data": {
      "text/html": [
       "<div><style>\n",
       ".dataframe > thead > tr > th,\n",
       ".dataframe > tbody > tr > td {\n",
       "  text-align: right;\n",
       "}\n",
       "</style>\n",
       "<small>shape: (3, 13)</small><table border=\"1\" class=\"dataframe\"><thead><tr><th>PassengerId</th><th>Survived</th><th>Pclass</th><th>Name</th><th>Sex</th><th>Age</th><th>SibSp</th><th>Parch</th><th>Ticket</th><th>Fare</th><th>Cabin</th><th>Embarked</th><th>farePlusAge</th></tr><tr><td>i64</td><td>i64</td><td>i64</td><td>str</td><td>str</td><td>f64</td><td>i64</td><td>i64</td><td>str</td><td>f64</td><td>str</td><td>str</td><td>f64</td></tr></thead><tbody><tr><td>1</td><td>0</td><td>3</td><td>&quot;Braund, Mr. Ow…</td><td>&quot;male&quot;</td><td>22.0</td><td>1</td><td>0</td><td>&quot;A/5 21171&quot;</td><td>7.25</td><td>null</td><td>&quot;S&quot;</td><td>29.25</td></tr><tr><td>2</td><td>1</td><td>1</td><td>&quot;Cumings, Mrs. …</td><td>&quot;female&quot;</td><td>38.0</td><td>1</td><td>0</td><td>&quot;PC 17599&quot;</td><td>71.2833</td><td>&quot;C85&quot;</td><td>&quot;C&quot;</td><td>109.2833</td></tr><tr><td>3</td><td>1</td><td>3</td><td>&quot;Heikkinen, Mis…</td><td>&quot;female&quot;</td><td>26.0</td><td>0</td><td>0</td><td>&quot;STON/O2. 31012…</td><td>7.925</td><td>null</td><td>&quot;S&quot;</td><td>33.925</td></tr></tbody></table></div>"
      ],
      "text/plain": [
       "shape: (3, 13)\n",
       "┌─────────────┬──────────┬────────┬─────────────────┬───┬─────────┬───────┬──────────┬─────────────┐\n",
       "│ PassengerId ┆ Survived ┆ Pclass ┆ Name            ┆ … ┆ Fare    ┆ Cabin ┆ Embarked ┆ farePlusAge │\n",
       "│ ---         ┆ ---      ┆ ---    ┆ ---             ┆   ┆ ---     ┆ ---   ┆ ---      ┆ ---         │\n",
       "│ i64         ┆ i64      ┆ i64    ┆ str             ┆   ┆ f64     ┆ str   ┆ str      ┆ f64         │\n",
       "╞═════════════╪══════════╪════════╪═════════════════╪═══╪═════════╪═══════╪══════════╪═════════════╡\n",
       "│ 1           ┆ 0        ┆ 3      ┆ Braund, Mr.     ┆ … ┆ 7.25    ┆ null  ┆ S        ┆ 29.25       │\n",
       "│             ┆          ┆        ┆ Owen Harris     ┆   ┆         ┆       ┆          ┆             │\n",
       "│ 2           ┆ 1        ┆ 1      ┆ Cumings, Mrs.   ┆ … ┆ 71.2833 ┆ C85   ┆ C        ┆ 109.2833    │\n",
       "│             ┆          ┆        ┆ John Bradley    ┆   ┆         ┆       ┆          ┆             │\n",
       "│             ┆          ┆        ┆ (Flor…          ┆   ┆         ┆       ┆          ┆             │\n",
       "│ 3           ┆ 1        ┆ 3      ┆ Heikkinen,      ┆ … ┆ 7.925   ┆ null  ┆ S        ┆ 33.925      │\n",
       "│             ┆          ┆        ┆ Miss. Laina     ┆   ┆         ┆       ┆          ┆             │\n",
       "└─────────────┴──────────┴────────┴─────────────────┴───┴─────────┴───────┴──────────┴─────────────┘"
      ]
     },
     "execution_count": 38,
     "metadata": {},
     "output_type": "execute_result"
    }
   ],
   "source": [
    "# Arithmetic expression on multiple columns and their combination\n",
    "\n",
    "df.with_column((pl.col('Fare') + pl.col('Age')).alias('farePlusAge')).head(3)"
   ]
  },
  {
   "cell_type": "markdown",
   "metadata": {
    "id": "IGx6Z0W-n2pR"
   },
   "source": [
    "Adding a new column with a constant value with the lit method:"
   ]
  },
  {
   "cell_type": "code",
   "execution_count": null,
   "metadata": {
    "colab": {
     "base_uri": "https://localhost:8080/",
     "height": 247
    },
    "id": "xd3rGg3s7ua-",
    "outputId": "5a26b2de-5ac2-4395-fc44-6939f68ce642"
   },
   "outputs": [
    {
     "name": "stderr",
     "output_type": "stream",
     "text": [
      "<ipython-input-39-245c5dffb3c5>:1: DeprecationWarning: `DataFrame.with_column` has been renamed; this redirect is temporary, please use `.with_columns` instead\n",
      "  df.with_column(pl.lit('yes').alias('Aboard')).select(['Name', 'Aboard']).head(3)\n"
     ]
    },
    {
     "data": {
      "text/html": [
       "<div><style>\n",
       ".dataframe > thead > tr > th,\n",
       ".dataframe > tbody > tr > td {\n",
       "  text-align: right;\n",
       "}\n",
       "</style>\n",
       "<small>shape: (3, 2)</small><table border=\"1\" class=\"dataframe\"><thead><tr><th>Name</th><th>Aboard</th></tr><tr><td>str</td><td>str</td></tr></thead><tbody><tr><td>&quot;Braund, Mr. Ow…</td><td>&quot;yes&quot;</td></tr><tr><td>&quot;Cumings, Mrs. …</td><td>&quot;yes&quot;</td></tr><tr><td>&quot;Heikkinen, Mis…</td><td>&quot;yes&quot;</td></tr></tbody></table></div>"
      ],
      "text/plain": [
       "shape: (3, 2)\n",
       "┌───────────────────────────────────┬────────┐\n",
       "│ Name                              ┆ Aboard │\n",
       "│ ---                               ┆ ---    │\n",
       "│ str                               ┆ str    │\n",
       "╞═══════════════════════════════════╪════════╡\n",
       "│ Braund, Mr. Owen Harris           ┆ yes    │\n",
       "│ Cumings, Mrs. John Bradley (Flor… ┆ yes    │\n",
       "│ Heikkinen, Miss. Laina            ┆ yes    │\n",
       "└───────────────────────────────────┴────────┘"
      ]
     },
     "execution_count": 39,
     "metadata": {},
     "output_type": "execute_result"
    }
   ],
   "source": [
    "df.with_column(pl.lit('yes').alias('Aboard')).select(['Name', 'Aboard']).head(3)"
   ]
  },
  {
   "cell_type": "markdown",
   "metadata": {
    "id": "c8x-EmSr7vYd"
   },
   "source": [
    "### Adding a column based on a condition on another column\n",
    "\n",
    "In this example we add a new binary column called firstClass based on the Pclass column where the value 1 for first class passengers and 0 for second and third class passengers. In order to implement the condition we chain together the when, then and otherwise methods. Note that to limit the number of columns output we can use the select method here."
   ]
  },
  {
   "cell_type": "code",
   "execution_count": null,
   "metadata": {
    "colab": {
     "base_uri": "https://localhost:8080/",
     "height": 192
    },
    "id": "KDWf0v1l7vbW",
    "outputId": "ed006e22-4261-46b7-aa8f-d48ae71764c4"
   },
   "outputs": [
    {
     "data": {
      "text/html": [
       "<div><style>\n",
       ".dataframe > thead > tr > th,\n",
       ".dataframe > tbody > tr > td {\n",
       "  text-align: right;\n",
       "}\n",
       "</style>\n",
       "<small>shape: (3, 2)</small><table border=\"1\" class=\"dataframe\"><thead><tr><th>Pclass</th><th>firstClass</th></tr><tr><td>i64</td><td>i32</td></tr></thead><tbody><tr><td>3</td><td>0</td></tr><tr><td>1</td><td>1</td></tr><tr><td>3</td><td>0</td></tr></tbody></table></div>"
      ],
      "text/plain": [
       "shape: (3, 2)\n",
       "┌────────┬────────────┐\n",
       "│ Pclass ┆ firstClass │\n",
       "│ ---    ┆ ---        │\n",
       "│ i64    ┆ i32        │\n",
       "╞════════╪════════════╡\n",
       "│ 3      ┆ 0          │\n",
       "│ 1      ┆ 1          │\n",
       "│ 3      ┆ 0          │\n",
       "└────────┴────────────┘"
      ]
     },
     "execution_count": 42,
     "metadata": {},
     "output_type": "execute_result"
    }
   ],
   "source": [
    "df.select([pl.col('Pclass'), pl.when(pl.col('Pclass') == 1).then(1).otherwise(0).alias('firstClass')]).head(3)"
   ]
  },
  {
   "cell_type": "markdown",
   "metadata": {
    "id": "aWq4Z97Q7veJ"
   },
   "source": [
    "### Synthax om pl.when\n",
    "\n",
    "`pl.when(**Boolean Expression**).then(**Value if True**).otherwise(**Value if False**).alias(**New Column Name**)`\n",
    "\n",
    "Similarly, we can add a new column which is based on conditions of multiple other columns. We do this with a combined filtering using () & () in pl.when."
   ]
  },
  {
   "cell_type": "code",
   "execution_count": null,
   "metadata": {
    "colab": {
     "base_uri": "https://localhost:8080/",
     "height": 255
    },
    "id": "61GiW2ev9Q8n",
    "outputId": "d9db7fc9-bdd5-484a-e639-9f56932d0324"
   },
   "outputs": [
    {
     "data": {
      "text/html": [
       "<div><style>\n",
       ".dataframe > thead > tr > th,\n",
       ".dataframe > tbody > tr > td {\n",
       "  text-align: right;\n",
       "}\n",
       "</style>\n",
       "<small>shape: (5, 3)</small><table border=\"1\" class=\"dataframe\"><thead><tr><th>Pclass</th><th>Age</th><th>youngFirstClass</th></tr><tr><td>i64</td><td>f64</td><td>i32</td></tr></thead><tbody><tr><td>2</td><td>27.0</td><td>0</td></tr><tr><td>1</td><td>19.0</td><td>1</td></tr><tr><td>3</td><td>null</td><td>0</td></tr><tr><td>1</td><td>26.0</td><td>1</td></tr><tr><td>3</td><td>32.0</td><td>0</td></tr></tbody></table></div>"
      ],
      "text/plain": [
       "shape: (5, 3)\n",
       "┌────────┬──────┬─────────────────┐\n",
       "│ Pclass ┆ Age  ┆ youngFirstClass │\n",
       "│ ---    ┆ ---  ┆ ---             │\n",
       "│ i64    ┆ f64  ┆ i32             │\n",
       "╞════════╪══════╪═════════════════╡\n",
       "│ 2      ┆ 27.0 ┆ 0               │\n",
       "│ 1      ┆ 19.0 ┆ 1               │\n",
       "│ 3      ┆ null ┆ 0               │\n",
       "│ 1      ┆ 26.0 ┆ 1               │\n",
       "│ 3      ┆ 32.0 ┆ 0               │\n",
       "└────────┴──────┴─────────────────┘"
      ]
     },
     "execution_count": 51,
     "metadata": {},
     "output_type": "execute_result"
    }
   ],
   "source": [
    "    df.select(\\\n",
    "              \n",
    "    [pl.col('Pclass'), \n",
    "     pl.col('Age'), \n",
    "     pl.when((pl.col('Pclass') == 1) & (pl.col('Age') < 30)).then(1).otherwise(0).alias('youngFirstClass')]\n",
    "\n",
    "    ).tail(5)"
   ]
  },
  {
   "cell_type": "markdown",
   "metadata": {
    "id": "PdkLab4v94Fl"
   },
   "source": [
    "### Add a new column based on an if-elif-else condition\n",
    "\n",
    "While with the when clause we can implenet the alternative of an if-else statement, we are not limited to it. For example if we have 3 or more categories we might take the advantage of if-elif-else statement. To implement it in polars all we do is chain the .when.thencycle for each subsequent condition.\n",
    "\n",
    "The synhtas, following the previous example analogy is as follows:\n",
    "\n",
    "`pl.when(**Boolean Expression**)'\n",
    ".then(**Value if True**)\n",
    ".when(**Boolean Expression**)\n",
    ".then(**Value if True**)\n",
    ".otherwise(**Value if False**)\n",
    ".alias(**New Column Name**)`\n",
    "\n",
    "\n",
    "The when/then cycle can then be repeated indefinitely"
   ]
  },
  {
   "cell_type": "code",
   "execution_count": null,
   "metadata": {
    "colab": {
     "base_uri": "https://localhost:8080/",
     "height": 255
    },
    "id": "3yCsSVr9_bbR",
    "outputId": "d1ea717f-00d7-4b04-881f-d7de9a7b5af5"
   },
   "outputs": [
    {
     "data": {
      "text/html": [
       "<div><style>\n",
       ".dataframe > thead > tr > th,\n",
       ".dataframe > tbody > tr > td {\n",
       "  text-align: right;\n",
       "}\n",
       "</style>\n",
       "<small>shape: (5, 3)</small><table border=\"1\" class=\"dataframe\"><thead><tr><th>Pclass</th><th>Age</th><th>ageClass</th></tr><tr><td>i64</td><td>f64</td><td>i32</td></tr></thead><tbody><tr><td>3</td><td>22.0</td><td>0</td></tr><tr><td>1</td><td>38.0</td><td>2</td></tr><tr><td>3</td><td>26.0</td><td>0</td></tr><tr><td>1</td><td>35.0</td><td>2</td></tr><tr><td>3</td><td>35.0</td><td>0</td></tr></tbody></table></div>"
      ],
      "text/plain": [
       "shape: (5, 3)\n",
       "┌────────┬──────┬──────────┐\n",
       "│ Pclass ┆ Age  ┆ ageClass │\n",
       "│ ---    ┆ ---  ┆ ---      │\n",
       "│ i64    ┆ f64  ┆ i32      │\n",
       "╞════════╪══════╪══════════╡\n",
       "│ 3      ┆ 22.0 ┆ 0        │\n",
       "│ 1      ┆ 38.0 ┆ 2        │\n",
       "│ 3      ┆ 26.0 ┆ 0        │\n",
       "│ 1      ┆ 35.0 ┆ 2        │\n",
       "│ 3      ┆ 35.0 ┆ 0        │\n",
       "└────────┴──────┴──────────┘"
      ]
     },
     "execution_count": 55,
     "metadata": {},
     "output_type": "execute_result"
    }
   ],
   "source": [
    "df.select(\\\n",
    "          [pl.col('Pclass'),\n",
    "           pl.col('Age'),\n",
    "           pl.when((pl.col('Pclass') == 1) & (pl.col('Age') < 30)) \\\n",
    "           .then(1) \\\n",
    "           .when((pl.col('Pclass') == 1) & (pl.col('Age') >= 30)) \\\n",
    "           .then(2) \\\n",
    "           .otherwise(0) \\\n",
    "           .alias('ageClass')\n",
    "          ]\n",
    "          \n",
    "          ).head(5)"
   ]
  },
  {
   "cell_type": "code",
   "execution_count": null,
   "metadata": {
    "id": "RKvXkSUlATF_"
   },
   "outputs": [],
   "source": []
  }
 ],
 "metadata": {
  "colab": {
   "provenance": []
  },
  "kernelspec": {
   "display_name": "Python 3 (ipykernel)",
   "language": "python",
   "name": "python3"
  },
  "language_info": {
   "codemirror_mode": {
    "name": "ipython",
    "version": 3
   },
   "file_extension": ".py",
   "mimetype": "text/x-python",
   "name": "python",
   "nbconvert_exporter": "python",
   "pygments_lexer": "ipython3",
   "version": "3.9.16"
  }
 },
 "nbformat": 4,
 "nbformat_minor": 1
}
