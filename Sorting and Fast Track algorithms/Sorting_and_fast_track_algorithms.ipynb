{
  "nbformat": 4,
  "nbformat_minor": 0,
  "metadata": {
    "colab": {
      "provenance": []
    },
    "kernelspec": {
      "name": "python3",
      "display_name": "Python 3"
    },
    "language_info": {
      "name": "python"
    }
  },
  "cells": [
    {
      "cell_type": "markdown",
      "source": [
        "# Sorting"
      ],
      "metadata": {
        "id": "SaUz5qBAlbLs"
      }
    },
    {
      "cell_type": "code",
      "execution_count": null,
      "metadata": {
        "colab": {
          "base_uri": "https://localhost:8080/",
          "height": 192
        },
        "id": "xLHcY7TPk_1C",
        "outputId": "e4c36744-560b-4b04-b311-6061e1174783"
      },
      "outputs": [
        {
          "output_type": "execute_result",
          "data": {
            "text/plain": [
              "shape: (3, 12)\n",
              "┌─────────────┬──────────┬────────┬───────────────────┬───┬───────────┬─────────┬───────┬──────────┐\n",
              "│ PassengerId ┆ Survived ┆ Pclass ┆ Name              ┆ … ┆ Ticket    ┆ Fare    ┆ Cabin ┆ Embarked │\n",
              "│ ---         ┆ ---      ┆ ---    ┆ ---               ┆   ┆ ---       ┆ ---     ┆ ---   ┆ ---      │\n",
              "│ i64         ┆ i64      ┆ i64    ┆ str               ┆   ┆ str       ┆ f64     ┆ str   ┆ str      │\n",
              "╞═════════════╪══════════╪════════╪═══════════════════╪═══╪═══════════╪═════════╪═══════╪══════════╡\n",
              "│ 1           ┆ 0        ┆ 3      ┆ Braund, Mr. Owen  ┆ … ┆ A/5 21171 ┆ 7.25    ┆ null  ┆ S        │\n",
              "│             ┆          ┆        ┆ Harris            ┆   ┆           ┆         ┆       ┆          │\n",
              "│ 2           ┆ 1        ┆ 1      ┆ Cumings, Mrs.     ┆ … ┆ PC 17599  ┆ 71.2833 ┆ C85   ┆ C        │\n",
              "│             ┆          ┆        ┆ John Bradley      ┆   ┆           ┆         ┆       ┆          │\n",
              "│             ┆          ┆        ┆ (Flor…            ┆   ┆           ┆         ┆       ┆          │\n",
              "│ 3           ┆ 1        ┆ 3      ┆ Heikkinen, Miss.  ┆ … ┆ STON/O2.  ┆ 7.925   ┆ null  ┆ S        │\n",
              "│             ┆          ┆        ┆ Laina             ┆   ┆ 3101282   ┆         ┆       ┆          │\n",
              "└─────────────┴──────────┴────────┴───────────────────┴───┴───────────┴─────────┴───────┴──────────┘"
            ],
            "text/html": [
              "<div><style>\n",
              ".dataframe > thead > tr > th,\n",
              ".dataframe > tbody > tr > td {\n",
              "  text-align: right;\n",
              "}\n",
              "</style>\n",
              "<small>shape: (3, 12)</small><table border=\"1\" class=\"dataframe\"><thead><tr><th>PassengerId</th><th>Survived</th><th>Pclass</th><th>Name</th><th>Sex</th><th>Age</th><th>SibSp</th><th>Parch</th><th>Ticket</th><th>Fare</th><th>Cabin</th><th>Embarked</th></tr><tr><td>i64</td><td>i64</td><td>i64</td><td>str</td><td>str</td><td>f64</td><td>i64</td><td>i64</td><td>str</td><td>f64</td><td>str</td><td>str</td></tr></thead><tbody><tr><td>1</td><td>0</td><td>3</td><td>&quot;Braund, Mr. Ow…</td><td>&quot;male&quot;</td><td>22.0</td><td>1</td><td>0</td><td>&quot;A/5 21171&quot;</td><td>7.25</td><td>null</td><td>&quot;S&quot;</td></tr><tr><td>2</td><td>1</td><td>1</td><td>&quot;Cumings, Mrs. …</td><td>&quot;female&quot;</td><td>38.0</td><td>1</td><td>0</td><td>&quot;PC 17599&quot;</td><td>71.2833</td><td>&quot;C85&quot;</td><td>&quot;C&quot;</td></tr><tr><td>3</td><td>1</td><td>3</td><td>&quot;Heikkinen, Mis…</td><td>&quot;female&quot;</td><td>26.0</td><td>0</td><td>0</td><td>&quot;STON/O2. 31012…</td><td>7.925</td><td>null</td><td>&quot;S&quot;</td></tr></tbody></table></div>"
            ]
          },
          "metadata": {},
          "execution_count": 3
        }
      ],
      "source": [
        "import polars as pl\n",
        "\n",
        "csv_file = 'Titanic.csv'\n",
        "\n",
        "df = pl.read_csv(csv_file)\n",
        "df.head(3)"
      ]
    },
    {
      "cell_type": "markdown",
      "source": [
        "### Sorting a DataFrame\n",
        "\n",
        "We can sort a DataFrame object on a column with the sort method."
      ],
      "metadata": {
        "id": "L5SvYIjXlHdt"
      }
    },
    {
      "cell_type": "code",
      "source": [
        "# An auxillary step to display the first 2 and last 2 rows when printing a DataFrame\n",
        "\n",
        "pl.Config.set_tbl_rows(4)\n",
        "\n",
        "df.sort('Age')"
      ],
      "metadata": {
        "colab": {
          "base_uri": "https://localhost:8080/",
          "height": 255
        },
        "id": "fSBGHv-Alhml",
        "outputId": "9f18e116-1846-4625-b165-0a275103ae79"
      },
      "execution_count": null,
      "outputs": [
        {
          "output_type": "execute_result",
          "data": {
            "text/plain": [
              "shape: (891, 12)\n",
              "┌─────────────┬──────────┬────────┬───────────────────────┬───┬────────┬────────┬───────┬──────────┐\n",
              "│ PassengerId ┆ Survived ┆ Pclass ┆ Name                  ┆ … ┆ Ticket ┆ Fare   ┆ Cabin ┆ Embarked │\n",
              "│ ---         ┆ ---      ┆ ---    ┆ ---                   ┆   ┆ ---    ┆ ---    ┆ ---   ┆ ---      │\n",
              "│ i64         ┆ i64      ┆ i64    ┆ str                   ┆   ┆ str    ┆ f64    ┆ str   ┆ str      │\n",
              "╞═════════════╪══════════╪════════╪═══════════════════════╪═══╪════════╪════════╪═══════╪══════════╡\n",
              "│ 6           ┆ 0        ┆ 3      ┆ Moran, Mr. James      ┆ … ┆ 330877 ┆ 8.4583 ┆ null  ┆ Q        │\n",
              "│ 18          ┆ 1        ┆ 2      ┆ Williams, Mr. Charles ┆ … ┆ 244373 ┆ 13.0   ┆ null  ┆ S        │\n",
              "│             ┆          ┆        ┆ Eugene                ┆   ┆        ┆        ┆       ┆          │\n",
              "│ …           ┆ …        ┆ …      ┆ …                     ┆ … ┆ …      ┆ …      ┆ …     ┆ …        │\n",
              "│ 852         ┆ 0        ┆ 3      ┆ Svensson, Mr. Johan   ┆ … ┆ 347060 ┆ 7.775  ┆ null  ┆ S        │\n",
              "│ 631         ┆ 1        ┆ 1      ┆ Barkworth, Mr.        ┆ … ┆ 27042  ┆ 30.0   ┆ A23   ┆ S        │\n",
              "│             ┆          ┆        ┆ Algernon Henry Wi…    ┆   ┆        ┆        ┆       ┆          │\n",
              "└─────────────┴──────────┴────────┴───────────────────────┴───┴────────┴────────┴───────┴──────────┘"
            ],
            "text/html": [
              "<div><style>\n",
              ".dataframe > thead > tr > th,\n",
              ".dataframe > tbody > tr > td {\n",
              "  text-align: right;\n",
              "}\n",
              "</style>\n",
              "<small>shape: (891, 12)</small><table border=\"1\" class=\"dataframe\"><thead><tr><th>PassengerId</th><th>Survived</th><th>Pclass</th><th>Name</th><th>Sex</th><th>Age</th><th>SibSp</th><th>Parch</th><th>Ticket</th><th>Fare</th><th>Cabin</th><th>Embarked</th></tr><tr><td>i64</td><td>i64</td><td>i64</td><td>str</td><td>str</td><td>f64</td><td>i64</td><td>i64</td><td>str</td><td>f64</td><td>str</td><td>str</td></tr></thead><tbody><tr><td>6</td><td>0</td><td>3</td><td>&quot;Moran, Mr. Jam…</td><td>&quot;male&quot;</td><td>null</td><td>0</td><td>0</td><td>&quot;330877&quot;</td><td>8.4583</td><td>null</td><td>&quot;Q&quot;</td></tr><tr><td>18</td><td>1</td><td>2</td><td>&quot;Williams, Mr. …</td><td>&quot;male&quot;</td><td>null</td><td>0</td><td>0</td><td>&quot;244373&quot;</td><td>13.0</td><td>null</td><td>&quot;S&quot;</td></tr><tr><td>&hellip;</td><td>&hellip;</td><td>&hellip;</td><td>&hellip;</td><td>&hellip;</td><td>&hellip;</td><td>&hellip;</td><td>&hellip;</td><td>&hellip;</td><td>&hellip;</td><td>&hellip;</td><td>&hellip;</td></tr><tr><td>852</td><td>0</td><td>3</td><td>&quot;Svensson, Mr. …</td><td>&quot;male&quot;</td><td>74.0</td><td>0</td><td>0</td><td>&quot;347060&quot;</td><td>7.775</td><td>null</td><td>&quot;S&quot;</td></tr><tr><td>631</td><td>1</td><td>1</td><td>&quot;Barkworth, Mr.…</td><td>&quot;male&quot;</td><td>80.0</td><td>0</td><td>0</td><td>&quot;27042&quot;</td><td>30.0</td><td>&quot;A23&quot;</td><td>&quot;S&quot;</td></tr></tbody></table></div>"
            ]
          },
          "metadata": {},
          "execution_count": 6
        }
      ]
    },
    {
      "cell_type": "markdown",
      "source": [
        "By default the null values are at the start of the sort but we can move the nulls to the end with the nulls_last argument to sort.\n",
        "\n",
        "We can also sort based on multiple columns with a list."
      ],
      "metadata": {
        "id": "SKNpPWvzl2T2"
      }
    },
    {
      "cell_type": "code",
      "source": [
        "df.sort(['Pclass', 'Age'])"
      ],
      "metadata": {
        "colab": {
          "base_uri": "https://localhost:8080/",
          "height": 255
        },
        "id": "_k4LVXzxmO0u",
        "outputId": "1fc84aa8-08ba-4095-f123-16719a448a79"
      },
      "execution_count": null,
      "outputs": [
        {
          "output_type": "execute_result",
          "data": {
            "text/plain": [
              "shape: (891, 12)\n",
              "┌─────────────┬──────────┬────────┬───────────────────┬───┬──────────┬──────────┬───────┬──────────┐\n",
              "│ PassengerId ┆ Survived ┆ Pclass ┆ Name              ┆ … ┆ Ticket   ┆ Fare     ┆ Cabin ┆ Embarked │\n",
              "│ ---         ┆ ---      ┆ ---    ┆ ---               ┆   ┆ ---      ┆ ---      ┆ ---   ┆ ---      │\n",
              "│ i64         ┆ i64      ┆ i64    ┆ str               ┆   ┆ str      ┆ f64      ┆ str   ┆ str      │\n",
              "╞═════════════╪══════════╪════════╪═══════════════════╪═══╪══════════╪══════════╪═══════╪══════════╡\n",
              "│ 32          ┆ 1        ┆ 1      ┆ Spencer, Mrs.     ┆ … ┆ PC 17569 ┆ 146.5208 ┆ B78   ┆ C        │\n",
              "│             ┆          ┆        ┆ William Augustus  ┆   ┆          ┆          ┆       ┆          │\n",
              "│             ┆          ┆        ┆ (…                ┆   ┆          ┆          ┆       ┆          │\n",
              "│ 56          ┆ 1        ┆ 1      ┆ Woolner, Mr. Hugh ┆ … ┆ 19947    ┆ 35.5     ┆ C52   ┆ S        │\n",
              "│ …           ┆ …        ┆ …      ┆ …                 ┆ … ┆ …        ┆ …        ┆ …     ┆ …        │\n",
              "│ 117         ┆ 0        ┆ 3      ┆ Connors, Mr.      ┆ … ┆ 370369   ┆ 7.75     ┆ null  ┆ Q        │\n",
              "│             ┆          ┆        ┆ Patrick           ┆   ┆          ┆          ┆       ┆          │\n",
              "│ 852         ┆ 0        ┆ 3      ┆ Svensson, Mr.     ┆ … ┆ 347060   ┆ 7.775    ┆ null  ┆ S        │\n",
              "│             ┆          ┆        ┆ Johan             ┆   ┆          ┆          ┆       ┆          │\n",
              "└─────────────┴──────────┴────────┴───────────────────┴───┴──────────┴──────────┴───────┴──────────┘"
            ],
            "text/html": [
              "<div><style>\n",
              ".dataframe > thead > tr > th,\n",
              ".dataframe > tbody > tr > td {\n",
              "  text-align: right;\n",
              "}\n",
              "</style>\n",
              "<small>shape: (891, 12)</small><table border=\"1\" class=\"dataframe\"><thead><tr><th>PassengerId</th><th>Survived</th><th>Pclass</th><th>Name</th><th>Sex</th><th>Age</th><th>SibSp</th><th>Parch</th><th>Ticket</th><th>Fare</th><th>Cabin</th><th>Embarked</th></tr><tr><td>i64</td><td>i64</td><td>i64</td><td>str</td><td>str</td><td>f64</td><td>i64</td><td>i64</td><td>str</td><td>f64</td><td>str</td><td>str</td></tr></thead><tbody><tr><td>32</td><td>1</td><td>1</td><td>&quot;Spencer, Mrs. …</td><td>&quot;female&quot;</td><td>null</td><td>1</td><td>0</td><td>&quot;PC 17569&quot;</td><td>146.5208</td><td>&quot;B78&quot;</td><td>&quot;C&quot;</td></tr><tr><td>56</td><td>1</td><td>1</td><td>&quot;Woolner, Mr. H…</td><td>&quot;male&quot;</td><td>null</td><td>0</td><td>0</td><td>&quot;19947&quot;</td><td>35.5</td><td>&quot;C52&quot;</td><td>&quot;S&quot;</td></tr><tr><td>&hellip;</td><td>&hellip;</td><td>&hellip;</td><td>&hellip;</td><td>&hellip;</td><td>&hellip;</td><td>&hellip;</td><td>&hellip;</td><td>&hellip;</td><td>&hellip;</td><td>&hellip;</td><td>&hellip;</td></tr><tr><td>117</td><td>0</td><td>3</td><td>&quot;Connors, Mr. P…</td><td>&quot;male&quot;</td><td>70.5</td><td>0</td><td>0</td><td>&quot;370369&quot;</td><td>7.75</td><td>null</td><td>&quot;Q&quot;</td></tr><tr><td>852</td><td>0</td><td>3</td><td>&quot;Svensson, Mr. …</td><td>&quot;male&quot;</td><td>74.0</td><td>0</td><td>0</td><td>&quot;347060&quot;</td><td>7.775</td><td>null</td><td>&quot;S&quot;</td></tr></tbody></table></div>"
            ]
          },
          "metadata": {},
          "execution_count": 7
        }
      ]
    },
    {
      "cell_type": "markdown",
      "source": [
        "### Sorting a column with an expression\n",
        "\n",
        "We can transform a column into sorted order with an expression. In the example below we sort all columns individually."
      ],
      "metadata": {
        "id": "IXEGxdUlmUQY"
      }
    },
    {
      "cell_type": "code",
      "source": [
        "df.select(pl.all().sort())"
      ],
      "metadata": {
        "colab": {
          "base_uri": "https://localhost:8080/",
          "height": 255
        },
        "id": "l2lA2eUzmmJo",
        "outputId": "abfb1473-eb2e-422f-9c84-b2408ea2571e"
      },
      "execution_count": null,
      "outputs": [
        {
          "output_type": "execute_result",
          "data": {
            "text/plain": [
              "shape: (891, 12)\n",
              "┌─────────────┬──────────┬────────┬──────────────────┬───┬───────────┬──────────┬───────┬──────────┐\n",
              "│ PassengerId ┆ Survived ┆ Pclass ┆ Name             ┆ … ┆ Ticket    ┆ Fare     ┆ Cabin ┆ Embarked │\n",
              "│ ---         ┆ ---      ┆ ---    ┆ ---              ┆   ┆ ---       ┆ ---      ┆ ---   ┆ ---      │\n",
              "│ i64         ┆ i64      ┆ i64    ┆ str              ┆   ┆ str       ┆ f64      ┆ str   ┆ str      │\n",
              "╞═════════════╪══════════╪════════╪══════════════════╪═══╪═══════════╪══════════╪═══════╪══════════╡\n",
              "│ 1           ┆ 0        ┆ 1      ┆ Abbing, Mr.      ┆ … ┆ 110152    ┆ 0.0      ┆ null  ┆ null     │\n",
              "│             ┆          ┆        ┆ Anthony          ┆   ┆           ┆          ┆       ┆          │\n",
              "│ 2           ┆ 0        ┆ 1      ┆ Abbott, Mr.      ┆ … ┆ 110152    ┆ 0.0      ┆ null  ┆ null     │\n",
              "│             ┆          ┆        ┆ Rossmore Edward  ┆   ┆           ┆          ┆       ┆          │\n",
              "│ …           ┆ …        ┆ …      ┆ …                ┆ … ┆ …         ┆ …        ┆ …     ┆ …        │\n",
              "│ 890         ┆ 1        ┆ 3      ┆ van Billiard,    ┆ … ┆ WE/P 5735 ┆ 512.3292 ┆ G6    ┆ S        │\n",
              "│             ┆          ┆        ┆ Mr. Austin       ┆   ┆           ┆          ┆       ┆          │\n",
              "│             ┆          ┆        ┆ Blyler           ┆   ┆           ┆          ┆       ┆          │\n",
              "│ 891         ┆ 1        ┆ 3      ┆ van Melkebeke,   ┆ … ┆ WE/P 5735 ┆ 512.3292 ┆ T     ┆ S        │\n",
              "│             ┆          ┆        ┆ Mr. Philemon     ┆   ┆           ┆          ┆       ┆          │\n",
              "└─────────────┴──────────┴────────┴──────────────────┴───┴───────────┴──────────┴───────┴──────────┘"
            ],
            "text/html": [
              "<div><style>\n",
              ".dataframe > thead > tr > th,\n",
              ".dataframe > tbody > tr > td {\n",
              "  text-align: right;\n",
              "}\n",
              "</style>\n",
              "<small>shape: (891, 12)</small><table border=\"1\" class=\"dataframe\"><thead><tr><th>PassengerId</th><th>Survived</th><th>Pclass</th><th>Name</th><th>Sex</th><th>Age</th><th>SibSp</th><th>Parch</th><th>Ticket</th><th>Fare</th><th>Cabin</th><th>Embarked</th></tr><tr><td>i64</td><td>i64</td><td>i64</td><td>str</td><td>str</td><td>f64</td><td>i64</td><td>i64</td><td>str</td><td>f64</td><td>str</td><td>str</td></tr></thead><tbody><tr><td>1</td><td>0</td><td>1</td><td>&quot;Abbing, Mr. An…</td><td>&quot;female&quot;</td><td>null</td><td>0</td><td>0</td><td>&quot;110152&quot;</td><td>0.0</td><td>null</td><td>null</td></tr><tr><td>2</td><td>0</td><td>1</td><td>&quot;Abbott, Mr. Ro…</td><td>&quot;female&quot;</td><td>null</td><td>0</td><td>0</td><td>&quot;110152&quot;</td><td>0.0</td><td>null</td><td>null</td></tr><tr><td>&hellip;</td><td>&hellip;</td><td>&hellip;</td><td>&hellip;</td><td>&hellip;</td><td>&hellip;</td><td>&hellip;</td><td>&hellip;</td><td>&hellip;</td><td>&hellip;</td><td>&hellip;</td><td>&hellip;</td></tr><tr><td>890</td><td>1</td><td>3</td><td>&quot;van Billiard, …</td><td>&quot;male&quot;</td><td>74.0</td><td>8</td><td>5</td><td>&quot;WE/P 5735&quot;</td><td>512.3292</td><td>&quot;G6&quot;</td><td>&quot;S&quot;</td></tr><tr><td>891</td><td>1</td><td>3</td><td>&quot;van Melkebeke,…</td><td>&quot;male&quot;</td><td>80.0</td><td>8</td><td>6</td><td>&quot;WE/P 5735&quot;</td><td>512.3292</td><td>&quot;T&quot;</td><td>&quot;S&quot;</td></tr></tbody></table></div>"
            ]
          },
          "metadata": {},
          "execution_count": 9
        }
      ]
    },
    {
      "cell_type": "markdown",
      "source": [
        "### Taking advantage of sorted data (Fast Track algorithm)\n",
        "\n",
        "For some operations polars can use a fast track algorithm if it knows the data in a column is sorted. For example, if we want the max value on a sorted column we just take the last non-null value. You can easily check if Polars thinks a column is sorted with the flags attribute."
      ],
      "metadata": {
        "id": "0uaQygStmnMl"
      }
    },
    {
      "cell_type": "code",
      "source": [
        "df['PassengerId'].flags"
      ],
      "metadata": {
        "colab": {
          "base_uri": "https://localhost:8080/"
        },
        "id": "djMYtZj0mnO2",
        "outputId": "c28521e6-3a08-45ff-80ab-9130700cb8a2"
      },
      "execution_count": null,
      "outputs": [
        {
          "output_type": "execute_result",
          "data": {
            "text/plain": [
              "{'SORTED_ASC': False, 'SORTED_DESC': False}"
            ]
          },
          "metadata": {},
          "execution_count": 11
        }
      ]
    },
    {
      "cell_type": "markdown",
      "source": [
        "Since in this case polars doesn't think the PassengerID column is sorted the fast track algorithm won't be applied."
      ],
      "metadata": {
        "id": "C1ljsP7nmnRA"
      }
    },
    {
      "cell_type": "markdown",
      "source": [
        "### Setting the sorted status\n",
        "\n",
        "If we know that a column is sorted then we can let Polars know using set_sorted method. Alternatively, if we use the sorting operation on a column with the .sort method, the flag will be applied automatically (either ascending or descending order)."
      ],
      "metadata": {
        "id": "te5_-_S7nawH"
      }
    },
    {
      "cell_type": "code",
      "source": [
        "# Setting the flafs manually\n",
        "df = df.with_column(pl.col('PassengerId').set_sorted())\n",
        "\n",
        "df['PassengerId'].flags"
      ],
      "metadata": {
        "colab": {
          "base_uri": "https://localhost:8080/"
        },
        "id": "jAzkW2Swn6KR",
        "outputId": "320ff3c3-d0e4-4176-97ac-fa530bf69883"
      },
      "execution_count": null,
      "outputs": [
        {
          "output_type": "stream",
          "name": "stderr",
          "text": [
            "<ipython-input-12-2851e012ca4a>:1: DeprecationWarning: `DataFrame.with_column` has been renamed; this redirect is temporary, please use `.with_columns` instead\n",
            "  df = df.with_column(pl.col('PassengerId').set_sorted())\n"
          ]
        },
        {
          "output_type": "execute_result",
          "data": {
            "text/plain": [
              "{'SORTED_ASC': True, 'SORTED_DESC': False}"
            ]
          },
          "metadata": {},
          "execution_count": 12
        }
      ]
    },
    {
      "cell_type": "code",
      "source": [
        "# Automated flag ascending\n",
        "\n",
        "df = pl.read_csv(csv_file).sort('PassengerId')\n",
        "df['PassengerId'].flags"
      ],
      "metadata": {
        "colab": {
          "base_uri": "https://localhost:8080/"
        },
        "id": "QEYHICVXoE65",
        "outputId": "b85d38fe-283f-4164-de3a-cccb1a50d597"
      },
      "execution_count": null,
      "outputs": [
        {
          "output_type": "execute_result",
          "data": {
            "text/plain": [
              "{'SORTED_ASC': True, 'SORTED_DESC': False}"
            ]
          },
          "metadata": {},
          "execution_count": 15
        }
      ]
    },
    {
      "cell_type": "code",
      "source": [
        "# Automated flag descending\n",
        "\n",
        "df = pl.read_csv(csv_file).sort('PassengerId', descending = True)\n",
        "df['PassengerId'].flags"
      ],
      "metadata": {
        "colab": {
          "base_uri": "https://localhost:8080/"
        },
        "id": "k4Yy9SNjoiDr",
        "outputId": "56081d4d-6715-48fe-b8ec-2c207d07fe1d"
      },
      "execution_count": null,
      "outputs": [
        {
          "output_type": "execute_result",
          "data": {
            "text/plain": [
              "{'SORTED_ASC': False, 'SORTED_DESC': True}"
            ]
          },
          "metadata": {},
          "execution_count": 17
        }
      ]
    },
    {
      "cell_type": "code",
      "source": [],
      "metadata": {
        "id": "HYOtLK6-oya8"
      },
      "execution_count": null,
      "outputs": []
    }
  ]
}