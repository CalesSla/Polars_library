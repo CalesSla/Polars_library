{
  "nbformat": 4,
  "nbformat_minor": 0,
  "metadata": {
    "colab": {
      "provenance": []
    },
    "kernelspec": {
      "name": "python3",
      "display_name": "Python 3"
    },
    "language_info": {
      "name": "python"
    }
  },
  "cells": [
    {
      "cell_type": "markdown",
      "source": [
        "# Rows filtering\n"
      ],
      "metadata": {
        "id": "vKrRqd6IRLEC"
      }
    },
    {
      "cell_type": "code",
      "source": [
        "import polars as pl\n",
        "\n",
        "csv_file = 'Titanic.csv'\n",
        "\n",
        "df = pl.read_csv(csv_file)"
      ],
      "metadata": {
        "id": "i5U04mIyROOI"
      },
      "execution_count": null,
      "outputs": []
    },
    {
      "cell_type": "markdown",
      "source": [
        "Polars doesn't have an explicit index. It does, however, have an implicit integer row number index. It is possible to select individual row with traditional square brackets synthax."
      ],
      "metadata": {
        "id": "LdpeoQK-RwUr"
      }
    },
    {
      "cell_type": "code",
      "source": [
        "# Single row\n",
        "\n",
        "df[0]"
      ],
      "metadata": {
        "colab": {
          "base_uri": "https://localhost:8080/",
          "height": 129
        },
        "id": "KiMC4fvPR1NK",
        "outputId": "3cd31056-6334-4ea0-8a44-00d00fe1955a"
      },
      "execution_count": null,
      "outputs": [
        {
          "output_type": "execute_result",
          "data": {
            "text/plain": [
              "shape: (1, 12)\n",
              "┌─────────────┬──────────┬────────┬──────────────────┬───┬───────────┬──────┬───────┬──────────┐\n",
              "│ PassengerId ┆ Survived ┆ Pclass ┆ Name             ┆ … ┆ Ticket    ┆ Fare ┆ Cabin ┆ Embarked │\n",
              "│ ---         ┆ ---      ┆ ---    ┆ ---              ┆   ┆ ---       ┆ ---  ┆ ---   ┆ ---      │\n",
              "│ i64         ┆ i64      ┆ i64    ┆ str              ┆   ┆ str       ┆ f64  ┆ str   ┆ str      │\n",
              "╞═════════════╪══════════╪════════╪══════════════════╪═══╪═══════════╪══════╪═══════╪══════════╡\n",
              "│ 1           ┆ 0        ┆ 3      ┆ Braund, Mr. Owen ┆ … ┆ A/5 21171 ┆ 7.25 ┆ null  ┆ S        │\n",
              "│             ┆          ┆        ┆ Harris           ┆   ┆           ┆      ┆       ┆          │\n",
              "└─────────────┴──────────┴────────┴──────────────────┴───┴───────────┴──────┴───────┴──────────┘"
            ],
            "text/html": [
              "<div><style>\n",
              ".dataframe > thead > tr > th,\n",
              ".dataframe > tbody > tr > td {\n",
              "  text-align: right;\n",
              "}\n",
              "</style>\n",
              "<small>shape: (1, 12)</small><table border=\"1\" class=\"dataframe\"><thead><tr><th>PassengerId</th><th>Survived</th><th>Pclass</th><th>Name</th><th>Sex</th><th>Age</th><th>SibSp</th><th>Parch</th><th>Ticket</th><th>Fare</th><th>Cabin</th><th>Embarked</th></tr><tr><td>i64</td><td>i64</td><td>i64</td><td>str</td><td>str</td><td>f64</td><td>i64</td><td>i64</td><td>str</td><td>f64</td><td>str</td><td>str</td></tr></thead><tbody><tr><td>1</td><td>0</td><td>3</td><td>&quot;Braund, Mr. Ow…</td><td>&quot;male&quot;</td><td>22.0</td><td>1</td><td>0</td><td>&quot;A/5 21171&quot;</td><td>7.25</td><td>null</td><td>&quot;S&quot;</td></tr></tbody></table></div>"
            ]
          },
          "metadata": {},
          "execution_count": 5
        }
      ]
    },
    {
      "cell_type": "code",
      "source": [
        "# Specific rows\n",
        "\n",
        "df[[2,3]]"
      ],
      "metadata": {
        "colab": {
          "base_uri": "https://localhost:8080/",
          "height": 161
        },
        "id": "LOqXT0LSR2JY",
        "outputId": "f79db23a-8477-40f5-8c81-4192f181838c"
      },
      "execution_count": null,
      "outputs": [
        {
          "output_type": "execute_result",
          "data": {
            "text/plain": [
              "shape: (2, 12)\n",
              "┌─────────────┬──────────┬────────┬──────────────────────┬───┬──────────┬───────┬───────┬──────────┐\n",
              "│ PassengerId ┆ Survived ┆ Pclass ┆ Name                 ┆ … ┆ Ticket   ┆ Fare  ┆ Cabin ┆ Embarked │\n",
              "│ ---         ┆ ---      ┆ ---    ┆ ---                  ┆   ┆ ---      ┆ ---   ┆ ---   ┆ ---      │\n",
              "│ i64         ┆ i64      ┆ i64    ┆ str                  ┆   ┆ str      ┆ f64   ┆ str   ┆ str      │\n",
              "╞═════════════╪══════════╪════════╪══════════════════════╪═══╪══════════╪═══════╪═══════╪══════════╡\n",
              "│ 3           ┆ 1        ┆ 3      ┆ Heikkinen, Miss.     ┆ … ┆ STON/O2. ┆ 7.925 ┆ null  ┆ S        │\n",
              "│             ┆          ┆        ┆ Laina                ┆   ┆ 3101282  ┆       ┆       ┆          │\n",
              "│ 4           ┆ 1        ┆ 1      ┆ Futrelle, Mrs.       ┆ … ┆ 113803   ┆ 53.1  ┆ C123  ┆ S        │\n",
              "│             ┆          ┆        ┆ Jacques Heath (Li…   ┆   ┆          ┆       ┆       ┆          │\n",
              "└─────────────┴──────────┴────────┴──────────────────────┴───┴──────────┴───────┴───────┴──────────┘"
            ],
            "text/html": [
              "<div><style>\n",
              ".dataframe > thead > tr > th,\n",
              ".dataframe > tbody > tr > td {\n",
              "  text-align: right;\n",
              "}\n",
              "</style>\n",
              "<small>shape: (2, 12)</small><table border=\"1\" class=\"dataframe\"><thead><tr><th>PassengerId</th><th>Survived</th><th>Pclass</th><th>Name</th><th>Sex</th><th>Age</th><th>SibSp</th><th>Parch</th><th>Ticket</th><th>Fare</th><th>Cabin</th><th>Embarked</th></tr><tr><td>i64</td><td>i64</td><td>i64</td><td>str</td><td>str</td><td>f64</td><td>i64</td><td>i64</td><td>str</td><td>f64</td><td>str</td><td>str</td></tr></thead><tbody><tr><td>3</td><td>1</td><td>3</td><td>&quot;Heikkinen, Mis…</td><td>&quot;female&quot;</td><td>26.0</td><td>0</td><td>0</td><td>&quot;STON/O2. 31012…</td><td>7.925</td><td>null</td><td>&quot;S&quot;</td></tr><tr><td>4</td><td>1</td><td>1</td><td>&quot;Futrelle, Mrs.…</td><td>&quot;female&quot;</td><td>35.0</td><td>1</td><td>0</td><td>&quot;113803&quot;</td><td>53.1</td><td>&quot;C123&quot;</td><td>&quot;S&quot;</td></tr></tbody></table></div>"
            ]
          },
          "metadata": {},
          "execution_count": 6
        }
      ]
    },
    {
      "cell_type": "code",
      "source": [
        "# Slicing\n",
        "\n",
        "df[:2]"
      ],
      "metadata": {
        "id": "SgUAOgVDR2Ln",
        "colab": {
          "base_uri": "https://localhost:8080/",
          "height": 161
        },
        "outputId": "6b7ab1be-b027-4314-fc4b-60d03cfdb98b"
      },
      "execution_count": null,
      "outputs": [
        {
          "output_type": "execute_result",
          "data": {
            "text/plain": [
              "shape: (2, 12)\n",
              "┌─────────────┬──────────┬────────┬───────────────────┬───┬───────────┬─────────┬───────┬──────────┐\n",
              "│ PassengerId ┆ Survived ┆ Pclass ┆ Name              ┆ … ┆ Ticket    ┆ Fare    ┆ Cabin ┆ Embarked │\n",
              "│ ---         ┆ ---      ┆ ---    ┆ ---               ┆   ┆ ---       ┆ ---     ┆ ---   ┆ ---      │\n",
              "│ i64         ┆ i64      ┆ i64    ┆ str               ┆   ┆ str       ┆ f64     ┆ str   ┆ str      │\n",
              "╞═════════════╪══════════╪════════╪═══════════════════╪═══╪═══════════╪═════════╪═══════╪══════════╡\n",
              "│ 1           ┆ 0        ┆ 3      ┆ Braund, Mr. Owen  ┆ … ┆ A/5 21171 ┆ 7.25    ┆ null  ┆ S        │\n",
              "│             ┆          ┆        ┆ Harris            ┆   ┆           ┆         ┆       ┆          │\n",
              "│ 2           ┆ 1        ┆ 1      ┆ Cumings, Mrs.     ┆ … ┆ PC 17599  ┆ 71.2833 ┆ C85   ┆ C        │\n",
              "│             ┆          ┆        ┆ John Bradley      ┆   ┆           ┆         ┆       ┆          │\n",
              "│             ┆          ┆        ┆ (Flor…            ┆   ┆           ┆         ┆       ┆          │\n",
              "└─────────────┴──────────┴────────┴───────────────────┴───┴───────────┴─────────┴───────┴──────────┘"
            ],
            "text/html": [
              "<div><style>\n",
              ".dataframe > thead > tr > th,\n",
              ".dataframe > tbody > tr > td {\n",
              "  text-align: right;\n",
              "}\n",
              "</style>\n",
              "<small>shape: (2, 12)</small><table border=\"1\" class=\"dataframe\"><thead><tr><th>PassengerId</th><th>Survived</th><th>Pclass</th><th>Name</th><th>Sex</th><th>Age</th><th>SibSp</th><th>Parch</th><th>Ticket</th><th>Fare</th><th>Cabin</th><th>Embarked</th></tr><tr><td>i64</td><td>i64</td><td>i64</td><td>str</td><td>str</td><td>f64</td><td>i64</td><td>i64</td><td>str</td><td>f64</td><td>str</td><td>str</td></tr></thead><tbody><tr><td>1</td><td>0</td><td>3</td><td>&quot;Braund, Mr. Ow…</td><td>&quot;male&quot;</td><td>22.0</td><td>1</td><td>0</td><td>&quot;A/5 21171&quot;</td><td>7.25</td><td>null</td><td>&quot;S&quot;</td></tr><tr><td>2</td><td>1</td><td>1</td><td>&quot;Cumings, Mrs. …</td><td>&quot;female&quot;</td><td>38.0</td><td>1</td><td>0</td><td>&quot;PC 17599&quot;</td><td>71.2833</td><td>&quot;C85&quot;</td><td>&quot;C&quot;</td></tr></tbody></table></div>"
            ]
          },
          "metadata": {},
          "execution_count": 7
        }
      ]
    },
    {
      "cell_type": "markdown",
      "source": [
        "Unlike pandas, polars does not accept a list of boolean OR a Series of booleans values for rows filtering:\n",
        "\n",
        "df[True for _ in range(len(df))] - will yield an error:"
      ],
      "metadata": {
        "id": "ZejdPjrjR2OG"
      }
    },
    {
      "cell_type": "markdown",
      "source": [
        "### Use case of indexing with [] notation\n",
        "\n",
        "Unlike in pandas, in polars filter method is the primary way to filter rows in Polars. The main use case of [] to select rows is when inspecting data in interactive mode. In this case, the filter method is an example of the Expression API, which is native to polars. Using the Expression API is the most important step to writing high performance queries in Polars."
      ],
      "metadata": {
        "id": "99LIdrkIR2Qg"
      }
    },
    {
      "cell_type": "code",
      "source": [
        "# An example of using the filter method on a DataFrame\n",
        "\n",
        "df.filter(pl.col('Pclass') == 1).head(3)"
      ],
      "metadata": {
        "id": "pIChBe1XR2Sv",
        "colab": {
          "base_uri": "https://localhost:8080/",
          "height": 192
        },
        "outputId": "c55fff1a-8e5c-4f7c-8f53-c4f1c367bf24"
      },
      "execution_count": null,
      "outputs": [
        {
          "output_type": "execute_result",
          "data": {
            "text/plain": [
              "shape: (3, 12)\n",
              "┌─────────────┬──────────┬────────┬────────────────────┬───┬──────────┬─────────┬───────┬──────────┐\n",
              "│ PassengerId ┆ Survived ┆ Pclass ┆ Name               ┆ … ┆ Ticket   ┆ Fare    ┆ Cabin ┆ Embarked │\n",
              "│ ---         ┆ ---      ┆ ---    ┆ ---                ┆   ┆ ---      ┆ ---     ┆ ---   ┆ ---      │\n",
              "│ i64         ┆ i64      ┆ i64    ┆ str                ┆   ┆ str      ┆ f64     ┆ str   ┆ str      │\n",
              "╞═════════════╪══════════╪════════╪════════════════════╪═══╪══════════╪═════════╪═══════╪══════════╡\n",
              "│ 2           ┆ 1        ┆ 1      ┆ Cumings, Mrs. John ┆ … ┆ PC 17599 ┆ 71.2833 ┆ C85   ┆ C        │\n",
              "│             ┆          ┆        ┆ Bradley (Flor…     ┆   ┆          ┆         ┆       ┆          │\n",
              "│ 4           ┆ 1        ┆ 1      ┆ Futrelle, Mrs.     ┆ … ┆ 113803   ┆ 53.1    ┆ C123  ┆ S        │\n",
              "│             ┆          ┆        ┆ Jacques Heath (Li… ┆   ┆          ┆         ┆       ┆          │\n",
              "│ 7           ┆ 0        ┆ 1      ┆ McCarthy, Mr.      ┆ … ┆ 17463    ┆ 51.8625 ┆ E46   ┆ S        │\n",
              "│             ┆          ┆        ┆ Timothy J          ┆   ┆          ┆         ┆       ┆          │\n",
              "└─────────────┴──────────┴────────┴────────────────────┴───┴──────────┴─────────┴───────┴──────────┘"
            ],
            "text/html": [
              "<div><style>\n",
              ".dataframe > thead > tr > th,\n",
              ".dataframe > tbody > tr > td {\n",
              "  text-align: right;\n",
              "}\n",
              "</style>\n",
              "<small>shape: (3, 12)</small><table border=\"1\" class=\"dataframe\"><thead><tr><th>PassengerId</th><th>Survived</th><th>Pclass</th><th>Name</th><th>Sex</th><th>Age</th><th>SibSp</th><th>Parch</th><th>Ticket</th><th>Fare</th><th>Cabin</th><th>Embarked</th></tr><tr><td>i64</td><td>i64</td><td>i64</td><td>str</td><td>str</td><td>f64</td><td>i64</td><td>i64</td><td>str</td><td>f64</td><td>str</td><td>str</td></tr></thead><tbody><tr><td>2</td><td>1</td><td>1</td><td>&quot;Cumings, Mrs. …</td><td>&quot;female&quot;</td><td>38.0</td><td>1</td><td>0</td><td>&quot;PC 17599&quot;</td><td>71.2833</td><td>&quot;C85&quot;</td><td>&quot;C&quot;</td></tr><tr><td>4</td><td>1</td><td>1</td><td>&quot;Futrelle, Mrs.…</td><td>&quot;female&quot;</td><td>35.0</td><td>1</td><td>0</td><td>&quot;113803&quot;</td><td>53.1</td><td>&quot;C123&quot;</td><td>&quot;S&quot;</td></tr><tr><td>7</td><td>0</td><td>1</td><td>&quot;McCarthy, Mr. …</td><td>&quot;male&quot;</td><td>54.0</td><td>0</td><td>0</td><td>&quot;17463&quot;</td><td>51.8625</td><td>&quot;E46&quot;</td><td>&quot;S&quot;</td></tr></tbody></table></div>"
            ]
          },
          "metadata": {},
          "execution_count": 10
        }
      ]
    },
    {
      "cell_type": "code",
      "source": [
        "# Another example of using the filter method\n",
        "\n",
        "df.filter(pl.col('Parch') > 1).head(3)"
      ],
      "metadata": {
        "id": "KHtzSKMVR2VR",
        "colab": {
          "base_uri": "https://localhost:8080/",
          "height": 192
        },
        "outputId": "a1948ff9-8ec1-48ad-97ca-77a65a507b1f"
      },
      "execution_count": null,
      "outputs": [
        {
          "output_type": "execute_result",
          "data": {
            "text/plain": [
              "shape: (3, 12)\n",
              "┌─────────────┬──────────┬────────┬──────────────────────┬───┬────────┬─────────┬───────┬──────────┐\n",
              "│ PassengerId ┆ Survived ┆ Pclass ┆ Name                 ┆ … ┆ Ticket ┆ Fare    ┆ Cabin ┆ Embarked │\n",
              "│ ---         ┆ ---      ┆ ---    ┆ ---                  ┆   ┆ ---    ┆ ---     ┆ ---   ┆ ---      │\n",
              "│ i64         ┆ i64      ┆ i64    ┆ str                  ┆   ┆ str    ┆ f64     ┆ str   ┆ str      │\n",
              "╞═════════════╪══════════╪════════╪══════════════════════╪═══╪════════╪═════════╪═══════╪══════════╡\n",
              "│ 9           ┆ 1        ┆ 3      ┆ Johnson, Mrs. Oscar  ┆ … ┆ 347742 ┆ 11.1333 ┆ null  ┆ S        │\n",
              "│             ┆          ┆        ┆ W (Elisabeth…        ┆   ┆        ┆         ┆       ┆          │\n",
              "│ 14          ┆ 0        ┆ 3      ┆ Andersson, Mr.       ┆ … ┆ 347082 ┆ 31.275  ┆ null  ┆ S        │\n",
              "│             ┆          ┆        ┆ Anders Johan         ┆   ┆        ┆         ┆       ┆          │\n",
              "│ 26          ┆ 1        ┆ 3      ┆ Asplund, Mrs. Carl   ┆ … ┆ 347077 ┆ 31.3875 ┆ null  ┆ S        │\n",
              "│             ┆          ┆        ┆ Oscar (Selma …       ┆   ┆        ┆         ┆       ┆          │\n",
              "└─────────────┴──────────┴────────┴──────────────────────┴───┴────────┴─────────┴───────┴──────────┘"
            ],
            "text/html": [
              "<div><style>\n",
              ".dataframe > thead > tr > th,\n",
              ".dataframe > tbody > tr > td {\n",
              "  text-align: right;\n",
              "}\n",
              "</style>\n",
              "<small>shape: (3, 12)</small><table border=\"1\" class=\"dataframe\"><thead><tr><th>PassengerId</th><th>Survived</th><th>Pclass</th><th>Name</th><th>Sex</th><th>Age</th><th>SibSp</th><th>Parch</th><th>Ticket</th><th>Fare</th><th>Cabin</th><th>Embarked</th></tr><tr><td>i64</td><td>i64</td><td>i64</td><td>str</td><td>str</td><td>f64</td><td>i64</td><td>i64</td><td>str</td><td>f64</td><td>str</td><td>str</td></tr></thead><tbody><tr><td>9</td><td>1</td><td>3</td><td>&quot;Johnson, Mrs. …</td><td>&quot;female&quot;</td><td>27.0</td><td>0</td><td>2</td><td>&quot;347742&quot;</td><td>11.1333</td><td>null</td><td>&quot;S&quot;</td></tr><tr><td>14</td><td>0</td><td>3</td><td>&quot;Andersson, Mr.…</td><td>&quot;male&quot;</td><td>39.0</td><td>1</td><td>5</td><td>&quot;347082&quot;</td><td>31.275</td><td>null</td><td>&quot;S&quot;</td></tr><tr><td>26</td><td>1</td><td>3</td><td>&quot;Asplund, Mrs. …</td><td>&quot;female&quot;</td><td>38.0</td><td>1</td><td>5</td><td>&quot;347077&quot;</td><td>31.3875</td><td>null</td><td>&quot;S&quot;</td></tr></tbody></table></div>"
            ]
          },
          "metadata": {},
          "execution_count": 12
        }
      ]
    },
    {
      "cell_type": "markdown",
      "source": [
        "# Key differences between [] and filter\n",
        "\n",
        "* [] indexing can only be used in eager mode, while filter can also be used in lazy mode\n",
        "* filter expressions are optimized in lazy mode by the query optimizer\n",
        "\n",
        "So the general rule of thumb is to use [] for data inspection in interactive mode and filter method in all other cases"
      ],
      "metadata": {
        "id": "o5mwRa4jVTsM"
      }
    },
    {
      "cell_type": "code",
      "source": [
        "# An example of applying filter method with a condition based on the number of rows.\n",
        "\n",
        "df = df.with_row_count(name = 'row_nr')\n",
        "df.head(3)"
      ],
      "metadata": {
        "colab": {
          "base_uri": "https://localhost:8080/",
          "height": 192
        },
        "id": "zx177VokVqGl",
        "outputId": "21b2e617-200c-4557-d6e8-e98411527a0d"
      },
      "execution_count": null,
      "outputs": [
        {
          "output_type": "execute_result",
          "data": {
            "text/plain": [
              "shape: (3, 13)\n",
              "┌────────┬─────────────┬──────────┬────────┬───┬──────────────────┬─────────┬───────┬──────────┐\n",
              "│ row_nr ┆ PassengerId ┆ Survived ┆ Pclass ┆ … ┆ Ticket           ┆ Fare    ┆ Cabin ┆ Embarked │\n",
              "│ ---    ┆ ---         ┆ ---      ┆ ---    ┆   ┆ ---              ┆ ---     ┆ ---   ┆ ---      │\n",
              "│ u32    ┆ i64         ┆ i64      ┆ i64    ┆   ┆ str              ┆ f64     ┆ str   ┆ str      │\n",
              "╞════════╪═════════════╪══════════╪════════╪═══╪══════════════════╪═════════╪═══════╪══════════╡\n",
              "│ 0      ┆ 1           ┆ 0        ┆ 3      ┆ … ┆ A/5 21171        ┆ 7.25    ┆ null  ┆ S        │\n",
              "│ 1      ┆ 2           ┆ 1        ┆ 1      ┆ … ┆ PC 17599         ┆ 71.2833 ┆ C85   ┆ C        │\n",
              "│ 2      ┆ 3           ┆ 1        ┆ 3      ┆ … ┆ STON/O2. 3101282 ┆ 7.925   ┆ null  ┆ S        │\n",
              "└────────┴─────────────┴──────────┴────────┴───┴──────────────────┴─────────┴───────┴──────────┘"
            ],
            "text/html": [
              "<div><style>\n",
              ".dataframe > thead > tr > th,\n",
              ".dataframe > tbody > tr > td {\n",
              "  text-align: right;\n",
              "}\n",
              "</style>\n",
              "<small>shape: (3, 13)</small><table border=\"1\" class=\"dataframe\"><thead><tr><th>row_nr</th><th>PassengerId</th><th>Survived</th><th>Pclass</th><th>Name</th><th>Sex</th><th>Age</th><th>SibSp</th><th>Parch</th><th>Ticket</th><th>Fare</th><th>Cabin</th><th>Embarked</th></tr><tr><td>u32</td><td>i64</td><td>i64</td><td>i64</td><td>str</td><td>str</td><td>f64</td><td>i64</td><td>i64</td><td>str</td><td>f64</td><td>str</td><td>str</td></tr></thead><tbody><tr><td>0</td><td>1</td><td>0</td><td>3</td><td>&quot;Braund, Mr. Ow…</td><td>&quot;male&quot;</td><td>22.0</td><td>1</td><td>0</td><td>&quot;A/5 21171&quot;</td><td>7.25</td><td>null</td><td>&quot;S&quot;</td></tr><tr><td>1</td><td>2</td><td>1</td><td>1</td><td>&quot;Cumings, Mrs. …</td><td>&quot;female&quot;</td><td>38.0</td><td>1</td><td>0</td><td>&quot;PC 17599&quot;</td><td>71.2833</td><td>&quot;C85&quot;</td><td>&quot;C&quot;</td></tr><tr><td>2</td><td>3</td><td>1</td><td>3</td><td>&quot;Heikkinen, Mis…</td><td>&quot;female&quot;</td><td>26.0</td><td>0</td><td>0</td><td>&quot;STON/O2. 31012…</td><td>7.925</td><td>null</td><td>&quot;S&quot;</td></tr></tbody></table></div>"
            ]
          },
          "metadata": {},
          "execution_count": 17
        }
      ]
    },
    {
      "cell_type": "code",
      "source": [
        "df.filter(pl.col('row_nr') < 4)"
      ],
      "metadata": {
        "colab": {
          "base_uri": "https://localhost:8080/",
          "height": 223
        },
        "id": "h-Pt5DbqWHk0",
        "outputId": "c510aad9-4f17-4999-8d97-e9b5e93ede6a"
      },
      "execution_count": null,
      "outputs": [
        {
          "output_type": "execute_result",
          "data": {
            "text/plain": [
              "shape: (4, 13)\n",
              "┌────────┬─────────────┬──────────┬────────┬───┬──────────────────┬─────────┬───────┬──────────┐\n",
              "│ row_nr ┆ PassengerId ┆ Survived ┆ Pclass ┆ … ┆ Ticket           ┆ Fare    ┆ Cabin ┆ Embarked │\n",
              "│ ---    ┆ ---         ┆ ---      ┆ ---    ┆   ┆ ---              ┆ ---     ┆ ---   ┆ ---      │\n",
              "│ u32    ┆ i64         ┆ i64      ┆ i64    ┆   ┆ str              ┆ f64     ┆ str   ┆ str      │\n",
              "╞════════╪═════════════╪══════════╪════════╪═══╪══════════════════╪═════════╪═══════╪══════════╡\n",
              "│ 0      ┆ 1           ┆ 0        ┆ 3      ┆ … ┆ A/5 21171        ┆ 7.25    ┆ null  ┆ S        │\n",
              "│ 1      ┆ 2           ┆ 1        ┆ 1      ┆ … ┆ PC 17599         ┆ 71.2833 ┆ C85   ┆ C        │\n",
              "│ 2      ┆ 3           ┆ 1        ┆ 3      ┆ … ┆ STON/O2. 3101282 ┆ 7.925   ┆ null  ┆ S        │\n",
              "│ 3      ┆ 4           ┆ 1        ┆ 1      ┆ … ┆ 113803           ┆ 53.1    ┆ C123  ┆ S        │\n",
              "└────────┴─────────────┴──────────┴────────┴───┴──────────────────┴─────────┴───────┴──────────┘"
            ],
            "text/html": [
              "<div><style>\n",
              ".dataframe > thead > tr > th,\n",
              ".dataframe > tbody > tr > td {\n",
              "  text-align: right;\n",
              "}\n",
              "</style>\n",
              "<small>shape: (4, 13)</small><table border=\"1\" class=\"dataframe\"><thead><tr><th>row_nr</th><th>PassengerId</th><th>Survived</th><th>Pclass</th><th>Name</th><th>Sex</th><th>Age</th><th>SibSp</th><th>Parch</th><th>Ticket</th><th>Fare</th><th>Cabin</th><th>Embarked</th></tr><tr><td>u32</td><td>i64</td><td>i64</td><td>i64</td><td>str</td><td>str</td><td>f64</td><td>i64</td><td>i64</td><td>str</td><td>f64</td><td>str</td><td>str</td></tr></thead><tbody><tr><td>0</td><td>1</td><td>0</td><td>3</td><td>&quot;Braund, Mr. Ow…</td><td>&quot;male&quot;</td><td>22.0</td><td>1</td><td>0</td><td>&quot;A/5 21171&quot;</td><td>7.25</td><td>null</td><td>&quot;S&quot;</td></tr><tr><td>1</td><td>2</td><td>1</td><td>1</td><td>&quot;Cumings, Mrs. …</td><td>&quot;female&quot;</td><td>38.0</td><td>1</td><td>0</td><td>&quot;PC 17599&quot;</td><td>71.2833</td><td>&quot;C85&quot;</td><td>&quot;C&quot;</td></tr><tr><td>2</td><td>3</td><td>1</td><td>3</td><td>&quot;Heikkinen, Mis…</td><td>&quot;female&quot;</td><td>26.0</td><td>0</td><td>0</td><td>&quot;STON/O2. 31012…</td><td>7.925</td><td>null</td><td>&quot;S&quot;</td></tr><tr><td>3</td><td>4</td><td>1</td><td>1</td><td>&quot;Futrelle, Mrs.…</td><td>&quot;female&quot;</td><td>35.0</td><td>1</td><td>0</td><td>&quot;113803&quot;</td><td>53.1</td><td>&quot;C123&quot;</td><td>&quot;S&quot;</td></tr></tbody></table></div>"
            ]
          },
          "metadata": {},
          "execution_count": 18
        }
      ]
    },
    {
      "cell_type": "markdown",
      "source": [
        "Multiple conditions filtering can be implemented using the AND statement along with chainging calls to the filter method.and\n",
        "\n",
        "**IMPORTANT!** In eager mode chaining creates a new DataFrame after each filter call. It is better to concatenate multiple AND conditions in a single filter call using & operator. As we will see below, the synthax is very similar to pandas."
      ],
      "metadata": {
        "id": "caMfqC2MWeHz"
      }
    },
    {
      "cell_type": "code",
      "source": [
        "# An example of chaining multiple AND conditions without concatenation (e.g. bad implementation in eager mode)\n",
        "\n",
        "dfFiltered = df.filter(pl.col('Pclass') == 1).filter(pl.col('Age') > 70)\n",
        "dfFiltered.head(3)"
      ],
      "metadata": {
        "colab": {
          "base_uri": "https://localhost:8080/",
          "height": 192
        },
        "id": "4eEWDQRgWk2f",
        "outputId": "5615b715-4a5c-4978-cd48-e1e029461729"
      },
      "execution_count": null,
      "outputs": [
        {
          "output_type": "execute_result",
          "data": {
            "text/plain": [
              "shape: (3, 13)\n",
              "┌────────┬─────────────┬──────────┬────────┬───┬──────────┬─────────┬───────┬──────────┐\n",
              "│ row_nr ┆ PassengerId ┆ Survived ┆ Pclass ┆ … ┆ Ticket   ┆ Fare    ┆ Cabin ┆ Embarked │\n",
              "│ ---    ┆ ---         ┆ ---      ┆ ---    ┆   ┆ ---      ┆ ---     ┆ ---   ┆ ---      │\n",
              "│ u32    ┆ i64         ┆ i64      ┆ i64    ┆   ┆ str      ┆ f64     ┆ str   ┆ str      │\n",
              "╞════════╪═════════════╪══════════╪════════╪═══╪══════════╪═════════╪═══════╪══════════╡\n",
              "│ 96     ┆ 97          ┆ 0        ┆ 1      ┆ … ┆ PC 17754 ┆ 34.6542 ┆ A5    ┆ C        │\n",
              "│ 493    ┆ 494         ┆ 0        ┆ 1      ┆ … ┆ PC 17609 ┆ 49.5042 ┆ null  ┆ C        │\n",
              "│ 630    ┆ 631         ┆ 1        ┆ 1      ┆ … ┆ 27042    ┆ 30.0    ┆ A23   ┆ S        │\n",
              "└────────┴─────────────┴──────────┴────────┴───┴──────────┴─────────┴───────┴──────────┘"
            ],
            "text/html": [
              "<div><style>\n",
              ".dataframe > thead > tr > th,\n",
              ".dataframe > tbody > tr > td {\n",
              "  text-align: right;\n",
              "}\n",
              "</style>\n",
              "<small>shape: (3, 13)</small><table border=\"1\" class=\"dataframe\"><thead><tr><th>row_nr</th><th>PassengerId</th><th>Survived</th><th>Pclass</th><th>Name</th><th>Sex</th><th>Age</th><th>SibSp</th><th>Parch</th><th>Ticket</th><th>Fare</th><th>Cabin</th><th>Embarked</th></tr><tr><td>u32</td><td>i64</td><td>i64</td><td>i64</td><td>str</td><td>str</td><td>f64</td><td>i64</td><td>i64</td><td>str</td><td>f64</td><td>str</td><td>str</td></tr></thead><tbody><tr><td>96</td><td>97</td><td>0</td><td>1</td><td>&quot;Goldschmidt, M…</td><td>&quot;male&quot;</td><td>71.0</td><td>0</td><td>0</td><td>&quot;PC 17754&quot;</td><td>34.6542</td><td>&quot;A5&quot;</td><td>&quot;C&quot;</td></tr><tr><td>493</td><td>494</td><td>0</td><td>1</td><td>&quot;Artagaveytia, …</td><td>&quot;male&quot;</td><td>71.0</td><td>0</td><td>0</td><td>&quot;PC 17609&quot;</td><td>49.5042</td><td>null</td><td>&quot;C&quot;</td></tr><tr><td>630</td><td>631</td><td>1</td><td>1</td><td>&quot;Barkworth, Mr.…</td><td>&quot;male&quot;</td><td>80.0</td><td>0</td><td>0</td><td>&quot;27042&quot;</td><td>30.0</td><td>&quot;A23&quot;</td><td>&quot;S&quot;</td></tr></tbody></table></div>"
            ]
          },
          "metadata": {},
          "execution_count": 21
        }
      ]
    },
    {
      "cell_type": "code",
      "source": [
        "# An example of chaining multiple AND conditions with concatenatio (e.g. good implementation in eager mode)\n",
        "\n",
        "df.filter((pl.col('Age') > 70) & (pl.col('Pclass') == 1)) "
      ],
      "metadata": {
        "colab": {
          "base_uri": "https://localhost:8080/",
          "height": 192
        },
        "id": "fgUonTdIWk5A",
        "outputId": "8d8c6c3a-4c0f-45ca-9ac8-5653d758e62c"
      },
      "execution_count": null,
      "outputs": [
        {
          "output_type": "execute_result",
          "data": {
            "text/plain": [
              "shape: (3, 13)\n",
              "┌────────┬─────────────┬──────────┬────────┬───┬──────────┬─────────┬───────┬──────────┐\n",
              "│ row_nr ┆ PassengerId ┆ Survived ┆ Pclass ┆ … ┆ Ticket   ┆ Fare    ┆ Cabin ┆ Embarked │\n",
              "│ ---    ┆ ---         ┆ ---      ┆ ---    ┆   ┆ ---      ┆ ---     ┆ ---   ┆ ---      │\n",
              "│ u32    ┆ i64         ┆ i64      ┆ i64    ┆   ┆ str      ┆ f64     ┆ str   ┆ str      │\n",
              "╞════════╪═════════════╪══════════╪════════╪═══╪══════════╪═════════╪═══════╪══════════╡\n",
              "│ 96     ┆ 97          ┆ 0        ┆ 1      ┆ … ┆ PC 17754 ┆ 34.6542 ┆ A5    ┆ C        │\n",
              "│ 493    ┆ 494         ┆ 0        ┆ 1      ┆ … ┆ PC 17609 ┆ 49.5042 ┆ null  ┆ C        │\n",
              "│ 630    ┆ 631         ┆ 1        ┆ 1      ┆ … ┆ 27042    ┆ 30.0    ┆ A23   ┆ S        │\n",
              "└────────┴─────────────┴──────────┴────────┴───┴──────────┴─────────┴───────┴──────────┘"
            ],
            "text/html": [
              "<div><style>\n",
              ".dataframe > thead > tr > th,\n",
              ".dataframe > tbody > tr > td {\n",
              "  text-align: right;\n",
              "}\n",
              "</style>\n",
              "<small>shape: (3, 13)</small><table border=\"1\" class=\"dataframe\"><thead><tr><th>row_nr</th><th>PassengerId</th><th>Survived</th><th>Pclass</th><th>Name</th><th>Sex</th><th>Age</th><th>SibSp</th><th>Parch</th><th>Ticket</th><th>Fare</th><th>Cabin</th><th>Embarked</th></tr><tr><td>u32</td><td>i64</td><td>i64</td><td>i64</td><td>str</td><td>str</td><td>f64</td><td>i64</td><td>i64</td><td>str</td><td>f64</td><td>str</td><td>str</td></tr></thead><tbody><tr><td>96</td><td>97</td><td>0</td><td>1</td><td>&quot;Goldschmidt, M…</td><td>&quot;male&quot;</td><td>71.0</td><td>0</td><td>0</td><td>&quot;PC 17754&quot;</td><td>34.6542</td><td>&quot;A5&quot;</td><td>&quot;C&quot;</td></tr><tr><td>493</td><td>494</td><td>0</td><td>1</td><td>&quot;Artagaveytia, …</td><td>&quot;male&quot;</td><td>71.0</td><td>0</td><td>0</td><td>&quot;PC 17609&quot;</td><td>49.5042</td><td>null</td><td>&quot;C&quot;</td></tr><tr><td>630</td><td>631</td><td>1</td><td>1</td><td>&quot;Barkworth, Mr.…</td><td>&quot;male&quot;</td><td>80.0</td><td>0</td><td>0</td><td>&quot;27042&quot;</td><td>30.0</td><td>&quot;A23&quot;</td><td>&quot;S&quot;</td></tr></tbody></table></div>"
            ]
          },
          "metadata": {},
          "execution_count": 22
        }
      ]
    },
    {
      "cell_type": "markdown",
      "source": [
        "### Filtering in Lazy mode"
      ],
      "metadata": {
        "id": "U00xRVeoWk7p"
      }
    },
    {
      "cell_type": "code",
      "source": [
        "# Read the data again in Lazy mode\n",
        "\n",
        "dfLazy = pl.scan_csv(csv_file)\n",
        "dfLazy"
      ],
      "metadata": {
        "colab": {
          "base_uri": "https://localhost:8080/",
          "height": 168
        },
        "id": "UlRBTe1cWk9o",
        "outputId": "2e26c24b-f07b-4b9f-9afa-f4fd30ffc890"
      },
      "execution_count": null,
      "outputs": [
        {
          "output_type": "execute_result",
          "data": {
            "text/plain": [
              "<polars.LazyFrame object at 0x7F03A0B951C0>"
            ],
            "text/html": [
              "<h4>NAIVE QUERY PLAN</h4><p>run <b>LazyFrame.show_graph()</b> to see the optimized version</p><?xml version=\"1.0\" encoding=\"UTF-8\" standalone=\"no\"?>\n",
              "<!DOCTYPE svg PUBLIC \"-//W3C//DTD SVG 1.1//EN\"\n",
              " \"http://www.w3.org/Graphics/SVG/1.1/DTD/svg11.dtd\">\n",
              "<!-- Generated by graphviz version 2.43.0 (0)\n",
              " -->\n",
              "<!-- Title: polars_query Pages: 1 -->\n",
              "<svg width=\"162pt\" height=\"61pt\"\n",
              " viewBox=\"0.00 0.00 162.00 61.00\" xmlns=\"http://www.w3.org/2000/svg\" xmlns:xlink=\"http://www.w3.org/1999/xlink\">\n",
              "<g id=\"graph0\" class=\"graph\" transform=\"scale(1 1) rotate(0) translate(4 57)\">\n",
              "<title>polars_query</title>\n",
              "<polygon fill=\"white\" stroke=\"transparent\" points=\"-4,4 -4,-57 158,-57 158,4 -4,4\"/>\n",
              "<!-- [CSV SCAN Titanic.csv;\n",
              "π */12;\n",
              "σ &#45;] -->\n",
              "<g id=\"node1\" class=\"node\">\n",
              "<title>[CSV SCAN Titanic.csv;\n",
              "π */12;\n",
              "σ &#45;]</title>\n",
              "<polygon fill=\"none\" stroke=\"black\" points=\"154,-53 0,-53 0,0 154,0 154,-53\"/>\n",
              "<text text-anchor=\"middle\" x=\"77\" y=\"-37.8\" font-family=\"Times,serif\" font-size=\"14.00\">[CSV SCAN Titanic.csv;</text>\n",
              "<text text-anchor=\"middle\" x=\"77\" y=\"-22.8\" font-family=\"Times,serif\" font-size=\"14.00\">π */12;</text>\n",
              "<text text-anchor=\"middle\" x=\"77\" y=\"-7.8\" font-family=\"Times,serif\" font-size=\"14.00\">σ &#45;]</text>\n",
              "</g>\n",
              "</g>\n",
              "</svg>\n"
            ]
          },
          "metadata": {},
          "execution_count": 25
        }
      ]
    },
    {
      "cell_type": "markdown",
      "source": [
        "When we apply filter in lazy mode, a FILTER line is added to the naive query plan in polars LazyFrame. Note that all query pland are read from bottom to top."
      ],
      "metadata": {
        "id": "sQd5InSjWlAN"
      }
    },
    {
      "cell_type": "code",
      "source": [
        "dfLazyF = dfLazy.filter(pl.col('Age') > 30)\n",
        "dfLazyF"
      ],
      "metadata": {
        "colab": {
          "base_uri": "https://localhost:8080/",
          "height": 264
        },
        "id": "Myoe07KJYVwp",
        "outputId": "114f0e76-e8c1-423f-a264-6a9385fc45e3"
      },
      "execution_count": null,
      "outputs": [
        {
          "output_type": "execute_result",
          "data": {
            "text/plain": [
              "<polars.LazyFrame object at 0x7F0383968070>"
            ],
            "text/html": [
              "<h4>NAIVE QUERY PLAN</h4><p>run <b>LazyFrame.show_graph()</b> to see the optimized version</p><?xml version=\"1.0\" encoding=\"UTF-8\" standalone=\"no\"?>\n",
              "<!DOCTYPE svg PUBLIC \"-//W3C//DTD SVG 1.1//EN\"\n",
              " \"http://www.w3.org/Graphics/SVG/1.1/DTD/svg11.dtd\">\n",
              "<!-- Generated by graphviz version 2.43.0 (0)\n",
              " -->\n",
              "<!-- Title: polars_query Pages: 1 -->\n",
              "<svg width=\"203pt\" height=\"133pt\"\n",
              " viewBox=\"0.00 0.00 203.00 133.00\" xmlns=\"http://www.w3.org/2000/svg\" xmlns:xlink=\"http://www.w3.org/1999/xlink\">\n",
              "<g id=\"graph0\" class=\"graph\" transform=\"scale(1 1) rotate(0) translate(4 129)\">\n",
              "<title>polars_query</title>\n",
              "<polygon fill=\"white\" stroke=\"transparent\" points=\"-4,4 -4,-129 199,-129 199,4 -4,4\"/>\n",
              "<!-- FILTER BY (col(&quot;Age&quot;)) &gt; (30) [(0, 0)] -->\n",
              "<g id=\"node1\" class=\"node\">\n",
              "<title>FILTER BY (col(&quot;Age&quot;)) &gt; (30) [(0, 0)]</title>\n",
              "<polygon fill=\"none\" stroke=\"black\" points=\"195,-125 0,-125 0,-89 195,-89 195,-125\"/>\n",
              "<text text-anchor=\"middle\" x=\"97.5\" y=\"-103.3\" font-family=\"Times,serif\" font-size=\"14.00\">FILTER BY (col(&quot;Age&quot;)) &gt; (30)</text>\n",
              "</g>\n",
              "<!-- CSV SCAN Titanic.csv;\n",
              "π */12;\n",
              "σ &#45; [(0, 1)] -->\n",
              "<g id=\"node2\" class=\"node\">\n",
              "<title>CSV SCAN Titanic.csv;\n",
              "π */12;\n",
              "σ &#45; [(0, 1)]</title>\n",
              "<polygon fill=\"none\" stroke=\"black\" points=\"172,-53 23,-53 23,0 172,0 172,-53\"/>\n",
              "<text text-anchor=\"middle\" x=\"97.5\" y=\"-37.8\" font-family=\"Times,serif\" font-size=\"14.00\">CSV SCAN Titanic.csv;</text>\n",
              "<text text-anchor=\"middle\" x=\"97.5\" y=\"-22.8\" font-family=\"Times,serif\" font-size=\"14.00\">π */12;</text>\n",
              "<text text-anchor=\"middle\" x=\"97.5\" y=\"-7.8\" font-family=\"Times,serif\" font-size=\"14.00\">σ &#45;</text>\n",
              "</g>\n",
              "<!-- FILTER BY (col(&quot;Age&quot;)) &gt; (30) [(0, 0)]&#45;&#45;CSV SCAN Titanic.csv;\n",
              "π */12;\n",
              "σ &#45; [(0, 1)] -->\n",
              "<g id=\"edge1\" class=\"edge\">\n",
              "<title>FILTER BY (col(&quot;Age&quot;)) &gt; (30) [(0, 0)]&#45;&#45;CSV SCAN Titanic.csv;\n",
              "π */12;\n",
              "σ &#45; [(0, 1)]</title>\n",
              "<path fill=\"none\" stroke=\"black\" d=\"M97.5,-88.97C97.5,-78.51 97.5,-64.9 97.5,-53.16\"/>\n",
              "</g>\n",
              "</g>\n",
              "</svg>\n"
            ]
          },
          "metadata": {},
          "execution_count": 30
        }
      ]
    },
    {
      "cell_type": "markdown",
      "source": [
        "In lazy mode if we pass multiple filter conditions then the query optimizer combines them into a single condition inside the SELECTION section. Therefore, it is not essential to combine them manually - polars takes care of it under the hood."
      ],
      "metadata": {
        "id": "5B6EsrXwYVyx"
      }
    },
    {
      "cell_type": "code",
      "source": [
        "dfLazyF = dfLazy.filter(pl.col('Pclass') == 1).filter(pl.col('Age') > 70)\n",
        "print(dfLazyF.describe_optimized_plan())"
      ],
      "metadata": {
        "colab": {
          "base_uri": "https://localhost:8080/"
        },
        "id": "5bSh1tYmYV0o",
        "outputId": "d2318eb1-b47d-4af1-a31e-14ebc60f14dd"
      },
      "execution_count": null,
      "outputs": [
        {
          "output_type": "stream",
          "name": "stdout",
          "text": [
            "\n",
            "  CSV SCAN Titanic.csv\n",
            "  PROJECT */12 COLUMNS\n",
            "  SELECTION: [([(col(\"Pclass\")) == (1)]) & ([(col(\"Age\")) > (70.0)])]\n"
          ]
        }
      ]
    },
    {
      "cell_type": "code",
      "source": [],
      "metadata": {
        "id": "4PxLsYGZYV2o"
      },
      "execution_count": null,
      "outputs": []
    }
  ]
}