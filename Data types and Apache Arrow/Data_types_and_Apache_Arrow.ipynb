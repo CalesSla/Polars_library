{
  "nbformat": 4,
  "nbformat_minor": 0,
  "metadata": {
    "colab": {
      "provenance": []
    },
    "kernelspec": {
      "name": "python3",
      "display_name": "Python 3"
    },
    "language_info": {
      "name": "python"
    }
  },
  "cells": [
    {
      "cell_type": "markdown",
      "source": [
        "# Data types and Apache Arrow"
      ],
      "metadata": {
        "id": "k_RPnj54KoG8"
      }
    },
    {
      "cell_type": "code",
      "source": [
        "import polars as pl\n",
        "\n",
        "csv_file = 'Titanic.csv'\n",
        "\n",
        "df = pl.read_csv(csv_file)"
      ],
      "metadata": {
        "id": "wEcICEpRKuJY"
      },
      "execution_count": null,
      "outputs": []
    },
    {
      "cell_type": "markdown",
      "source": [
        "As in pandas, every column in a polars DataFrame has a datatype (dtype). It can be easily checked with .schema attribute."
      ],
      "metadata": {
        "id": "ehtKEJYkMLpV"
      }
    },
    {
      "cell_type": "code",
      "source": [
        "df.schema"
      ],
      "metadata": {
        "colab": {
          "base_uri": "https://localhost:8080/"
        },
        "id": "okzB_6DrMMYA",
        "outputId": "0f7df2b4-e63f-4054-e801-5a3a063d2f13"
      },
      "execution_count": null,
      "outputs": [
        {
          "output_type": "execute_result",
          "data": {
            "text/plain": [
              "{'PassengerId': Int64,\n",
              " 'Survived': Int64,\n",
              " 'Pclass': Int64,\n",
              " 'Name': Utf8,\n",
              " 'Sex': Utf8,\n",
              " 'Age': Float64,\n",
              " 'SibSp': Int64,\n",
              " 'Parch': Int64,\n",
              " 'Ticket': Utf8,\n",
              " 'Fare': Float64,\n",
              " 'Cabin': Utf8,\n",
              " 'Embarked': Utf8}"
            ]
          },
          "metadata": {},
          "execution_count": 5
        }
      ]
    },
    {
      "cell_type": "markdown",
      "source": [
        "Alternatively, a list of dtypes with no column names can be accessed via dtypes attribute:"
      ],
      "metadata": {
        "id": "pBEizpWIMMag"
      }
    },
    {
      "cell_type": "code",
      "source": [
        "df.dtypes"
      ],
      "metadata": {
        "colab": {
          "base_uri": "https://localhost:8080/"
        },
        "id": "fzT8ZAsqMMcm",
        "outputId": "42f58828-00c6-46df-eb2b-b99a648356a5"
      },
      "execution_count": null,
      "outputs": [
        {
          "output_type": "execute_result",
          "data": {
            "text/plain": [
              "[Int64,\n",
              " Int64,\n",
              " Int64,\n",
              " Utf8,\n",
              " Utf8,\n",
              " Float64,\n",
              " Int64,\n",
              " Int64,\n",
              " Utf8,\n",
              " Float64,\n",
              " Utf8,\n",
              " Utf8]"
            ]
          },
          "metadata": {},
          "execution_count": 6
        }
      ]
    },
    {
      "cell_type": "markdown",
      "source": [
        "### Apache Arrow\n",
        "\n",
        "The key difference is that dtypes in a Series or a DataFrame in polars come from the Apache Arrow, while the data types in pandas are typically a mix on NumPy, Pyhton or some other custom extensions. Apache Arrow represents a better way to represent tabular data in memory. Polars uses the implementation of Arrow from the Rust library - Arrow2. Some of the key advantages of using Arrow:\n",
        "\n",
        "* data sharing without copying (e.g. zero-copy)\n",
        "* faster vectorized calculations\n",
        "* consistent representations of missing data\n",
        "\n",
        "All the above mentioned makes polars faster. Although to_arrow method is available that can translate a polars DataFrame object directly into Arrow object, it is rarely needed in practice and is all done automatically by polars."
      ],
      "metadata": {
        "id": "JTRVTlR1MMep"
      }
    },
    {
      "cell_type": "code",
      "source": [
        "df.to_arrow()"
      ],
      "metadata": {
        "colab": {
          "base_uri": "https://localhost:8080/"
        },
        "id": "kjbiYN-LMMgv",
        "outputId": "ddbf2334-63fe-4432-e137-da2d6bc83032"
      },
      "execution_count": null,
      "outputs": [
        {
          "output_type": "execute_result",
          "data": {
            "text/plain": [
              "pyarrow.Table\n",
              "PassengerId: int64\n",
              "Survived: int64\n",
              "Pclass: int64\n",
              "Name: large_string\n",
              "Sex: large_string\n",
              "Age: double\n",
              "SibSp: int64\n",
              "Parch: int64\n",
              "Ticket: large_string\n",
              "Fare: double\n",
              "Cabin: large_string\n",
              "Embarked: large_string\n",
              "----\n",
              "PassengerId: [[1,2,3,4,5,...,887,888,889,890,891]]\n",
              "Survived: [[0,1,1,1,0,...,0,1,0,1,0]]\n",
              "Pclass: [[3,1,3,1,3,...,2,1,3,1,3]]\n",
              "Name: [[\"Braund, Mr. Owen Harris\",\"Cumings, Mrs. John Bradley (Florence Briggs Thayer)\",\"Heikkinen, Miss. Laina\",\"Futrelle, Mrs. Jacques Heath (Lily May Peel)\",\"Allen, Mr. William Henry\",...,\"Montvila, Rev. Juozas\",\"Graham, Miss. Margaret Edith\",\"Johnston, Miss. Catherine Helen \"Carrie\"\",\"Behr, Mr. Karl Howell\",\"Dooley, Mr. Patrick\"]]\n",
              "Sex: [[\"male\",\"female\",\"female\",\"female\",\"male\",...,\"male\",\"female\",\"female\",\"male\",\"male\"]]\n",
              "Age: [[22,38,26,35,35,...,27,19,null,26,32]]\n",
              "SibSp: [[1,1,0,1,0,...,0,0,1,0,0]]\n",
              "Parch: [[0,0,0,0,0,...,0,0,2,0,0]]\n",
              "Ticket: [[\"A/5 21171\",\"PC 17599\",\"STON/O2. 3101282\",\"113803\",\"373450\",...,\"211536\",\"112053\",\"W./C. 6607\",\"111369\",\"370376\"]]\n",
              "Fare: [[7.25,71.2833,7.925,53.1,8.05,...,13,30,23.45,30,7.75]]\n",
              "..."
            ]
          },
          "metadata": {},
          "execution_count": 7
        }
      ]
    },
    {
      "cell_type": "code",
      "source": [],
      "metadata": {
        "id": "BDz_fSS6MMio"
      },
      "execution_count": null,
      "outputs": []
    }
  ]
}