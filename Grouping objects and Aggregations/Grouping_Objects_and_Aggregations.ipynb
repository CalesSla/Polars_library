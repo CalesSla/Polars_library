{
  "nbformat": 4,
  "nbformat_minor": 0,
  "metadata": {
    "colab": {
      "provenance": []
    },
    "kernelspec": {
      "name": "python3",
      "display_name": "Python 3"
    },
    "language_info": {
      "name": "python"
    }
  },
  "cells": [
    {
      "cell_type": "code",
      "execution_count": 3,
      "metadata": {
        "colab": {
          "base_uri": "https://localhost:8080/",
          "height": 161
        },
        "id": "IpUpE1lT_Ej0",
        "outputId": "45e665e9-1954-4501-fc84-826bf147873d"
      },
      "outputs": [
        {
          "output_type": "execute_result",
          "data": {
            "text/plain": [
              "shape: (2, 12)\n",
              "┌─────────────┬──────────┬────────┬───────────────────┬───┬───────────┬─────────┬───────┬──────────┐\n",
              "│ PassengerId ┆ Survived ┆ Pclass ┆ Name              ┆ … ┆ Ticket    ┆ Fare    ┆ Cabin ┆ Embarked │\n",
              "│ ---         ┆ ---      ┆ ---    ┆ ---               ┆   ┆ ---       ┆ ---     ┆ ---   ┆ ---      │\n",
              "│ i64         ┆ i64      ┆ i64    ┆ str               ┆   ┆ str       ┆ f64     ┆ str   ┆ str      │\n",
              "╞═════════════╪══════════╪════════╪═══════════════════╪═══╪═══════════╪═════════╪═══════╪══════════╡\n",
              "│ 1           ┆ 0        ┆ 3      ┆ Braund, Mr. Owen  ┆ … ┆ A/5 21171 ┆ 7.25    ┆ null  ┆ S        │\n",
              "│             ┆          ┆        ┆ Harris            ┆   ┆           ┆         ┆       ┆          │\n",
              "│ 2           ┆ 1        ┆ 1      ┆ Cumings, Mrs.     ┆ … ┆ PC 17599  ┆ 71.2833 ┆ C85   ┆ C        │\n",
              "│             ┆          ┆        ┆ John Bradley      ┆   ┆           ┆         ┆       ┆          │\n",
              "│             ┆          ┆        ┆ (Flor…            ┆   ┆           ┆         ┆       ┆          │\n",
              "└─────────────┴──────────┴────────┴───────────────────┴───┴───────────┴─────────┴───────┴──────────┘"
            ],
            "text/html": [
              "<div><style>\n",
              ".dataframe > thead > tr > th,\n",
              ".dataframe > tbody > tr > td {\n",
              "  text-align: right;\n",
              "}\n",
              "</style>\n",
              "<small>shape: (2, 12)</small><table border=\"1\" class=\"dataframe\"><thead><tr><th>PassengerId</th><th>Survived</th><th>Pclass</th><th>Name</th><th>Sex</th><th>Age</th><th>SibSp</th><th>Parch</th><th>Ticket</th><th>Fare</th><th>Cabin</th><th>Embarked</th></tr><tr><td>i64</td><td>i64</td><td>i64</td><td>str</td><td>str</td><td>f64</td><td>i64</td><td>i64</td><td>str</td><td>f64</td><td>str</td><td>str</td></tr></thead><tbody><tr><td>1</td><td>0</td><td>3</td><td>&quot;Braund, Mr. Ow…</td><td>&quot;male&quot;</td><td>22.0</td><td>1</td><td>0</td><td>&quot;A/5 21171&quot;</td><td>7.25</td><td>null</td><td>&quot;S&quot;</td></tr><tr><td>2</td><td>1</td><td>1</td><td>&quot;Cumings, Mrs. …</td><td>&quot;female&quot;</td><td>38.0</td><td>1</td><td>0</td><td>&quot;PC 17599&quot;</td><td>71.2833</td><td>&quot;C85&quot;</td><td>&quot;C&quot;</td></tr></tbody></table></div>"
            ]
          },
          "metadata": {},
          "execution_count": 3
        }
      ],
      "source": [
        "import polars as pl\n",
        "\n",
        "csv_file = 'Titanic.csv'\n",
        "\n",
        "df = pl.read_csv(csv_file)\n",
        "df.head(2)"
      ]
    },
    {
      "cell_type": "markdown",
      "source": [
        "### The groupby object\n",
        "\n",
        "Calling the groupby method with a column creates a GroupBy object."
      ],
      "metadata": {
        "id": "9JbTrWtH_IzD"
      }
    },
    {
      "cell_type": "code",
      "source": [
        "df.groupby('Pclass')"
      ],
      "metadata": {
        "colab": {
          "base_uri": "https://localhost:8080/"
        },
        "id": "zICaGByD_orG",
        "outputId": "e9e746df-9065-4016-fe4d-c14a7810f6ba"
      },
      "execution_count": 4,
      "outputs": [
        {
          "output_type": "execute_result",
          "data": {
            "text/plain": [
              "<polars.dataframe.groupby.GroupBy at 0x7fac7c325a90>"
            ]
          },
          "metadata": {},
          "execution_count": 4
        }
      ]
    },
    {
      "cell_type": "markdown",
      "source": [
        "We can access the DataFrame for each group by looping over a GroupBy object. In the example below we print the mean for each group."
      ],
      "metadata": {
        "id": "6OIJlFHf_r-w"
      }
    },
    {
      "cell_type": "code",
      "source": [
        "for group in df.groupby('Pclass'):\n",
        "  print(group[1].mean())"
      ],
      "metadata": {
        "colab": {
          "base_uri": "https://localhost:8080/"
        },
        "id": "-odkC9DL_-9b",
        "outputId": "2fdfc76f-5b97-41da-f10a-6bb242cd5889"
      },
      "execution_count": 5,
      "outputs": [
        {
          "output_type": "stream",
          "name": "stdout",
          "text": [
            "shape: (1, 12)\n",
            "┌─────────────┬──────────┬────────┬──────┬───┬────────┬───────────┬───────┬──────────┐\n",
            "│ PassengerId ┆ Survived ┆ Pclass ┆ Name ┆ … ┆ Ticket ┆ Fare      ┆ Cabin ┆ Embarked │\n",
            "│ ---         ┆ ---      ┆ ---    ┆ ---  ┆   ┆ ---    ┆ ---       ┆ ---   ┆ ---      │\n",
            "│ f64         ┆ f64      ┆ f64    ┆ str  ┆   ┆ str    ┆ f64       ┆ str   ┆ str      │\n",
            "╞═════════════╪══════════╪════════╪══════╪═══╪════════╪═══════════╪═══════╪══════════╡\n",
            "│ 461.597222  ┆ 0.62963  ┆ 1.0    ┆ null ┆ … ┆ null   ┆ 84.154688 ┆ null  ┆ null     │\n",
            "└─────────────┴──────────┴────────┴──────┴───┴────────┴───────────┴───────┴──────────┘\n",
            "shape: (1, 12)\n",
            "┌─────────────┬──────────┬────────┬──────┬───┬────────┬───────────┬───────┬──────────┐\n",
            "│ PassengerId ┆ Survived ┆ Pclass ┆ Name ┆ … ┆ Ticket ┆ Fare      ┆ Cabin ┆ Embarked │\n",
            "│ ---         ┆ ---      ┆ ---    ┆ ---  ┆   ┆ ---    ┆ ---       ┆ ---   ┆ ---      │\n",
            "│ f64         ┆ f64      ┆ f64    ┆ str  ┆   ┆ str    ┆ f64       ┆ str   ┆ str      │\n",
            "╞═════════════╪══════════╪════════╪══════╪═══╪════════╪═══════════╪═══════╪══════════╡\n",
            "│ 445.956522  ┆ 0.472826 ┆ 2.0    ┆ null ┆ … ┆ null   ┆ 20.662183 ┆ null  ┆ null     │\n",
            "└─────────────┴──────────┴────────┴──────┴───┴────────┴───────────┴───────┴──────────┘\n",
            "shape: (1, 12)\n",
            "┌─────────────┬──────────┬────────┬──────┬───┬────────┬──────────┬───────┬──────────┐\n",
            "│ PassengerId ┆ Survived ┆ Pclass ┆ Name ┆ … ┆ Ticket ┆ Fare     ┆ Cabin ┆ Embarked │\n",
            "│ ---         ┆ ---      ┆ ---    ┆ ---  ┆   ┆ ---    ┆ ---      ┆ ---   ┆ ---      │\n",
            "│ f64         ┆ f64      ┆ f64    ┆ str  ┆   ┆ str    ┆ f64      ┆ str   ┆ str      │\n",
            "╞═════════════╪══════════╪════════╪══════╪═══╪════════╪══════════╪═══════╪══════════╡\n",
            "│ 439.154786  ┆ 0.242363 ┆ 3.0    ┆ null ┆ … ┆ null   ┆ 13.67555 ┆ null  ┆ null     │\n",
            "└─────────────┴──────────┴────────┴──────┴───┴────────┴──────────┴───────┴──────────┘\n"
          ]
        }
      ]
    },
    {
      "cell_type": "markdown",
      "source": [
        "### Group indices and values\n",
        "\n",
        "We get the group keys and the row indices for each group with _groups. Notice however that due to parallelization the order of the groups changes each time. If we want to maintain the same order every time we need to use the maintain_order argument of the groupby method.\n",
        "\n",
        "The head method, when applied on the group data returns the first n rows from each group. In the example below we return 2 rows from each group."
      ],
      "metadata": {
        "id": "asl_kricADki"
      }
    },
    {
      "cell_type": "code",
      "source": [
        "df.groupby('Pclass').head(2)"
      ],
      "metadata": {
        "colab": {
          "base_uri": "https://localhost:8080/",
          "height": 286
        },
        "id": "S6w9-QyqAe8a",
        "outputId": "12f1db92-43b0-4aa8-9365-9500541ed3e1"
      },
      "execution_count": 6,
      "outputs": [
        {
          "output_type": "execute_result",
          "data": {
            "text/plain": [
              "shape: (6, 12)\n",
              "┌────────┬─────────────┬──────────┬───────────────────┬───┬───────────┬─────────┬───────┬──────────┐\n",
              "│ Pclass ┆ PassengerId ┆ Survived ┆ Name              ┆ … ┆ Ticket    ┆ Fare    ┆ Cabin ┆ Embarked │\n",
              "│ ---    ┆ ---         ┆ ---      ┆ ---               ┆   ┆ ---       ┆ ---     ┆ ---   ┆ ---      │\n",
              "│ i64    ┆ i64         ┆ i64      ┆ str               ┆   ┆ str       ┆ f64     ┆ str   ┆ str      │\n",
              "╞════════╪═════════════╪══════════╪═══════════════════╪═══╪═══════════╪═════════╪═══════╪══════════╡\n",
              "│ 2      ┆ 10          ┆ 1        ┆ Nasser, Mrs.      ┆ … ┆ 237736    ┆ 30.0708 ┆ null  ┆ C        │\n",
              "│        ┆             ┆          ┆ Nicholas (Adele   ┆   ┆           ┆         ┆       ┆          │\n",
              "│        ┆             ┆          ┆ Ach…              ┆   ┆           ┆         ┆       ┆          │\n",
              "│ 2      ┆ 16          ┆ 1        ┆ Hewlett, Mrs.     ┆ … ┆ 248706    ┆ 16.0    ┆ null  ┆ S        │\n",
              "│        ┆             ┆          ┆ (Mary D Kingcome) ┆   ┆           ┆         ┆       ┆          │\n",
              "│ 1      ┆ 2           ┆ 1        ┆ Cumings, Mrs.     ┆ … ┆ PC 17599  ┆ 71.2833 ┆ C85   ┆ C        │\n",
              "│        ┆             ┆          ┆ John Bradley      ┆   ┆           ┆         ┆       ┆          │\n",
              "│        ┆             ┆          ┆ (Flor…            ┆   ┆           ┆         ┆       ┆          │\n",
              "│ 1      ┆ 4           ┆ 1        ┆ Futrelle, Mrs.    ┆ … ┆ 113803    ┆ 53.1    ┆ C123  ┆ S        │\n",
              "│        ┆             ┆          ┆ Jacques Heath     ┆   ┆           ┆         ┆       ┆          │\n",
              "│        ┆             ┆          ┆ (Li…              ┆   ┆           ┆         ┆       ┆          │\n",
              "│ 3      ┆ 1           ┆ 0        ┆ Braund, Mr. Owen  ┆ … ┆ A/5 21171 ┆ 7.25    ┆ null  ┆ S        │\n",
              "│        ┆             ┆          ┆ Harris            ┆   ┆           ┆         ┆       ┆          │\n",
              "│ 3      ┆ 3           ┆ 1        ┆ Heikkinen, Miss.  ┆ … ┆ STON/O2.  ┆ 7.925   ┆ null  ┆ S        │\n",
              "│        ┆             ┆          ┆ Laina             ┆   ┆ 3101282   ┆         ┆       ┆          │\n",
              "└────────┴─────────────┴──────────┴───────────────────┴───┴───────────┴─────────┴───────┴──────────┘"
            ],
            "text/html": [
              "<div><style>\n",
              ".dataframe > thead > tr > th,\n",
              ".dataframe > tbody > tr > td {\n",
              "  text-align: right;\n",
              "}\n",
              "</style>\n",
              "<small>shape: (6, 12)</small><table border=\"1\" class=\"dataframe\"><thead><tr><th>Pclass</th><th>PassengerId</th><th>Survived</th><th>Name</th><th>Sex</th><th>Age</th><th>SibSp</th><th>Parch</th><th>Ticket</th><th>Fare</th><th>Cabin</th><th>Embarked</th></tr><tr><td>i64</td><td>i64</td><td>i64</td><td>str</td><td>str</td><td>f64</td><td>i64</td><td>i64</td><td>str</td><td>f64</td><td>str</td><td>str</td></tr></thead><tbody><tr><td>2</td><td>10</td><td>1</td><td>&quot;Nasser, Mrs. N…</td><td>&quot;female&quot;</td><td>14.0</td><td>1</td><td>0</td><td>&quot;237736&quot;</td><td>30.0708</td><td>null</td><td>&quot;C&quot;</td></tr><tr><td>2</td><td>16</td><td>1</td><td>&quot;Hewlett, Mrs. …</td><td>&quot;female&quot;</td><td>55.0</td><td>0</td><td>0</td><td>&quot;248706&quot;</td><td>16.0</td><td>null</td><td>&quot;S&quot;</td></tr><tr><td>1</td><td>2</td><td>1</td><td>&quot;Cumings, Mrs. …</td><td>&quot;female&quot;</td><td>38.0</td><td>1</td><td>0</td><td>&quot;PC 17599&quot;</td><td>71.2833</td><td>&quot;C85&quot;</td><td>&quot;C&quot;</td></tr><tr><td>1</td><td>4</td><td>1</td><td>&quot;Futrelle, Mrs.…</td><td>&quot;female&quot;</td><td>35.0</td><td>1</td><td>0</td><td>&quot;113803&quot;</td><td>53.1</td><td>&quot;C123&quot;</td><td>&quot;S&quot;</td></tr><tr><td>3</td><td>1</td><td>0</td><td>&quot;Braund, Mr. Ow…</td><td>&quot;male&quot;</td><td>22.0</td><td>1</td><td>0</td><td>&quot;A/5 21171&quot;</td><td>7.25</td><td>null</td><td>&quot;S&quot;</td></tr><tr><td>3</td><td>3</td><td>1</td><td>&quot;Heikkinen, Mis…</td><td>&quot;female&quot;</td><td>26.0</td><td>0</td><td>0</td><td>&quot;STON/O2. 31012…</td><td>7.925</td><td>null</td><td>&quot;S&quot;</td></tr></tbody></table></div>"
            ]
          },
          "metadata": {},
          "execution_count": 6
        }
      ]
    },
    {
      "cell_type": "markdown",
      "source": [
        "### Aggregations\n",
        "\n",
        "In eager mode we can call aggregations directly on the groupby object. The aggregation can be applied to both rows and columns."
      ],
      "metadata": {
        "id": "ojIjeGzoAlwu"
      }
    },
    {
      "cell_type": "code",
      "source": [
        "# Rows\n",
        "\n",
        "df.groupby('Pclass').count()"
      ],
      "metadata": {
        "colab": {
          "base_uri": "https://localhost:8080/",
          "height": 192
        },
        "id": "Aimsv4uTDt_L",
        "outputId": "8a3709b4-764f-481c-efdf-029973dcc0da"
      },
      "execution_count": 7,
      "outputs": [
        {
          "output_type": "execute_result",
          "data": {
            "text/plain": [
              "shape: (3, 2)\n",
              "┌────────┬───────┐\n",
              "│ Pclass ┆ count │\n",
              "│ ---    ┆ ---   │\n",
              "│ i64    ┆ u32   │\n",
              "╞════════╪═══════╡\n",
              "│ 3      ┆ 491   │\n",
              "│ 1      ┆ 216   │\n",
              "│ 2      ┆ 184   │\n",
              "└────────┴───────┘"
            ],
            "text/html": [
              "<div><style>\n",
              ".dataframe > thead > tr > th,\n",
              ".dataframe > tbody > tr > td {\n",
              "  text-align: right;\n",
              "}\n",
              "</style>\n",
              "<small>shape: (3, 2)</small><table border=\"1\" class=\"dataframe\"><thead><tr><th>Pclass</th><th>count</th></tr><tr><td>i64</td><td>u32</td></tr></thead><tbody><tr><td>3</td><td>491</td></tr><tr><td>1</td><td>216</td></tr><tr><td>2</td><td>184</td></tr></tbody></table></div>"
            ]
          },
          "metadata": {},
          "execution_count": 7
        }
      ]
    },
    {
      "cell_type": "code",
      "source": [
        "# Columns\n",
        "\n",
        "df.groupby('Pclass').mean()"
      ],
      "metadata": {
        "colab": {
          "base_uri": "https://localhost:8080/",
          "height": 192
        },
        "id": "UPUjgTPbDvNy",
        "outputId": "38d4f390-eec7-414b-98f5-5da9b9ce5723"
      },
      "execution_count": 8,
      "outputs": [
        {
          "output_type": "execute_result",
          "data": {
            "text/plain": [
              "shape: (3, 12)\n",
              "┌────────┬─────────────┬──────────┬──────┬───┬────────┬───────────┬───────┬──────────┐\n",
              "│ Pclass ┆ PassengerId ┆ Survived ┆ Name ┆ … ┆ Ticket ┆ Fare      ┆ Cabin ┆ Embarked │\n",
              "│ ---    ┆ ---         ┆ ---      ┆ ---  ┆   ┆ ---    ┆ ---       ┆ ---   ┆ ---      │\n",
              "│ i64    ┆ f64         ┆ f64      ┆ str  ┆   ┆ str    ┆ f64       ┆ str   ┆ str      │\n",
              "╞════════╪═════════════╪══════════╪══════╪═══╪════════╪═══════════╪═══════╪══════════╡\n",
              "│ 2      ┆ 445.956522  ┆ 0.472826 ┆ null ┆ … ┆ null   ┆ 20.662183 ┆ null  ┆ null     │\n",
              "│ 1      ┆ 461.597222  ┆ 0.62963  ┆ null ┆ … ┆ null   ┆ 84.154687 ┆ null  ┆ null     │\n",
              "│ 3      ┆ 439.154786  ┆ 0.242363 ┆ null ┆ … ┆ null   ┆ 13.67555  ┆ null  ┆ null     │\n",
              "└────────┴─────────────┴──────────┴──────┴───┴────────┴───────────┴───────┴──────────┘"
            ],
            "text/html": [
              "<div><style>\n",
              ".dataframe > thead > tr > th,\n",
              ".dataframe > tbody > tr > td {\n",
              "  text-align: right;\n",
              "}\n",
              "</style>\n",
              "<small>shape: (3, 12)</small><table border=\"1\" class=\"dataframe\"><thead><tr><th>Pclass</th><th>PassengerId</th><th>Survived</th><th>Name</th><th>Sex</th><th>Age</th><th>SibSp</th><th>Parch</th><th>Ticket</th><th>Fare</th><th>Cabin</th><th>Embarked</th></tr><tr><td>i64</td><td>f64</td><td>f64</td><td>str</td><td>str</td><td>f64</td><td>f64</td><td>f64</td><td>str</td><td>f64</td><td>str</td><td>str</td></tr></thead><tbody><tr><td>2</td><td>445.956522</td><td>0.472826</td><td>null</td><td>null</td><td>29.87763</td><td>0.402174</td><td>0.380435</td><td>null</td><td>20.662183</td><td>null</td><td>null</td></tr><tr><td>1</td><td>461.597222</td><td>0.62963</td><td>null</td><td>null</td><td>38.233441</td><td>0.416667</td><td>0.356481</td><td>null</td><td>84.154687</td><td>null</td><td>null</td></tr><tr><td>3</td><td>439.154786</td><td>0.242363</td><td>null</td><td>null</td><td>25.14062</td><td>0.615071</td><td>0.393075</td><td>null</td><td>13.67555</td><td>null</td><td>null</td></tr></tbody></table></div>"
            ]
          },
          "metadata": {},
          "execution_count": 8
        }
      ]
    },
    {
      "cell_type": "markdown",
      "source": [
        "Grouping on multiple columns is also possible of course."
      ],
      "metadata": {
        "id": "ad1-_86pE31U"
      }
    },
    {
      "cell_type": "code",
      "source": [
        "df.groupby(['Pclass', 'Survived']).mean()"
      ],
      "metadata": {
        "colab": {
          "base_uri": "https://localhost:8080/",
          "height": 286
        },
        "id": "kXJ9P1L0E8o0",
        "outputId": "b1466538-7908-4744-ddf0-8d2a8a9f5d1f"
      },
      "execution_count": 9,
      "outputs": [
        {
          "output_type": "execute_result",
          "data": {
            "text/plain": [
              "shape: (6, 12)\n",
              "┌────────┬──────────┬─────────────┬──────┬───┬────────┬───────────┬───────┬──────────┐\n",
              "│ Pclass ┆ Survived ┆ PassengerId ┆ Name ┆ … ┆ Ticket ┆ Fare      ┆ Cabin ┆ Embarked │\n",
              "│ ---    ┆ ---      ┆ ---         ┆ ---  ┆   ┆ ---    ┆ ---       ┆ ---   ┆ ---      │\n",
              "│ i64    ┆ i64      ┆ f64         ┆ str  ┆   ┆ str    ┆ f64       ┆ str   ┆ str      │\n",
              "╞════════╪══════════╪═════════════╪══════╪═══╪════════╪═══════════╪═══════╪══════════╡\n",
              "│ 1      ┆ 1        ┆ 491.772059  ┆ null ┆ … ┆ null   ┆ 95.608029 ┆ null  ┆ null     │\n",
              "│ 2      ┆ 1        ┆ 439.08046   ┆ null ┆ … ┆ null   ┆ 22.0557   ┆ null  ┆ null     │\n",
              "│ 2      ┆ 0        ┆ 452.123711  ┆ null ┆ … ┆ null   ┆ 19.412328 ┆ null  ┆ null     │\n",
              "│ 3      ┆ 1        ┆ 394.058824  ┆ null ┆ … ┆ null   ┆ 13.694887 ┆ null  ┆ null     │\n",
              "│ 1      ┆ 0        ┆ 410.3       ┆ null ┆ … ┆ null   ┆ 64.684008 ┆ null  ┆ null     │\n",
              "│ 3      ┆ 0        ┆ 453.580645  ┆ null ┆ … ┆ null   ┆ 13.669364 ┆ null  ┆ null     │\n",
              "└────────┴──────────┴─────────────┴──────┴───┴────────┴───────────┴───────┴──────────┘"
            ],
            "text/html": [
              "<div><style>\n",
              ".dataframe > thead > tr > th,\n",
              ".dataframe > tbody > tr > td {\n",
              "  text-align: right;\n",
              "}\n",
              "</style>\n",
              "<small>shape: (6, 12)</small><table border=\"1\" class=\"dataframe\"><thead><tr><th>Pclass</th><th>Survived</th><th>PassengerId</th><th>Name</th><th>Sex</th><th>Age</th><th>SibSp</th><th>Parch</th><th>Ticket</th><th>Fare</th><th>Cabin</th><th>Embarked</th></tr><tr><td>i64</td><td>i64</td><td>f64</td><td>str</td><td>str</td><td>f64</td><td>f64</td><td>f64</td><td>str</td><td>f64</td><td>str</td><td>str</td></tr></thead><tbody><tr><td>1</td><td>1</td><td>491.772059</td><td>null</td><td>null</td><td>35.368197</td><td>0.492647</td><td>0.389706</td><td>null</td><td>95.608029</td><td>null</td><td>null</td></tr><tr><td>2</td><td>1</td><td>439.08046</td><td>null</td><td>null</td><td>25.901566</td><td>0.494253</td><td>0.643678</td><td>null</td><td>22.0557</td><td>null</td><td>null</td></tr><tr><td>2</td><td>0</td><td>452.123711</td><td>null</td><td>null</td><td>33.544444</td><td>0.319588</td><td>0.14433</td><td>null</td><td>19.412328</td><td>null</td><td>null</td></tr><tr><td>3</td><td>1</td><td>394.058824</td><td>null</td><td>null</td><td>20.646118</td><td>0.436975</td><td>0.420168</td><td>null</td><td>13.694887</td><td>null</td><td>null</td></tr><tr><td>1</td><td>0</td><td>410.3</td><td>null</td><td>null</td><td>43.695312</td><td>0.2875</td><td>0.3</td><td>null</td><td>64.684008</td><td>null</td><td>null</td></tr><tr><td>3</td><td>0</td><td>453.580645</td><td>null</td><td>null</td><td>26.555556</td><td>0.672043</td><td>0.384409</td><td>null</td><td>13.669364</td><td>null</td><td>null</td></tr></tbody></table></div>"
            ]
          },
          "metadata": {},
          "execution_count": 9
        }
      ]
    },
    {
      "cell_type": "markdown",
      "source": [
        "### Agg method\n",
        "\n",
        "The agg method allowds for more flexibility. Some of the most common methods that can be called on groups include:\n",
        "\n",
        "* first - get the first element of each group\n",
        "* last - get the last element of each group\n",
        "* n_unique - get the number of unique elements in each group\n",
        "* count - get the number of elements in each group\n",
        "* sum - sum the elements in each group\n",
        "* min - get the smallest element in each group\n",
        "* max - get the largest element in each group\n",
        "* mean - get the average of elements in each group\n",
        "* median - get the median in each group\n",
        "* quantile - calculate quantiles in each group\n",
        "\n",
        "We aggregate by caling agg after groupby. Notice that we must use expressions inside agg."
      ],
      "metadata": {
        "id": "TTtkHee2DvQJ"
      }
    },
    {
      "cell_type": "code",
      "source": [
        "# Agg on a single column\n",
        "\n",
        "df.groupby('Pclass').agg(pl.col('Age').mean())"
      ],
      "metadata": {
        "colab": {
          "base_uri": "https://localhost:8080/",
          "height": 192
        },
        "id": "B-d16GngDvSF",
        "outputId": "9468ec9f-93e6-4ed8-87eb-cecb7af1e83b"
      },
      "execution_count": 10,
      "outputs": [
        {
          "output_type": "execute_result",
          "data": {
            "text/plain": [
              "shape: (3, 2)\n",
              "┌────────┬───────────┐\n",
              "│ Pclass ┆ Age       │\n",
              "│ ---    ┆ ---       │\n",
              "│ i64    ┆ f64       │\n",
              "╞════════╪═══════════╡\n",
              "│ 2      ┆ 29.87763  │\n",
              "│ 1      ┆ 38.233441 │\n",
              "│ 3      ┆ 25.14062  │\n",
              "└────────┴───────────┘"
            ],
            "text/html": [
              "<div><style>\n",
              ".dataframe > thead > tr > th,\n",
              ".dataframe > tbody > tr > td {\n",
              "  text-align: right;\n",
              "}\n",
              "</style>\n",
              "<small>shape: (3, 2)</small><table border=\"1\" class=\"dataframe\"><thead><tr><th>Pclass</th><th>Age</th></tr><tr><td>i64</td><td>f64</td></tr></thead><tbody><tr><td>2</td><td>29.87763</td></tr><tr><td>1</td><td>38.233441</td></tr><tr><td>3</td><td>25.14062</td></tr></tbody></table></div>"
            ]
          },
          "metadata": {},
          "execution_count": 10
        }
      ]
    },
    {
      "cell_type": "code",
      "source": [
        "# Agg with sorting\n",
        "\n",
        "df.groupby('Pclass').agg(pl.col('Age').mean()).sort('Pclass')"
      ],
      "metadata": {
        "colab": {
          "base_uri": "https://localhost:8080/",
          "height": 192
        },
        "id": "bgXy0MGWDvUM",
        "outputId": "de0fddbc-00d8-48a3-d0d1-e138e3c4c086"
      },
      "execution_count": 11,
      "outputs": [
        {
          "output_type": "execute_result",
          "data": {
            "text/plain": [
              "shape: (3, 2)\n",
              "┌────────┬───────────┐\n",
              "│ Pclass ┆ Age       │\n",
              "│ ---    ┆ ---       │\n",
              "│ i64    ┆ f64       │\n",
              "╞════════╪═══════════╡\n",
              "│ 1      ┆ 38.233441 │\n",
              "│ 2      ┆ 29.87763  │\n",
              "│ 3      ┆ 25.14062  │\n",
              "└────────┴───────────┘"
            ],
            "text/html": [
              "<div><style>\n",
              ".dataframe > thead > tr > th,\n",
              ".dataframe > tbody > tr > td {\n",
              "  text-align: right;\n",
              "}\n",
              "</style>\n",
              "<small>shape: (3, 2)</small><table border=\"1\" class=\"dataframe\"><thead><tr><th>Pclass</th><th>Age</th></tr><tr><td>i64</td><td>f64</td></tr></thead><tbody><tr><td>1</td><td>38.233441</td></tr><tr><td>2</td><td>29.87763</td></tr><tr><td>3</td><td>25.14062</td></tr></tbody></table></div>"
            ]
          },
          "metadata": {},
          "execution_count": 11
        }
      ]
    },
    {
      "cell_type": "markdown",
      "source": [
        "### Groupby on an expression\n",
        "\n",
        "One of the advantages of grouping by expression instead of a column is that we can transform the column before grouping. For example, if we want to group by the Age column in decates instead of individual years. To do this we must:\n",
        "* Convert the Age column from years to decates\n",
        "* Cast the output to integer\n",
        "* group by the decades"
      ],
      "metadata": {
        "id": "4pcT_6y4DvWT"
      }
    },
    {
      "cell_type": "code",
      "source": [
        "df.groupby((pl.col('Age') / 10).round(0).cast(pl.Int64).alias('Decade')) \\\n",
        "                                             .agg(pl.col('Fare').mean()) \\\n",
        "                                             .sort('Decade', reverse = True)"
      ],
      "metadata": {
        "colab": {
          "base_uri": "https://localhost:8080/",
          "height": 200
        },
        "id": "lTr4qxLqDvYj",
        "outputId": "4daf9b7c-95ec-4b7d-e032-5447968f0248"
      },
      "execution_count": 12,
      "outputs": [
        {
          "output_type": "error",
          "ename": "TypeError",
          "evalue": "ignored",
          "traceback": [
            "\u001b[0;31m---------------------------------------------------------------------------\u001b[0m",
            "\u001b[0;31mTypeError\u001b[0m                                 Traceback (most recent call last)",
            "\u001b[0;32m<ipython-input-12-edd30f35806c>\u001b[0m in \u001b[0;36m<cell line: 1>\u001b[0;34m()\u001b[0m\n\u001b[0;32m----> 1\u001b[0;31m \u001b[0mdf\u001b[0m\u001b[0;34m.\u001b[0m\u001b[0mgroupby\u001b[0m\u001b[0;34m(\u001b[0m\u001b[0;34m(\u001b[0m\u001b[0mpl\u001b[0m\u001b[0;34m.\u001b[0m\u001b[0mcol\u001b[0m\u001b[0;34m(\u001b[0m\u001b[0;34m'Age'\u001b[0m\u001b[0;34m)\u001b[0m \u001b[0;34m/\u001b[0m \u001b[0;36m10\u001b[0m\u001b[0;34m)\u001b[0m\u001b[0;34m.\u001b[0m\u001b[0mround\u001b[0m\u001b[0;34m(\u001b[0m\u001b[0;36m0\u001b[0m\u001b[0;34m)\u001b[0m\u001b[0;34m.\u001b[0m\u001b[0mcast\u001b[0m\u001b[0;34m(\u001b[0m\u001b[0mpl\u001b[0m\u001b[0;34m.\u001b[0m\u001b[0mInt64\u001b[0m\u001b[0;34m)\u001b[0m\u001b[0;34m.\u001b[0m\u001b[0malias\u001b[0m\u001b[0;34m(\u001b[0m\u001b[0;34m'Decade'\u001b[0m\u001b[0;34m)\u001b[0m\u001b[0;34m)\u001b[0m\u001b[0;31m \u001b[0m\u001b[0;31m\\\u001b[0m\u001b[0;34m\u001b[0m\u001b[0;34m\u001b[0m\u001b[0m\n\u001b[0m\u001b[1;32m      2\u001b[0m                                              \u001b[0;34m.\u001b[0m\u001b[0magg\u001b[0m\u001b[0;34m(\u001b[0m\u001b[0mpl\u001b[0m\u001b[0;34m.\u001b[0m\u001b[0mcol\u001b[0m\u001b[0;34m(\u001b[0m\u001b[0;34m'Fare'\u001b[0m\u001b[0;34m)\u001b[0m\u001b[0;34m.\u001b[0m\u001b[0mmean\u001b[0m\u001b[0;34m(\u001b[0m\u001b[0;34m)\u001b[0m\u001b[0;34m)\u001b[0m\u001b[0;31m \u001b[0m\u001b[0;31m\\\u001b[0m\u001b[0;34m\u001b[0m\u001b[0;34m\u001b[0m\u001b[0m\n\u001b[1;32m      3\u001b[0m                                              \u001b[0;34m.\u001b[0m\u001b[0msort\u001b[0m\u001b[0;34m(\u001b[0m\u001b[0;34m'Decade'\u001b[0m\u001b[0;34m,\u001b[0m \u001b[0mreverse\u001b[0m \u001b[0;34m=\u001b[0m \u001b[0;32mTrue\u001b[0m\u001b[0;34m)\u001b[0m\u001b[0;34m\u001b[0m\u001b[0;34m\u001b[0m\u001b[0m\n",
            "\u001b[0;31mTypeError\u001b[0m: sort() got an unexpected keyword argument 'reverse'"
          ]
        }
      ]
    },
    {
      "cell_type": "markdown",
      "source": [
        "### Applying a filter on an aggregation\n",
        "\n",
        "We may want to filter the results after doing the aggregation so that only some of the aggregates appear in the output. In SQL, for example, this is done by using the HAVING clause. In polars this is done by applying an additional filter after calling agg.\n",
        "\n",
        "In the example below we get the average fare by passenger class but only if the average fare is greater than 20."
      ],
      "metadata": {
        "id": "LURYfGwWDvat"
      }
    },
    {
      "cell_type": "code",
      "source": [
        "df.groupby('Pclass') \\\n",
        ".agg(pl.col('Fare').mean()) \\\n",
        ".filter(pl.col('Fare') > 20) \\\n",
        ".sort('Fare')"
      ],
      "metadata": {
        "colab": {
          "base_uri": "https://localhost:8080/",
          "height": 161
        },
        "id": "FhfkNgM_DvdD",
        "outputId": "9b7acd91-18e0-4cc5-ba34-a2722cd5475f"
      },
      "execution_count": 13,
      "outputs": [
        {
          "output_type": "execute_result",
          "data": {
            "text/plain": [
              "shape: (2, 2)\n",
              "┌────────┬───────────┐\n",
              "│ Pclass ┆ Fare      │\n",
              "│ ---    ┆ ---       │\n",
              "│ i64    ┆ f64       │\n",
              "╞════════╪═══════════╡\n",
              "│ 2      ┆ 20.662183 │\n",
              "│ 1      ┆ 84.154687 │\n",
              "└────────┴───────────┘"
            ],
            "text/html": [
              "<div><style>\n",
              ".dataframe > thead > tr > th,\n",
              ".dataframe > tbody > tr > td {\n",
              "  text-align: right;\n",
              "}\n",
              "</style>\n",
              "<small>shape: (2, 2)</small><table border=\"1\" class=\"dataframe\"><thead><tr><th>Pclass</th><th>Fare</th></tr><tr><td>i64</td><td>f64</td></tr></thead><tbody><tr><td>2</td><td>20.662183</td></tr><tr><td>1</td><td>84.154687</td></tr></tbody></table></div>"
            ]
          },
          "metadata": {},
          "execution_count": 13
        }
      ]
    },
    {
      "cell_type": "markdown",
      "source": [
        "### Aggregations in a list\n",
        "\n",
        "We can pass a list to .agg to set out different aggregations. When there are multiple aggregations Polars calculates them in parallel."
      ],
      "metadata": {
        "id": "-BEydTewDvfC"
      }
    },
    {
      "cell_type": "code",
      "source": [
        "df.groupby('Pclass').agg([pl.col('Age').mean(), pl.col('Fare').max()])"
      ],
      "metadata": {
        "colab": {
          "base_uri": "https://localhost:8080/",
          "height": 192
        },
        "id": "3T7W_z7TkXLM",
        "outputId": "27a5acee-624b-4a84-f264-98b314916b70"
      },
      "execution_count": 14,
      "outputs": [
        {
          "output_type": "execute_result",
          "data": {
            "text/plain": [
              "shape: (3, 3)\n",
              "┌────────┬───────────┬──────────┐\n",
              "│ Pclass ┆ Age       ┆ Fare     │\n",
              "│ ---    ┆ ---       ┆ ---      │\n",
              "│ i64    ┆ f64       ┆ f64      │\n",
              "╞════════╪═══════════╪══════════╡\n",
              "│ 1      ┆ 38.233441 ┆ 512.3292 │\n",
              "│ 2      ┆ 29.87763  ┆ 73.5     │\n",
              "│ 3      ┆ 25.14062  ┆ 69.55    │\n",
              "└────────┴───────────┴──────────┘"
            ],
            "text/html": [
              "<div><style>\n",
              ".dataframe > thead > tr > th,\n",
              ".dataframe > tbody > tr > td {\n",
              "  text-align: right;\n",
              "}\n",
              "</style>\n",
              "<small>shape: (3, 3)</small><table border=\"1\" class=\"dataframe\"><thead><tr><th>Pclass</th><th>Age</th><th>Fare</th></tr><tr><td>i64</td><td>f64</td><td>f64</td></tr></thead><tbody><tr><td>1</td><td>38.233441</td><td>512.3292</td></tr><tr><td>2</td><td>29.87763</td><td>73.5</td></tr><tr><td>3</td><td>25.14062</td><td>69.55</td></tr></tbody></table></div>"
            ]
          },
          "metadata": {},
          "execution_count": 14
        }
      ]
    },
    {
      "cell_type": "markdown",
      "source": [
        "### Multiple aggregations on a column\n",
        "\n",
        "Calling multiple aggregations on the same column produces columns of the same name. We use alias to ensure the column names are unique."
      ],
      "metadata": {
        "id": "3NmuN0QxkfTM"
      }
    },
    {
      "cell_type": "code",
      "source": [
        "df.groupby('Pclass').agg([pl.col('Age').min().alias('Age_min'), pl.col('Age').mean().alias('Age_mean'), pl.col('Age').max().alias('Age_max')])"
      ],
      "metadata": {
        "colab": {
          "base_uri": "https://localhost:8080/",
          "height": 192
        },
        "id": "JJZTBEI2lWMD",
        "outputId": "e91b27a2-4dc4-43c0-d43f-045dbb346f82"
      },
      "execution_count": 16,
      "outputs": [
        {
          "output_type": "execute_result",
          "data": {
            "text/plain": [
              "shape: (3, 4)\n",
              "┌────────┬─────────┬───────────┬─────────┐\n",
              "│ Pclass ┆ Age_min ┆ Age_mean  ┆ Age_max │\n",
              "│ ---    ┆ ---     ┆ ---       ┆ ---     │\n",
              "│ i64    ┆ f64     ┆ f64       ┆ f64     │\n",
              "╞════════╪═════════╪═══════════╪═════════╡\n",
              "│ 3      ┆ 0.42    ┆ 25.14062  ┆ 74.0    │\n",
              "│ 1      ┆ 0.92    ┆ 38.233441 ┆ 80.0    │\n",
              "│ 2      ┆ 0.67    ┆ 29.87763  ┆ 70.0    │\n",
              "└────────┴─────────┴───────────┴─────────┘"
            ],
            "text/html": [
              "<div><style>\n",
              ".dataframe > thead > tr > th,\n",
              ".dataframe > tbody > tr > td {\n",
              "  text-align: right;\n",
              "}\n",
              "</style>\n",
              "<small>shape: (3, 4)</small><table border=\"1\" class=\"dataframe\"><thead><tr><th>Pclass</th><th>Age_min</th><th>Age_mean</th><th>Age_max</th></tr><tr><td>i64</td><td>f64</td><td>f64</td><td>f64</td></tr></thead><tbody><tr><td>3</td><td>0.42</td><td>25.14062</td><td>74.0</td></tr><tr><td>1</td><td>0.92</td><td>38.233441</td><td>80.0</td></tr><tr><td>2</td><td>0.67</td><td>29.87763</td><td>70.0</td></tr></tbody></table></div>"
            ]
          },
          "metadata": {},
          "execution_count": 16
        }
      ]
    },
    {
      "cell_type": "markdown",
      "source": [
        "### Same aggregation on multiple columns\n",
        "\n",
        "There are more efficient ways to write code to do multiple columns and/or aggregations in agg. One of them, to do the same aggregation on multiple columns we can loop over the columns in a list comprehension."
      ],
      "metadata": {
        "id": "4g_D7UDnlkM8"
      }
    },
    {
      "cell_type": "code",
      "source": [
        "df.groupby('Pclass').agg([pl.col(colName).mean() for colName in ['Age', 'Fare']])"
      ],
      "metadata": {
        "colab": {
          "base_uri": "https://localhost:8080/",
          "height": 192
        },
        "id": "CryStFlGmIVN",
        "outputId": "6334e2a5-25e0-4603-c664-2b5e7b7f6583"
      },
      "execution_count": 18,
      "outputs": [
        {
          "output_type": "execute_result",
          "data": {
            "text/plain": [
              "shape: (3, 3)\n",
              "┌────────┬───────────┬───────────┐\n",
              "│ Pclass ┆ Age       ┆ Fare      │\n",
              "│ ---    ┆ ---       ┆ ---       │\n",
              "│ i64    ┆ f64       ┆ f64       │\n",
              "╞════════╪═══════════╪═══════════╡\n",
              "│ 3      ┆ 25.14062  ┆ 13.67555  │\n",
              "│ 2      ┆ 29.87763  ┆ 20.662183 │\n",
              "│ 1      ┆ 38.233441 ┆ 84.154687 │\n",
              "└────────┴───────────┴───────────┘"
            ],
            "text/html": [
              "<div><style>\n",
              ".dataframe > thead > tr > th,\n",
              ".dataframe > tbody > tr > td {\n",
              "  text-align: right;\n",
              "}\n",
              "</style>\n",
              "<small>shape: (3, 3)</small><table border=\"1\" class=\"dataframe\"><thead><tr><th>Pclass</th><th>Age</th><th>Fare</th></tr><tr><td>i64</td><td>f64</td><td>f64</td></tr></thead><tbody><tr><td>3</td><td>25.14062</td><td>13.67555</td></tr><tr><td>2</td><td>29.87763</td><td>20.662183</td></tr><tr><td>1</td><td>38.233441</td><td>84.154687</td></tr></tbody></table></div>"
            ]
          },
          "metadata": {},
          "execution_count": 18
        }
      ]
    },
    {
      "cell_type": "markdown",
      "source": [
        "Alternatively, we can also use the methods for selecting multiple columns we met previously including:\n",
        "* Using pl.col\n",
        "* Passing dtype to pl.col\n",
        "* Passing a regex to pl.col"
      ],
      "metadata": {
        "id": "qehAHuBgmVj9"
      }
    },
    {
      "cell_type": "markdown",
      "source": [
        "### Multiple aggregations on multiple columns\n",
        "\n",
        "Using alias is tedious for multiple aggregations on multiple columns. Instead, we add a prefix or suffix to the column name. Here's an example with a suffix."
      ],
      "metadata": {
        "id": "gbLTvAKRnM-l"
      }
    },
    {
      "cell_type": "code",
      "source": [
        "df.groupby('Pclass').agg([pl.col(pl.Float64).mean().suffix('_mean'), pl.col(pl.Float64).min().suffix('_min')])"
      ],
      "metadata": {
        "colab": {
          "base_uri": "https://localhost:8080/",
          "height": 192
        },
        "id": "rPVcUS8-nyre",
        "outputId": "6c4f20ec-5e7d-499a-d310-f4190ec23856"
      },
      "execution_count": 19,
      "outputs": [
        {
          "output_type": "execute_result",
          "data": {
            "text/plain": [
              "shape: (3, 5)\n",
              "┌────────┬───────────┬───────────┬─────────┬──────────┐\n",
              "│ Pclass ┆ Age_mean  ┆ Fare_mean ┆ Age_min ┆ Fare_min │\n",
              "│ ---    ┆ ---       ┆ ---       ┆ ---     ┆ ---      │\n",
              "│ i64    ┆ f64       ┆ f64       ┆ f64     ┆ f64      │\n",
              "╞════════╪═══════════╪═══════════╪═════════╪══════════╡\n",
              "│ 3      ┆ 25.14062  ┆ 13.67555  ┆ 0.42    ┆ 0.0      │\n",
              "│ 2      ┆ 29.87763  ┆ 20.662183 ┆ 0.67    ┆ 0.0      │\n",
              "│ 1      ┆ 38.233441 ┆ 84.154687 ┆ 0.92    ┆ 0.0      │\n",
              "└────────┴───────────┴───────────┴─────────┴──────────┘"
            ],
            "text/html": [
              "<div><style>\n",
              ".dataframe > thead > tr > th,\n",
              ".dataframe > tbody > tr > td {\n",
              "  text-align: right;\n",
              "}\n",
              "</style>\n",
              "<small>shape: (3, 5)</small><table border=\"1\" class=\"dataframe\"><thead><tr><th>Pclass</th><th>Age_mean</th><th>Fare_mean</th><th>Age_min</th><th>Fare_min</th></tr><tr><td>i64</td><td>f64</td><td>f64</td><td>f64</td><td>f64</td></tr></thead><tbody><tr><td>3</td><td>25.14062</td><td>13.67555</td><td>0.42</td><td>0.0</td></tr><tr><td>2</td><td>29.87763</td><td>20.662183</td><td>0.67</td><td>0.0</td></tr><tr><td>1</td><td>38.233441</td><td>84.154687</td><td>0.92</td><td>0.0</td></tr></tbody></table></div>"
            ]
          },
          "metadata": {},
          "execution_count": 19
        }
      ]
    },
    {
      "cell_type": "markdown",
      "source": [
        "### Creating a LazyGroupBy object\n",
        "\n",
        "We create a LazyGroupBy object by calling groupby on a LazyFrame."
      ],
      "metadata": {
        "id": "BXjb9hLMoCuS"
      }
    },
    {
      "cell_type": "code",
      "source": [
        "pl.scan_csv(csv_file).groupby('Pclass')"
      ],
      "metadata": {
        "colab": {
          "base_uri": "https://localhost:8080/"
        },
        "id": "TxO3OHxzoxf2",
        "outputId": "80db30e5-329e-45f6-e975-848c01b77145"
      },
      "execution_count": 21,
      "outputs": [
        {
          "output_type": "execute_result",
          "data": {
            "text/plain": [
              "<polars.lazyframe.groupby.LazyGroupBy at 0x7fac5a2646a0>"
            ]
          },
          "metadata": {},
          "execution_count": 21
        }
      ]
    },
    {
      "cell_type": "markdown",
      "source": [
        "The only way to do aggregations on lazy groupby object is by using the agg method. Calling agg converts a LazyGroupBy to a LazyFrame."
      ],
      "metadata": {
        "id": "vDTPAdc-o1iV"
      }
    },
    {
      "cell_type": "code",
      "source": [
        "pl.scan_csv(csv_file).groupby('Pclass').agg(pl.col('Age').mean())"
      ],
      "metadata": {
        "colab": {
          "base_uri": "https://localhost:8080/",
          "height": 287
        },
        "id": "ykmgbZbppDb9",
        "outputId": "c0a72e6a-6f51-4e46-9087-b817289e056a"
      },
      "execution_count": 23,
      "outputs": [
        {
          "output_type": "execute_result",
          "data": {
            "text/plain": [
              "<polars.LazyFrame object at 0x7FAC5A399A60>"
            ],
            "text/html": [
              "<h4>NAIVE QUERY PLAN</h4><p>run <b>LazyFrame.show_graph()</b> to see the optimized version</p><?xml version=\"1.0\" encoding=\"UTF-8\" standalone=\"no\"?>\n",
              "<!DOCTYPE svg PUBLIC \"-//W3C//DTD SVG 1.1//EN\"\n",
              " \"http://www.w3.org/Graphics/SVG/1.1/DTD/svg11.dtd\">\n",
              "<!-- Generated by graphviz version 2.43.0 (0)\n",
              " -->\n",
              "<!-- Title: polars_query Pages: 1 -->\n",
              "<svg width=\"169pt\" height=\"150pt\"\n",
              " viewBox=\"0.00 0.00 169.00 150.00\" xmlns=\"http://www.w3.org/2000/svg\" xmlns:xlink=\"http://www.w3.org/1999/xlink\">\n",
              "<g id=\"graph0\" class=\"graph\" transform=\"scale(1 1) rotate(0) translate(4 146)\">\n",
              "<title>polars_query</title>\n",
              "<polygon fill=\"white\" stroke=\"transparent\" points=\"-4,4 -4,-146 165,-146 165,4 -4,4\"/>\n",
              "<!-- AGG [col(&quot;Age&quot;).mean()]\n",
              "BY\n",
              "[col(&quot;Pclass&quot;)] [(0, 0)] [(0, 0)] -->\n",
              "<g id=\"node1\" class=\"node\">\n",
              "<title>AGG [col(&quot;Age&quot;).mean()]\n",
              "BY\n",
              "[col(&quot;Pclass&quot;)] [(0, 0)] [(0, 0)]</title>\n",
              "<polygon fill=\"none\" stroke=\"black\" points=\"161,-142 0,-142 0,-89 161,-89 161,-142\"/>\n",
              "<text text-anchor=\"middle\" x=\"80.5\" y=\"-126.8\" font-family=\"Times,serif\" font-size=\"14.00\">AGG [col(&quot;Age&quot;).mean()]</text>\n",
              "<text text-anchor=\"middle\" x=\"80.5\" y=\"-111.8\" font-family=\"Times,serif\" font-size=\"14.00\">BY</text>\n",
              "<text text-anchor=\"middle\" x=\"80.5\" y=\"-96.8\" font-family=\"Times,serif\" font-size=\"14.00\">[col(&quot;Pclass&quot;)] [(0, 0)]</text>\n",
              "</g>\n",
              "<!-- CSV SCAN Titanic.csv;\n",
              "π */12;\n",
              "σ &#45; [(0, 1)] -->\n",
              "<g id=\"node2\" class=\"node\">\n",
              "<title>CSV SCAN Titanic.csv;\n",
              "π */12;\n",
              "σ &#45; [(0, 1)]</title>\n",
              "<polygon fill=\"none\" stroke=\"black\" points=\"155,-53 6,-53 6,0 155,0 155,-53\"/>\n",
              "<text text-anchor=\"middle\" x=\"80.5\" y=\"-37.8\" font-family=\"Times,serif\" font-size=\"14.00\">CSV SCAN Titanic.csv;</text>\n",
              "<text text-anchor=\"middle\" x=\"80.5\" y=\"-22.8\" font-family=\"Times,serif\" font-size=\"14.00\">π */12;</text>\n",
              "<text text-anchor=\"middle\" x=\"80.5\" y=\"-7.8\" font-family=\"Times,serif\" font-size=\"14.00\">σ &#45;</text>\n",
              "</g>\n",
              "<!-- AGG [col(&quot;Age&quot;).mean()]\n",
              "BY\n",
              "[col(&quot;Pclass&quot;)] [(0, 0)] [(0, 0)]&#45;&#45;CSV SCAN Titanic.csv;\n",
              "π */12;\n",
              "σ &#45; [(0, 1)] -->\n",
              "<g id=\"edge1\" class=\"edge\">\n",
              "<title>AGG [col(&quot;Age&quot;).mean()]\n",
              "BY\n",
              "[col(&quot;Pclass&quot;)] [(0, 0)] [(0, 0)]&#45;&#45;CSV SCAN Titanic.csv;\n",
              "π */12;\n",
              "σ &#45; [(0, 1)]</title>\n",
              "<path fill=\"none\" stroke=\"black\" d=\"M80.5,-88.87C80.5,-77.64 80.5,-64.49 80.5,-53.25\"/>\n",
              "</g>\n",
              "</g>\n",
              "</svg>\n"
            ]
          },
          "metadata": {},
          "execution_count": 23
        }
      ]
    },
    {
      "cell_type": "markdown",
      "source": [
        "### Optimized plan example"
      ],
      "metadata": {
        "id": "JyyNIWPIpJz1"
      }
    },
    {
      "cell_type": "code",
      "source": [
        "print(pl.scan_csv(csv_file).groupby('Pclass').agg(pl.col('Age').mean()).describe_optimized_plan().replace('FROM ', 'FROM\\n'))"
      ],
      "metadata": {
        "colab": {
          "base_uri": "https://localhost:8080/"
        },
        "id": "-P8hxfGNpVIt",
        "outputId": "5e4cbf13-7d4e-4b53-c74e-5272e50f41df"
      },
      "execution_count": 25,
      "outputs": [
        {
          "output_type": "stream",
          "name": "stdout",
          "text": [
            "AGGREGATE\n",
            "\t[col(\"Age\").mean()] BY [col(\"Pclass\")] FROM\n",
            "\t\n",
            "  CSV SCAN Titanic.csv\n",
            "  PROJECT 2/12 COLUMNS\n"
          ]
        },
        {
          "output_type": "stream",
          "name": "stderr",
          "text": [
            "<ipython-input-25-340d12014c3f>:1: DeprecationWarning: `LazyFrame.describe_optimized_plan` has been deprecated; Please use `LazyFrame.explain` instead\n",
            "  print(pl.scan_csv(csv_file).groupby('Pclass').agg(pl.col('Age').mean()).describe_optimized_plan().replace('FROM ', 'FROM\\n'))\n"
          ]
        }
      ]
    },
    {
      "cell_type": "code",
      "source": [],
      "metadata": {
        "id": "Wv3PeTVepj6E"
      },
      "execution_count": null,
      "outputs": []
    }
  ]
}